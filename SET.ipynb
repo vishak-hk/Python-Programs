{
 "cells": [
  {
   "cell_type": "markdown",
   "id": "6c9e3125",
   "metadata": {},
   "source": [
    "### 1. Write a Python program to find the Cartesian product of two sets."
   ]
  },
  {
   "cell_type": "code",
   "execution_count": 3,
   "id": "7be4c97a",
   "metadata": {},
   "outputs": [
    {
     "name": "stdout",
     "output_type": "stream",
     "text": [
      "{(1, 'b'), (1, 'a'), (2, 'b'), (2, 'a')}\n"
     ]
    }
   ],
   "source": [
    "# Example Input: Set1 = {1, 2}, Set2 = {'a', 'b'}\n",
    "# Example Output: {(1, 'a'), (1, 'b'), (2, 'a'), (2, 'b')}\n",
    "\n",
    "from itertools import product\n",
    "\n",
    "set1 = {1, 2}\n",
    "set2 = {'a', 'b'}\n",
    "\n",
    "cartesian_product = set(product(set1, set2))\n",
    "\n",
    "print(cartesian_product)"
   ]
  },
  {
   "cell_type": "markdown",
   "id": "934bbdb2",
   "metadata": {},
   "source": [
    "### 2. Write a Python program to check if two sets are disjoint (have no common elements)."
   ]
  },
  {
   "cell_type": "code",
   "execution_count": 18,
   "id": "313c71c2",
   "metadata": {},
   "outputs": [
    {
     "name": "stdout",
     "output_type": "stream",
     "text": [
      "Enter elements for Set1 (comma-separated): 1,2,3,4\n",
      "Enter elements for Set2 (comma-separated): 4, 6, 7, 8\n",
      "False\n"
     ]
    }
   ],
   "source": [
    "# Example Input: Set1 = {1, 2, 3}, Set2 = {4, 5, 6}\n",
    "# Example Output: True\n",
    "\n",
    "Set1_input = input(\"Enter elements for Set1 (comma-separated): \")\n",
    "Set2_input = input(\"Enter elements for Set2 (comma-separated): \")\n",
    "\n",
    "Set1 = set(map(int, Set1_input.split(',')))\n",
    "Set2 = set(map(int, Set2_input.split(',')))\n",
    "\n",
    "intersection = Set1 & Set2\n",
    "\n",
    "if intersection == set():\n",
    "    print(True)\n",
    "else:\n",
    "    print(False)"
   ]
  },
  {
   "cell_type": "markdown",
   "id": "186996eb",
   "metadata": {},
   "source": [
    "### 3. Write a Python program to implement the power set (all possible subsets) of a given set."
   ]
  },
  {
   "cell_type": "code",
   "execution_count": 1,
   "id": "d5cfb1a0",
   "metadata": {},
   "outputs": [
    {
     "name": "stdout",
     "output_type": "stream",
     "text": [
      "[set(), {1}, {2}, {3}, {1, 2}, {1, 3}, {2, 3}, {1, 2, 3}]\n"
     ]
    }
   ],
   "source": [
    "# Example Input: {1, 2, 3}\n",
    "# Example Output: {{}, {1}, {2}, {3}, {1, 2}, {1, 3}, {2, 3}, {1, 2, 3}}\n",
    "\n",
    "from itertools import combinations\n",
    "\n",
    "input_set = {1, 2, 3}\n",
    "temp_list = []\n",
    "\n",
    "for i in range(len(input_set) + 1):\n",
    "    temp_list.append(list(combinations(input_set, i)))\n",
    "\n",
    "lst = [item for items in temp_list for item in items]\n",
    "\n",
    "result = [set(subset) for subset in lst]\n",
    "        \n",
    "print(result)"
   ]
  },
  {
   "cell_type": "markdown",
   "id": "82a553fd",
   "metadata": {},
   "source": [
    "### 4. Write a Python program to find the longest consecutive subsequence in a set."
   ]
  },
  {
   "cell_type": "code",
   "execution_count": 3,
   "id": "583ba8c7",
   "metadata": {},
   "outputs": [
    {
     "name": "stdout",
     "output_type": "stream",
     "text": [
      "{1, 2, 3, 4}\n"
     ]
    }
   ],
   "source": [
    "# Example Input: {100, 4, 200, 1, 3, 2}\n",
    "# Example Output: {1, 2, 3, 4}\n",
    "\n",
    "input_set = {100, 4, 200, 1, 3, 99, 2, 101}\n",
    "input_list = list(input_set)\n",
    "actual_list = []\n",
    "\n",
    "while len(input_list) != 0:\n",
    "    lst = []\n",
    "    for item in input_list:\n",
    "        if len(lst) == 0 or len(lst) == 1:\n",
    "            lst.append(item)\n",
    "            input_list.remove(item)\n",
    "            for num in input_list:\n",
    "                if num == item + 1 or num == item - 1:\n",
    "                    lst.append(num)\n",
    "                    input_list.remove(num)\n",
    "        else:\n",
    "            min = lst[0]\n",
    "            max = lst[-1]\n",
    "            for num in input_list:\n",
    "                if num == max + 1 or num == min - 1:\n",
    "                    lst.append(num)\n",
    "                    input_list.remove(num)\n",
    "                \n",
    "        lst = sorted(lst)\n",
    "    actual_list.append(lst)\n",
    "\n",
    "max = len(actual_list[0])\n",
    "for seq_list in actual_list:\n",
    "    if max <= len(seq_list):\n",
    "        max = len(seq_list)\n",
    "        \n",
    "for seq_list in actual_list:\n",
    "    if len(seq_list) == max:\n",
    "        print(set(seq_list))\n",
    "        break"
   ]
  },
  {
   "cell_type": "markdown",
   "id": "f4a0caa6",
   "metadata": {},
   "source": [
    "### 5. Write a Python program to find the number of elements in the largest subset of a set where no two elements are adjacent to each other."
   ]
  },
  {
   "cell_type": "code",
   "execution_count": null,
   "id": "7a78dcb3",
   "metadata": {},
   "outputs": [],
   "source": [
    "# Example Input: {1, 2, 3, 4, 5}\n",
    "# Example Output: 3 (Subset: {1, 3, 5})\n",
    "\n",
    "input_set = {1, 2, 3, 4, 5}\n",
    "input_list = sorted(input_set)\n",
    "\n",
    "even_index_list = []\n",
    "odd_index_list = []\n",
    "\n",
    "for index in range(len(input_list)):\n",
    "    if index % 2 == 0:\n",
    "        even_index_list.append(input_list[index])\n",
    "    else:\n",
    "        odd_index_list.append(input_list[index])\n",
    "        \n",
    "if len(even_index_list) < len(odd_index_list):\n",
    "    print(len(odd_index_list), f\"(Subset: {set(odd_index_list)})\")\n",
    "else:\n",
    "    print(len(even_index_list), f\"(Subset: {set(even_index_list)})\")"
   ]
  },
  {
   "cell_type": "markdown",
   "id": "6f7e7cfe",
   "metadata": {},
   "source": [
    "### 6. Write a Python program to perform set operations on a list of sets (union, intersection, difference)."
   ]
  },
  {
   "cell_type": "code",
   "execution_count": 9,
   "id": "f73be62c",
   "metadata": {},
   "outputs": [
    {
     "name": "stdout",
     "output_type": "stream",
     "text": [
      "Union: {1, 2, 3, 4, 5, 6, 7}\n",
      "Intersection: set()\n",
      "Difference (set1 - set2 - set3): {1, 2}\n"
     ]
    }
   ],
   "source": [
    "# Example Input: [set1, set2, set3] where set1 = {1, 2, 3}, set2 = {3, 4, 5}, set3 = {5, 6, 7}\n",
    "# Example Output:\n",
    "# Union: {1, 2, 3, 4, 5, 6, 7}\n",
    "# Intersection: {}\n",
    "# Difference (set1 - set2 - set3): {1, 2}\n",
    "\n",
    "set1 = {1, 2, 3}\n",
    "set2 = {3, 4, 5}\n",
    "set3 = {5, 6, 7}\n",
    "set_list = [set1, set2, set3]\n",
    "\n",
    "union_result = set().union(*set_list)\n",
    "\n",
    "intersection_result = set.intersection(*set_list)\n",
    "\n",
    "difference_result = set_list[0].difference(*set_list[1:])\n",
    "\n",
    "print(\"Union:\", union_result)\n",
    "print(\"Intersection:\", intersection_result)\n",
    "print(\"Difference (set1 - set2 - set3):\", difference_result)"
   ]
  },
  {
   "cell_type": "markdown",
   "id": "188946c0",
   "metadata": {},
   "source": [
    "### 7. Write a Python program to find the second smallest element in a set."
   ]
  },
  {
   "cell_type": "code",
   "execution_count": 7,
   "id": "0f7c8509",
   "metadata": {},
   "outputs": [
    {
     "name": "stdout",
     "output_type": "stream",
     "text": [
      "second smallest element in a set: 2\n"
     ]
    }
   ],
   "source": [
    "# Example Input: {5, 2, 8, 1, 9, 3}\n",
    "# Example Output: 2\n",
    "\n",
    "input_set = {5, 2, 8, 1, 9, 3}\n",
    "\n",
    "first_smallest = min(input_set)\n",
    "\n",
    "input_set.remove(first_smallest)\n",
    "\n",
    "print(\"second smallest element in a set:\", min(input_set))"
   ]
  },
  {
   "cell_type": "markdown",
   "id": "4253a096",
   "metadata": {},
   "source": [
    "### 8. Write a Python program to find the symmetric difference between multiple sets."
   ]
  },
  {
   "cell_type": "code",
   "execution_count": 25,
   "id": "f0b4beeb",
   "metadata": {},
   "outputs": [
    {
     "name": "stdout",
     "output_type": "stream",
     "text": [
      "{1, 2, 4, 6, 7}\n"
     ]
    }
   ],
   "source": [
    "# Example Input: [set1, set2, set3] where set1 = {1, 2, 3}, set2 = {3, 4, 5}, set3 = {5, 6, 7}\n",
    "# Example Output: {1, 2, 4, 6, 7}\n",
    "\n",
    "set1 = {1, 2, 3}\n",
    "set2 = {3, 4, 5}\n",
    "set3 = {5, 6, 7}\n",
    "\n",
    "sets = [set1, set2, set3]\n",
    "\n",
    "result = sets[0]\n",
    "\n",
    "for s in sets[1:]:\n",
    "    result = result.symmetric_difference(s)\n",
    "\n",
    "print(result)"
   ]
  },
  {
   "cell_type": "markdown",
   "id": "fec8bb15",
   "metadata": {},
   "source": [
    "### 9. Write a Python program to find the sum of all elements in the union of two sets, excluding elements that are common to both sets."
   ]
  },
  {
   "cell_type": "code",
   "execution_count": 31,
   "id": "23919690",
   "metadata": {},
   "outputs": [
    {
     "name": "stdout",
     "output_type": "stream",
     "text": [
      "12\n"
     ]
    }
   ],
   "source": [
    "# Example Input: Set1 = {1, 2, 3}, Set2 = {3, 4, 5}\n",
    "# Example Output: 12 (1 + 2 + 4 + 5)\n",
    "\n",
    "Set1 = {1, 2, 3}\n",
    "Set2 = {3, 4, 5}\n",
    "\n",
    "Set3 = Set1 - Set2\n",
    "Set4 = Set2 - Set1\n",
    "\n",
    "print(sum(Set3 | Set4))"
   ]
  },
  {
   "cell_type": "markdown",
   "id": "27a87c11",
   "metadata": {},
   "source": [
    "### 10. Write a Python program to create a set of all possible anagrams of a given word."
   ]
  },
  {
   "cell_type": "code",
   "execution_count": 195,
   "id": "c3d71a35",
   "metadata": {},
   "outputs": [
    {
     "name": "stdout",
     "output_type": "stream",
     "text": [
      "{'listen', 'inlets', 'tinsel', 'enlist', 'silent', 'slinte'}\n"
     ]
    }
   ],
   "source": [
    "# Example Input: 'listen'\n",
    "# Example Output: {'silent', 'enlist', 'tinsel', 'inlets', 'slinte', 'listen'}\n",
    "\n",
    "from itertools import permutations\n",
    "\n",
    "# Define a list of meaningful words (you can obtain this list from a dictionary file)\n",
    "meaningful_words = ['silent', 'enlist', 'tinsel', 'inlets', 'slinte', 'listen', 'hello', 'world', 'other']\n",
    "\n",
    "input_word = 'listen'\n",
    "\n",
    "anagrams = {''.join(p) for p in permutations(input_word)}\n",
    "\n",
    "filtered_anagrams = {anagram for anagram in anagrams if anagram in meaningful_words}\n",
    "\n",
    "print(filtered_anagrams)"
   ]
  },
  {
   "cell_type": "markdown",
   "id": "29a8d4ae",
   "metadata": {},
   "source": [
    "### 11. Write a Python program to find the Cartesian product of two sets."
   ]
  },
  {
   "cell_type": "code",
   "execution_count": 58,
   "id": "3bb9b195",
   "metadata": {},
   "outputs": [
    {
     "name": "stdout",
     "output_type": "stream",
     "text": [
      "Cartesian Product: {(1, 'a'), (1, 'b'), (2, 'a'), (2, 'b')}\n"
     ]
    }
   ],
   "source": [
    "# Example Input: Set1 = {1, 2}, Set2 = {'a', 'b'}\n",
    "# Example Output: {(1, 'a'), (1, 'b'), (2, 'a'), (2, 'b')}\n",
    "\n",
    "from itertools import product\n",
    "\n",
    "Set1 = {1, 2}\n",
    "Set2 = {'a', 'b'}\n",
    "\n",
    "cartesian_product = set(product(Set1, Set2))\n",
    "\n",
    "print(\"Cartesian Product:\", cartesian_product)"
   ]
  },
  {
   "cell_type": "markdown",
   "id": "596db762",
   "metadata": {},
   "source": [
    "### 12. Write a Python program to check if two sets are disjoint (have no common elements)."
   ]
  },
  {
   "cell_type": "code",
   "execution_count": 62,
   "id": "480a2507",
   "metadata": {},
   "outputs": [
    {
     "name": "stdout",
     "output_type": "stream",
     "text": [
      "Enter the first set (comma-separated values inside curly braces): {1, 2, 3}\n",
      "Enter the second set (comma-separated values inside curly braces): {4, 5, 6}\n",
      "True\n"
     ]
    }
   ],
   "source": [
    "# Example Input: Set1 = {1, 2, 3}, Set2 = {4, 5, 6}\n",
    "# Example Output: True\n",
    "\n",
    "input_set1 = input(\"Enter the first set (comma-separated values inside curly braces): \")\n",
    "input_set2 = input(\"Enter the second set (comma-separated values inside curly braces): \")\n",
    "\n",
    "Set1 = set(input_set1.strip('{}').split(','))\n",
    "Set2 = set(input_set2.strip('{}').split(','))\n",
    "\n",
    "disjoint = Set1.isdisjoint(Set2)\n",
    "\n",
    "if disjoint:\n",
    "    print(True)\n",
    "else:\n",
    "    print(False)"
   ]
  },
  {
   "cell_type": "markdown",
   "id": "92280dbf",
   "metadata": {},
   "source": [
    "### 13. Write a Python program to implement the power set (all possible subsets) of a given set."
   ]
  },
  {
   "cell_type": "code",
   "execution_count": 125,
   "id": "babc7271",
   "metadata": {},
   "outputs": [
    {
     "name": "stdout",
     "output_type": "stream",
     "text": [
      "[set(), {1}, {2}, {3}, {1, 2}, {1, 3}, {2, 3}, {1, 2, 3}]\n"
     ]
    }
   ],
   "source": [
    "# Example Input: {1, 2, 3}\n",
    "# Example Output: {{}, {1}, {2}, {3}, {1, 2}, {1, 3}, {2, 3}, {1, 2, 3}}\n",
    "\n",
    "from itertools import combinations\n",
    "\n",
    "input_set = {1, 2, 3}\n",
    "temp_list = []\n",
    "\n",
    "for i in range(len(input_set) + 1):\n",
    "    temp_list.append(list(combinations(input_set, i)))\n",
    "\n",
    "lst = [item for items in temp_list for item in items]\n",
    "\n",
    "result = [set(subset) for subset in lst]\n",
    "        \n",
    "print(result)"
   ]
  },
  {
   "cell_type": "markdown",
   "id": "cf55fc9a",
   "metadata": {},
   "source": [
    "### 14. Write a Python program to find the longest consecutive subsequence in a set."
   ]
  },
  {
   "cell_type": "code",
   "execution_count": 162,
   "id": "f21d630d",
   "metadata": {},
   "outputs": [
    {
     "name": "stdout",
     "output_type": "stream",
     "text": [
      "{1, 2, 3, 4}\n"
     ]
    }
   ],
   "source": [
    "# Example Input: {100, 4, 200, 1, 3, 2}\n",
    "# Example Output: {1, 2, 3, 4}\n",
    "\n",
    "input_set = {100, 4, 200, 1, 3, 99, 2, 101}\n",
    "input_list = list(input_set)\n",
    "actual_list = []\n",
    "\n",
    "while len(input_list) != 0:\n",
    "    lst = []\n",
    "    for item in input_list:\n",
    "        if len(lst) == 0 or len(lst) == 1:\n",
    "            lst.append(item)\n",
    "            input_list.remove(item)\n",
    "            for num in input_list:\n",
    "                if num == item + 1 or num == item - 1:\n",
    "                    lst.append(num)\n",
    "                    input_list.remove(num)\n",
    "        else:\n",
    "            min = lst[0]\n",
    "            max = lst[-1]\n",
    "            for num in input_list:\n",
    "                if num == max + 1 or num == min - 1:\n",
    "                    lst.append(num)\n",
    "                    input_list.remove(num)\n",
    "                \n",
    "        lst = sorted(lst)\n",
    "    actual_list.append(lst)\n",
    "\n",
    "max = len(actual_list[0])\n",
    "for seq_list in actual_list:\n",
    "    if max <= len(seq_list):\n",
    "        max = len(seq_list)\n",
    "        \n",
    "for seq_list in actual_list:\n",
    "    if len(seq_list) == max:\n",
    "        print(set(seq_list))\n",
    "        break"
   ]
  },
  {
   "cell_type": "markdown",
   "id": "7767ed69",
   "metadata": {},
   "source": [
    "### 15. Write a Python program to find the number of elements in the largest subset of a set where no two elements are adjacent to each other."
   ]
  },
  {
   "cell_type": "code",
   "execution_count": 179,
   "id": "a5d8a2e6",
   "metadata": {},
   "outputs": [
    {
     "name": "stdout",
     "output_type": "stream",
     "text": [
      "3 (Subset: {1, 3, 5})\n"
     ]
    }
   ],
   "source": [
    "# Example Input: {1, 2, 3, 4, 5}\n",
    "# Example Output: 3 (Subset: {1, 3, 5})\n",
    "\n",
    "input_set = {1, 2, 3, 4, 5}\n",
    "input_list = sorted(input_set)\n",
    "\n",
    "even_index_list = []\n",
    "odd_index_list = []\n",
    "\n",
    "for index in range(len(input_list)):\n",
    "    if index % 2 == 0:\n",
    "        even_index_list.append(input_list[index])\n",
    "    else:\n",
    "        odd_index_list.append(input_list[index])\n",
    "        \n",
    "if len(even_index_list) < len(odd_index_list):\n",
    "    print(len(odd_index_list), f\"(Subset: {set(odd_index_list)})\")\n",
    "else:\n",
    "    print(len(even_index_list), f\"(Subset: {set(even_index_list)})\")"
   ]
  },
  {
   "cell_type": "markdown",
   "id": "1e61f726",
   "metadata": {},
   "source": [
    "### 16. Write a Python program to perform set operations on a list of sets (union, intersection, difference)."
   ]
  },
  {
   "cell_type": "code",
   "execution_count": 83,
   "id": "67443c86",
   "metadata": {},
   "outputs": [
    {
     "name": "stdout",
     "output_type": "stream",
     "text": [
      "Union: {1, 2, 3, 4, 5, 6, 7}\n",
      "Intersection: set()\n",
      "Difference (set1 - set2 - set3): {1, 2}\n"
     ]
    }
   ],
   "source": [
    "# Example Input: [set1, set2, set3] where set1 = {1, 2, 3}, set2 = {3, 4, 5}, set3 = {5, 6, 7}\n",
    "# Example Output:\n",
    "# Union: {1, 2, 3, 4, 5, 6, 7}\n",
    "# Intersection: {}\n",
    "# Difference (set1 - set2 - set3): {1, 2}\n",
    "\n",
    "set1 = {1, 2, 3}\n",
    "set2 = {3, 4, 5}\n",
    "set3 = {5, 6, 7}\n",
    "set_list = [set1, set2, set3]\n",
    "\n",
    "union_result = set().union(*set_list)\n",
    "\n",
    "intersection_result = set.intersection(*set_list)\n",
    "\n",
    "difference_result = set_list[0].difference(*set_list[1:])\n",
    "\n",
    "print(\"Union:\", union_result)\n",
    "print(\"Intersection:\", intersection_result)\n",
    "print(\"Difference (set1 - set2 - set3):\", difference_result)"
   ]
  },
  {
   "cell_type": "markdown",
   "id": "9b77e45d",
   "metadata": {},
   "source": [
    "### 17. Write a Python program to find the second smallest element in a set."
   ]
  },
  {
   "cell_type": "code",
   "execution_count": 84,
   "id": "33cea60a",
   "metadata": {},
   "outputs": [
    {
     "name": "stdout",
     "output_type": "stream",
     "text": [
      "second smallest element in a set: 2\n"
     ]
    }
   ],
   "source": [
    "# Example Input: {5, 2, 8, 1, 9, 3}\n",
    "# Example Output: 2\n",
    "\n",
    "input_set = {5, 2, 8, 1, 9, 3}\n",
    "\n",
    "first_smallest = min(input_set)\n",
    "\n",
    "input_set.remove(first_smallest)\n",
    "\n",
    "print(\"second smallest element in a set:\", min(input_set))"
   ]
  },
  {
   "cell_type": "markdown",
   "id": "92af2d89",
   "metadata": {},
   "source": [
    "### 18. Write a Python program to find the symmetric difference between multiple sets."
   ]
  },
  {
   "cell_type": "code",
   "execution_count": 85,
   "id": "f21ea1fc",
   "metadata": {},
   "outputs": [
    {
     "name": "stdout",
     "output_type": "stream",
     "text": [
      "{1, 2, 4, 6, 7}\n"
     ]
    }
   ],
   "source": [
    "# Example Input: [set1, set2, set3] where set1 = {1, 2, 3}, set2 = {3, 4, 5}, set3 = {5, 6, 7}\n",
    "# Example Output: {1, 2, 4, 6, 7}\n",
    "\n",
    "set1 = {1, 2, 3}\n",
    "set2 = {3, 4, 5}\n",
    "set3 = {5, 6, 7}\n",
    "\n",
    "sets = [set1, set2, set3]\n",
    "\n",
    "result = sets[0]\n",
    "\n",
    "for s in sets[1:]:\n",
    "    result = result.symmetric_difference(s)\n",
    "\n",
    "print(result)"
   ]
  },
  {
   "cell_type": "markdown",
   "id": "85a3bf70",
   "metadata": {},
   "source": [
    "### 19. Write a Python program to find the sum of all elements in the union of two sets, excluding elements that are common to both sets."
   ]
  },
  {
   "cell_type": "code",
   "execution_count": 86,
   "id": "41014f1b",
   "metadata": {},
   "outputs": [
    {
     "name": "stdout",
     "output_type": "stream",
     "text": [
      "12\n"
     ]
    }
   ],
   "source": [
    "# Example Input: Set1 = {1, 2, 3}, Set2 = {3, 4, 5}\n",
    "# Example Output: 12 (1 + 2 + 4 + 5)\n",
    "\n",
    "Set1 = {1, 2, 3}\n",
    "Set2 = {3, 4, 5}\n",
    "\n",
    "Set3 = Set1 - Set2\n",
    "Set4 = Set2 - Set1\n",
    "\n",
    "print(sum(Set3 | Set4))"
   ]
  },
  {
   "cell_type": "markdown",
   "id": "6a46d7d9",
   "metadata": {},
   "source": [
    "### 20. Write a Python program to create a set of all possible anagrams of a given word."
   ]
  },
  {
   "cell_type": "code",
   "execution_count": 196,
   "id": "c3dde8d6",
   "metadata": {},
   "outputs": [
    {
     "name": "stdout",
     "output_type": "stream",
     "text": [
      "{'listen', 'inlets', 'tinsel', 'enlist', 'silent', 'slinte'}\n"
     ]
    }
   ],
   "source": [
    "# Example Input: 'listen'\n",
    "# Example Output: {'silent', 'enlist', 'tinsel', 'inlets', 'slinte', 'listen'}\n",
    "\n",
    "from itertools import permutations\n",
    "\n",
    "# Define a list of meaningful words (you can obtain this list from a dictionary file)\n",
    "meaningful_words = ['silent', 'enlist', 'tinsel', 'inlets', 'slinte', 'listen', 'hello', 'world', 'other']\n",
    "\n",
    "input_word = 'listen'\n",
    "\n",
    "anagrams = {''.join(p) for p in permutations(input_word)}\n",
    "\n",
    "filtered_anagrams = {anagram for anagram in anagrams if anagram in meaningful_words}\n",
    "\n",
    "print(filtered_anagrams)"
   ]
  },
  {
   "cell_type": "code",
   "execution_count": null,
   "id": "dbc91d6b",
   "metadata": {},
   "outputs": [],
   "source": []
  }
 ],
 "metadata": {
  "kernelspec": {
   "display_name": "Python 3 (ipykernel)",
   "language": "python",
   "name": "python3"
  },
  "language_info": {
   "codemirror_mode": {
    "name": "ipython",
    "version": 3
   },
   "file_extension": ".py",
   "mimetype": "text/x-python",
   "name": "python",
   "nbconvert_exporter": "python",
   "pygments_lexer": "ipython3",
   "version": "3.10.9"
  }
 },
 "nbformat": 4,
 "nbformat_minor": 5
}
