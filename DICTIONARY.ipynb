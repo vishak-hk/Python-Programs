{
 "cells": [
  {
   "cell_type": "markdown",
   "id": "fd4a1418",
   "metadata": {},
   "source": [
    "### 1. Write a python program to print name and marks of students."
   ]
  },
  {
   "cell_type": "code",
   "execution_count": 136,
   "id": "a5636fef",
   "metadata": {},
   "outputs": [
    {
     "name": "stdout",
     "output_type": "stream",
     "text": [
      "Enter the name list: [\"abc\", \"def\"]\n",
      "Enter the marks list: [89, 98]\n",
      "{'student1': {'Name': 'abc', 'Marks': 89}, 'student2': {'Name': 'def', 'Marks': 98}}\n"
     ]
    }
   ],
   "source": [
    "# For e.g. \n",
    "# Input: Name = [“abc”, “def”] & marks= [89, 98]\n",
    "# Output: {“student1”: {“Name”: “abc”, “Marks”: 89}, “student2”: {“Name”: “def”, “Marks”: 98}}\n",
    "\n",
    "import ast\n",
    "\n",
    "name = input(\"Enter the name list: \")\n",
    "marks = input(\"Enter the marks list: \")\n",
    "\n",
    "name_list = ast.literal_eval(name)\n",
    "marks_list = ast.literal_eval(marks)\n",
    "\n",
    "stud = []\n",
    "student_data = []\n",
    "\n",
    "for name, mark in zip(name_list, marks_list):\n",
    "    student_dict = {\"Name\": name, \"Marks\": mark}\n",
    "    student_data.append(student_dict)\n",
    "\n",
    "for i in range(1, len(name_list)+1):\n",
    "    store = \"student\" + str(i)\n",
    "    stud.append(store)\n",
    "    \n",
    "final_dict = dict(zip(stud, student_data))\n",
    "\n",
    "print(final_dict)"
   ]
  },
  {
   "cell_type": "markdown",
   "id": "8ff7c76e",
   "metadata": {},
   "source": [
    "### 2. Write a python program to count the frequency in a list using dictionary."
   ]
  },
  {
   "cell_type": "code",
   "execution_count": 137,
   "id": "f04d3072",
   "metadata": {},
   "outputs": [
    {
     "name": "stdout",
     "output_type": "stream",
     "text": [
      "{1: 5, 5: 2, 3: 3, 4: 3, 2: 4}\n"
     ]
    }
   ],
   "source": [
    "# For e.g.\n",
    "# Input: [1, 1, 1, 5, 5, 3, 1, 3, 3, 1, 4, 4, 4, 2, 2, 2, 2]\n",
    "# Output: {1: 5, 5: 2, 3: 3, 4: 3, 2:4} 🡪 {Number: Count}\n",
    "\n",
    "lst = [1, 1, 1, 5, 5, 3, 1, 3, 3, 1, 4, 4, 4, 2, 2, 2, 2]\n",
    "\n",
    "dic = {}\n",
    "\n",
    "for key in lst:\n",
    "    if key not in dic.keys():\n",
    "        dic[key] = lst.count(key)\n",
    "        \n",
    "print(dic)"
   ]
  },
  {
   "cell_type": "markdown",
   "id": "3b4a8458",
   "metadata": {},
   "source": [
    "### 3. Write a python program to reverse the order of dictionary."
   ]
  },
  {
   "cell_type": "code",
   "execution_count": 138,
   "id": "cae9395e",
   "metadata": {},
   "outputs": [
    {
     "name": "stdout",
     "output_type": "stream",
     "text": [
      "The original dictionary: {'is': 2, 'best': 5, 'insideaiml': 4}\n",
      "The reversed order dictionary: {'insideaiml': 4, 'best': 5, 'is': 2}\n"
     ]
    }
   ],
   "source": [
    "# For e.g.\n",
    "# The original dictionary: {‘is’: 2, ‘best’: 5, ‘insideaiml’: 4}\n",
    "# The reversed order dictionary: {“insideaiml”: 4, “best”: 5, “is”: 2}\n",
    "\n",
    "dic = {'is': 2, 'best': 5, 'insideaiml': 4}\n",
    "\n",
    "print(\"The original dictionary:\", dic)\n",
    "print(\"The reversed order dictionary:\", dict(reversed(dic.items())))"
   ]
  },
  {
   "cell_type": "markdown",
   "id": "962d1e83",
   "metadata": {},
   "source": [
    "### 4. Write a python program to check prime number from a list, then create a dictionary."
   ]
  },
  {
   "cell_type": "code",
   "execution_count": 139,
   "id": "9933d44a",
   "metadata": {},
   "outputs": [
    {
     "name": "stdout",
     "output_type": "stream",
     "text": [
      "{1: 'Not a Prime', 2: 'Prime', 22: 'Not a Prime', 34: 'Not a Prime', 37: 'Prime', 21: 'Not a Prime', 19: 'Prime', 23: 'Prime'}\n"
     ]
    }
   ],
   "source": [
    "# For e.g.\n",
    "# Input: [1, 2, 22, 34, 37, 21, 19, 23]\n",
    "# Output: {1: “Not a Prime”, 2: “Prime”, 22: “Not a Prime”, 34: “Not a Prime”, 37: “Prime”, 21:\n",
    "# “Not a Prime”, 19: “Prime”, 23: “Prime”}\n",
    "\n",
    "def is_prime(n):\n",
    "    if n == 0 or n == 1:\n",
    "        return False\n",
    "    else:\n",
    "        for i in range(2, n//2 + 1):\n",
    "            if n % i == 0:\n",
    "                return False\n",
    "                break\n",
    "        else:\n",
    "            return True\n",
    "\n",
    "input_lst = [1, 2, 22, 34, 37, 21, 19, 23]\n",
    "dic = {}\n",
    "\n",
    "for num in input_lst:\n",
    "    if is_prime(num):\n",
    "        dic[num] = \"Prime\"\n",
    "    else:\n",
    "        dic[num] = \"Not a Prime\"\n",
    "        \n",
    "print(dic)"
   ]
  },
  {
   "cell_type": "markdown",
   "id": "a29dcf12",
   "metadata": {},
   "source": [
    "### 5. Write a python program to group elements from list and then construct a dictionary.}"
   ]
  },
  {
   "cell_type": "code",
   "execution_count": 140,
   "id": "d41b4aff",
   "metadata": {},
   "outputs": [
    {
     "name": "stdout",
     "output_type": "stream",
     "text": [
      "{4: [4, 4, 4], 6: [6, 6], 2: [2, 2], 8: [8, 8], 5: [5]}\n"
     ]
    }
   ],
   "source": [
    "# For e.g.\n",
    "# Input: [4, 6, 6, 4, 2, 2, 4, 8, 5, 8]\n",
    "# Output: {4: [4, 4, 4], 6: [6, 6], 2: [2, 2], 8: [8,8], 5: [5]}\n",
    "\n",
    "lst = [4, 6, 6, 4, 2, 2, 4, 8, 5, 8]\n",
    "dic = {}\n",
    "\n",
    "for num in lst:\n",
    "    count = lst.count(num)\n",
    "    dic[num] = [num] * count\n",
    "    \n",
    "print(dic)"
   ]
  },
  {
   "cell_type": "markdown",
   "id": "c9c3d63c",
   "metadata": {},
   "source": [
    "### 6. Write a python program to replace words from Dictionary."
   ]
  },
  {
   "cell_type": "code",
   "execution_count": 142,
   "id": "9ece7b1c",
   "metadata": {},
   "outputs": [
    {
     "name": "stdout",
     "output_type": "stream",
     "text": [
      "INSIDEAIML is the best platform for candidates to learn and earn\n"
     ]
    }
   ],
   "source": [
    "# For e.g. \n",
    "# Input: test_str = “INSIDEAIML is the best platform for geeks to learn and earn”\n",
    "# Replace_dict = {“geeks”: “candidates”}\n",
    "# Output: “INSIDEAIML is the best platform for candidates to learn and earn\n",
    "\n",
    "test_str = \"INSIDEAIML is the best platform for geeks to learn and earn\"\n",
    "Replace_dict = {\"geeks\": \"candidates\"}\n",
    "\n",
    "for key, value in Replace_dict.items():\n",
    "    test_str = test_str.replace(key, value)\n",
    "    \n",
    "print(test_str)"
   ]
  },
  {
   "cell_type": "markdown",
   "id": "7e0f62cf",
   "metadata": {},
   "source": [
    "### 7. Write a python program to sort the dictionary by its value, if values are same then given priority to keys in alphabetic order."
   ]
  },
  {
   "cell_type": "code",
   "execution_count": 143,
   "id": "715b643e",
   "metadata": {},
   "outputs": [
    {
     "name": "stdout",
     "output_type": "stream",
     "text": [
      "{'Moaaz': 100, 'Poonam': 99, 'Prithvi': 99, 'Aman': 88, 'Richa': 78}\n"
     ]
    }
   ],
   "source": [
    "# For e.g.\n",
    "# Input: {“Aman”: 88, “Richa”: 78, “Poonam”: 99, “Moaaz”: 100, “Prithvi”: 99}\n",
    "# Output: {“Moaaz”: 100, “Poonam”: 99, “Prithvi”: 99, “Aman”: 88, “Richa”: 78}\n",
    "    \n",
    "dic = {\"Aman\": 88, \"Richa\": 78, \"Prithvi\": 99, \"Moaaz\": 100, \"Poonam\": 99}\n",
    "\n",
    "sorted_keys = dict(sorted(dic.items()))\n",
    "\n",
    "sorted_dic = dict(sorted(sorted_1.items(), key = lambda item: item[1], reverse = True))\n",
    "\n",
    "print(sorted_dic)"
   ]
  },
  {
   "cell_type": "markdown",
   "id": "7032e3cc",
   "metadata": {},
   "source": [
    "### 8. Write a python program to convert nested dictionary into mapped tuple."
   ]
  },
  {
   "cell_type": "code",
   "execution_count": 1,
   "id": "c8d8f574",
   "metadata": {},
   "outputs": [
    {
     "name": "stdout",
     "output_type": "stream",
     "text": [
      "[('x', (5, 8)), ('y', (6, 3)), ('z', (3, 5))]\n"
     ]
    }
   ],
   "source": [
    "# For e.g.\n",
    "# Input: {‘insideaiml’: {‘x’: 5, ‘y’: 6, ‘z’: 3}, ‘best’: {‘x’: 8, ‘y’: 3, ‘z’: 5}}\n",
    "# Output: [(‘x’, (5, 8)), (‘y’, (6, 3)), (‘z’, (3, 5))]\n",
    "\n",
    "input_dic = {'insideaiml': {'x': 5, 'y': 6, 'z': 3}, 'best': {'x': 8, 'y': 3, 'z': 5}}\n",
    "traversed_keys = []\n",
    "output_list = []\n",
    "\n",
    "for key, value in input_dic.items():\n",
    "    for key1 in value.keys():\n",
    "        tuple_list = []\n",
    "        if key1 in traversed_keys:\n",
    "            continue\n",
    "        traversed_keys.append(key1)\n",
    "        for key2, value2 in input_dic.items():\n",
    "            for key3, value3 in value2.items():\n",
    "                if key3 == key1:\n",
    "                    tuple_list.append(value3)\n",
    "                    break\n",
    "        output = (key1, tuple(tuple_list))\n",
    "        output_list.append(output)\n",
    "        \n",
    "print(output_list)"
   ]
  },
  {
   "cell_type": "markdown",
   "id": "ce682000",
   "metadata": {},
   "source": [
    "### 9. Write a python program to extract value from nested dictionary."
   ]
  },
  {
   "cell_type": "code",
   "execution_count": 145,
   "id": "4e57b808",
   "metadata": {},
   "outputs": [
    {
     "name": "stdout",
     "output_type": "stream",
     "text": [
      "{'insideaiml': {'a': 7, 'b': 9, 'c': 12}, 'is': {'a': 15, 'b': 19, 'c': 20}, 'best': {'a': 5, 'b': 10, 'c': 2}}\n",
      "Enter the key to extract values from nested dictionary: b\n",
      "[9, 19, 10]\n"
     ]
    }
   ],
   "source": [
    "# For e.g.\n",
    "# Input : test_dict = {‘insideaiml’ : {“a” : 7, “b” : 9, “c” : 12}, ‘is’ : {“a” : 15, “b” : 19, “c” : 20}, ‘best’ :{“a” : 5, “b” : 10, “c” : 2}} and k = “b” \n",
    "# Output: [9, 10, 19]\n",
    "\n",
    "test_dict = {'insideaiml' : {'a' : 7, 'b' : 9, 'c' : 12}, 'is' : {'a' : 15, 'b' : 19, 'c' : 20}, 'best' :{'a' : 5, 'b' : 10, 'c' : 2}}\n",
    "print(test_dict)\n",
    "k = input(\"Enter the key to extract values from nested dictionary: \")\n",
    "lst = []\n",
    "\n",
    "for dic in test_dict.values():\n",
    "    for key, value in dic.items():\n",
    "        if key == k:\n",
    "            lst.append(value)\n",
    "            \n",
    "print(lst)"
   ]
  },
  {
   "cell_type": "markdown",
   "id": "8625e602",
   "metadata": {},
   "source": [
    "### 10. Write a Python program to get all possible two-digit letter combinations from a 1-9 digit string."
   ]
  },
  {
   "cell_type": "code",
   "execution_count": 24,
   "id": "64e2f2a9",
   "metadata": {},
   "outputs": [
    {
     "name": "stdout",
     "output_type": "stream",
     "text": [
      "Enter a 1-9 digit string: 8\n",
      "All possible two-digit letter combinations:\n",
      "['ww', 'wx', 'wy', 'wz', 'xw', 'xx', 'xy', 'xz', 'yw', 'yx', 'yy', 'yz', 'zw', 'zx', 'zy', 'zz']\n"
     ]
    }
   ],
   "source": [
    "digit_to_letters = {\n",
    "    '1': 'abc',\n",
    "    '2': 'def',\n",
    "    '3': 'ghi',\n",
    "    '4': 'jkl',\n",
    "    '5': 'mno',\n",
    "    '6': 'pqrs',\n",
    "    '7': 'tuv',\n",
    "    '8': 'wxyz',\n",
    "    '9': 'ABCDEFGHIJKLMNOPQRSTUVWXYZ'\n",
    "}\n",
    "\n",
    "digits = input(\"Enter a 1-9 digit string: \")\n",
    "\n",
    "if not digits.isdigit() or len(digits) < 1 or len(digits) > 9:\n",
    "    print(\"Invalid input. Please enter a valid 1-9 digit string.\")\n",
    "else:\n",
    "    combinations = []\n",
    "    for digit in digits:\n",
    "        if digit in digit_to_letters:\n",
    "            letters = digit_to_letters[digit]\n",
    "            for first_letter in letters:\n",
    "                for second_letter in letters:\n",
    "                    combinations.append(first_letter + second_letter)\n",
    "\n",
    "    print(\"All possible two-digit letter combinations:\")\n",
    "    print(combinations)"
   ]
  },
  {
   "cell_type": "markdown",
   "id": "51eb0566",
   "metadata": {},
   "source": [
    "### 11. Write a python program to create a dictionary of top 5 student along with marks.\n",
    "1. Who got top 5 ranks, in the descending order of marks?\n",
    "2. Who got least 5 ranks, in the increasing order of marks?\n",
    "3. Who got marks between >25th percentile <75th percentile, in the increasing order of marks?"
   ]
  },
  {
   "cell_type": "code",
   "execution_count": 19,
   "id": "c1575835",
   "metadata": {},
   "outputs": [
    {
     "name": "stdout",
     "output_type": "stream",
     "text": [
      "{'student1': 45, 'student2': 78, 'student3': 12, 'student4': 14, 'student5': 48, 'student6': 43, 'student7': 47, 'student8': 98, 'student9': 35, 'student10': 80} \n",
      "\n",
      "a. top 5 ranks: {'student8': 98, 'student10': 80, 'student2': 78, 'student5': 48, 'student7': 47}\n",
      "b. least 5 ranks: {'student3': 12, 'student4': 14, 'student9': 35, 'student6': 43, 'student1': 45}\n",
      "c. marks between >25th percentile <75th percentile: {'student9': 35, 'student6': 43, 'student1': 45, 'student7': 47, 'student5': 48}\n"
     ]
    }
   ],
   "source": [
    "# For e.g.\n",
    "# Students  = ['student1','student2','student3','student4','student5','student6','student7','student8','student9','student10'] \n",
    "# Marks = [45, 78, 12, 14, 48, 43, 47, 98, 35, 80]\n",
    "\n",
    "Students  = ['student1','student2','student3','student4','student5','student6','student7','student8','student9','student10'] \n",
    "Marks = [45, 78, 12, 14, 48, 43, 47, 98, 35, 80]\n",
    "\n",
    "stu_dict = dict(zip(Students, Marks))\n",
    "print(stu_dict, \"\\n\")\n",
    "\n",
    "# a. Who got top 5 ranks, in the descending order of marks?\n",
    "dic = dict(sorted(stu_dict.items(), key = lambda item: item[1], reverse = True))\n",
    "count = 0\n",
    "new_dict = {}\n",
    "\n",
    "for key, value in dic.items():\n",
    "    if count < 5:\n",
    "        new_dict[key] = value\n",
    "        count += 1\n",
    "\n",
    "print(\"a. top 5 ranks:\", new_dict)\n",
    "\n",
    "# b. Who got least 5 ranks, in the increasing order of marks?\n",
    "dic = dict(sorted(stu_dict.items(), key = lambda item: item[1]))\n",
    "count = 0\n",
    "new_dict = {}\n",
    "\n",
    "for key, value in dic.items():\n",
    "    if count < 5:\n",
    "        new_dict[key] = value\n",
    "        count += 1\n",
    "\n",
    "print(\"b. least 5 ranks:\", new_dict)\n",
    "\n",
    "# c .Who got marks between >25th percentile <75th percentile, in the increasing order of marks?\n",
    "dic = dict(sorted(stu_dict.items(), key = lambda item: item[1]))\n",
    "new_dict = {}\n",
    "\n",
    "for key, value in dic.items():\n",
    "    if 25 < value < 75:\n",
    "        new_dict[key] = value\n",
    "\n",
    "print(\"c. marks between >25th percentile <75th percentile:\", new_dict)"
   ]
  },
  {
   "cell_type": "markdown",
   "id": "f1702a22",
   "metadata": {},
   "source": [
    "### 12. Write a Python program to find the common elements between two dictionaries."
   ]
  },
  {
   "cell_type": "code",
   "execution_count": 2,
   "id": "59c07ac1",
   "metadata": {},
   "outputs": [
    {
     "name": "stdout",
     "output_type": "stream",
     "text": [
      "Common elements between two dictionaries: {'c': 3, 'd': 4}\n"
     ]
    }
   ],
   "source": [
    "dict1 = {'a': 1, 'b': 2, 'c': 3, 'd': 4}\n",
    "dict2 = {'c': 3, 'd': 4, 'e': 5, 'f': 6}\n",
    "\n",
    "common_elements = {key: value for key, value in dict1.items() if key in dict2}\n",
    "print(\"Common elements between two dictionaries:\", common_elements)"
   ]
  },
  {
   "cell_type": "markdown",
   "id": "1a9c9347",
   "metadata": {},
   "source": [
    "### 13. Write a Python program to merge two dictionaries."
   ]
  },
  {
   "cell_type": "code",
   "execution_count": 3,
   "id": "d1de4439",
   "metadata": {},
   "outputs": [
    {
     "name": "stdout",
     "output_type": "stream",
     "text": [
      "Merged dictionary: {'a': 1, 'b': 2, 'c': 4, 'd': 5, 'e': 6}\n"
     ]
    }
   ],
   "source": [
    "dict1 = {'a': 1, 'b': 2, 'c': 3}\n",
    "dict2 = {'c': 4, 'd': 5, 'e': 6}\n",
    "\n",
    "merged_dict = {**dict1, **dict2}\n",
    "print(\"Merged dictionary:\", merged_dict)"
   ]
  },
  {
   "cell_type": "markdown",
   "id": "5135138b",
   "metadata": {},
   "source": [
    "### 14. Write a Python program to check if a key exists in a dictionary."
   ]
  },
  {
   "cell_type": "code",
   "execution_count": 5,
   "id": "445476b4",
   "metadata": {},
   "outputs": [
    {
     "name": "stdout",
     "output_type": "stream",
     "text": [
      "Enter a key to check: orange\n",
      "orange exists in the dictionary with value: 3\n"
     ]
    }
   ],
   "source": [
    "my_dict = {'apple': 2, 'banana': 5, 'orange': 3}\n",
    "\n",
    "key_to_check = input(\"Enter a key to check: \")\n",
    "\n",
    "if key_to_check in my_dict:\n",
    "    print(f\"{key_to_check} exists in the dictionary with value: {my_dict[key_to_check]}\")\n",
    "else:\n",
    "    print(f\"{key_to_check} does not exist in the dictionary.\")"
   ]
  },
  {
   "cell_type": "markdown",
   "id": "ed556923",
   "metadata": {},
   "source": [
    "### 15. Write a Python program to calculate the sum of all values in a dictionary."
   ]
  },
  {
   "cell_type": "code",
   "execution_count": 6,
   "id": "3b9e1f49",
   "metadata": {},
   "outputs": [
    {
     "name": "stdout",
     "output_type": "stream",
     "text": [
      "Sum of all values in the dictionary: 100\n"
     ]
    }
   ],
   "source": [
    "my_dict = {'a': 10, 'b': 20, 'c': 30, 'd': 40}\n",
    "\n",
    "sum_of_values = sum(my_dict.values())\n",
    "print(\"Sum of all values in the dictionary:\", sum_of_values)"
   ]
  },
  {
   "cell_type": "markdown",
   "id": "3568fab6",
   "metadata": {},
   "source": [
    "### 16. Write a Python program to remove a key from a dictionary."
   ]
  },
  {
   "cell_type": "code",
   "execution_count": 7,
   "id": "407739d0",
   "metadata": {},
   "outputs": [
    {
     "name": "stdout",
     "output_type": "stream",
     "text": [
      "Enter a key to remove: d\n",
      "d removed from the dictionary.\n",
      "Updated dictionary: {'a': 10, 'b': 20, 'c': 30}\n"
     ]
    }
   ],
   "source": [
    "my_dict = {'a': 10, 'b': 20, 'c': 30, 'd': 40}\n",
    "\n",
    "key_to_remove = input(\"Enter a key to remove: \")\n",
    "\n",
    "if key_to_remove in my_dict:\n",
    "    del my_dict[key_to_remove]\n",
    "    print(f\"{key_to_remove} removed from the dictionary.\")\n",
    "    print(\"Updated dictionary:\", my_dict)\n",
    "else:\n",
    "    print(f\"{key_to_remove} does not exist in the dictionary.\")"
   ]
  },
  {
   "cell_type": "markdown",
   "id": "6ccc3140",
   "metadata": {},
   "source": [
    "### 17. Write a Python program to find the frequency of each word in a given string."
   ]
  },
  {
   "cell_type": "code",
   "execution_count": 8,
   "id": "900862be",
   "metadata": {},
   "outputs": [
    {
     "name": "stdout",
     "output_type": "stream",
     "text": [
      "Word frequency in the string: {'This': 2, 'is': 2, 'a': 1, 'sample': 1, 'string': 1, 'with': 1, 'some': 1, 'repeated': 1, 'words.': 1, 'an': 1, 'example.': 1}\n"
     ]
    }
   ],
   "source": [
    "input_string = \"This is a sample string with some repeated words. This is an example.\"\n",
    "\n",
    "word_list = input_string.split()\n",
    "word_frequency = {}\n",
    "\n",
    "for word in word_list:\n",
    "    word_frequency[word] = word_frequency.get(word, 0) + 1\n",
    "\n",
    "print(\"Word frequency in the string:\", word_frequency)"
   ]
  },
  {
   "cell_type": "markdown",
   "id": "a11ebe88",
   "metadata": {},
   "source": [
    "### 18. Write a Python program to find the intersection of two dictionaries."
   ]
  },
  {
   "cell_type": "code",
   "execution_count": 9,
   "id": "e5dac45e",
   "metadata": {},
   "outputs": [
    {
     "name": "stdout",
     "output_type": "stream",
     "text": [
      "Intersection of two dictionaries: {'c': 3}\n"
     ]
    }
   ],
   "source": [
    "dict1 = {'a': 1, 'b': 2, 'c': 3}\n",
    "dict2 = {'c': 3, 'd': 4, 'e': 5}\n",
    "\n",
    "intersection_dict = {key: dict1[key] for key in dict1 if key in dict2}\n",
    "print(\"Intersection of two dictionaries:\", intersection_dict)"
   ]
  },
  {
   "cell_type": "markdown",
   "id": "1d9d509f",
   "metadata": {},
   "source": [
    "### 19. Write a Python program to implement a nested dictionary with dynamic depth. The depth is provided as an input."
   ]
  },
  {
   "cell_type": "code",
   "execution_count": 11,
   "id": "a4fc36e0",
   "metadata": {},
   "outputs": [
    {
     "name": "stdout",
     "output_type": "stream",
     "text": [
      "Enter the depth of the nested dictionary: 3\n",
      "Enter the number of items for this level: 2\n",
      "Enter key: 5\n",
      "Enter the number of items for this level: 9\n",
      "Enter key: 4\n",
      "Enter key: 0\n",
      "Enter key: 9\n",
      "Enter key: 8\n",
      "Enter key: 7\n",
      "Enter key: 6\n",
      "Enter key: 5\n",
      "Enter key: 4\n",
      "Enter key: 3\n",
      "Enter key: 2\n",
      "Enter the number of items for this level: 1\n",
      "Enter key: 10\n",
      "Nested Dictionary: {'5': {'4': {}, '0': {}, '9': {}, '8': {}, '7': {}, '6': {}, '5': {}, '3': {}}, '2': {'10': {}}}\n"
     ]
    }
   ],
   "source": [
    "def create_nested_dict(depth):\n",
    "    if depth == 1:\n",
    "        return {}\n",
    "\n",
    "    nested_dict = {}\n",
    "    for _ in range(int(input(\"Enter the number of items for this level: \"))):\n",
    "        key = input(\"Enter key: \")\n",
    "        nested_dict[key] = create_nested_dict(depth - 1)\n",
    "\n",
    "    return nested_dict\n",
    "\n",
    "depth_input = int(input(\"Enter the depth of the nested dictionary: \"))\n",
    "result_dict = create_nested_dict(depth_input)\n",
    "print(\"Nested Dictionary:\", result_dict)"
   ]
  },
  {
   "cell_type": "markdown",
   "id": "a4c797a6",
   "metadata": {},
   "source": [
    "### 20. Write a Python program to implement a dictionary-based cache with a maximum size. Implement functions for adding an item to the cache, getting an item from the cache, and displaying the current state of the cache."
   ]
  },
  {
   "cell_type": "code",
   "execution_count": 12,
   "id": "442719d5",
   "metadata": {},
   "outputs": [
    {
     "name": "stdout",
     "output_type": "stream",
     "text": [
      "Current state of the cache:\n",
      "a: 1\n",
      "b: 2\n",
      "c: 3\n",
      "Current state of the cache:\n",
      "b: 2\n",
      "c: 3\n",
      "d: 4\n",
      "Value of 'b' from cache: 2\n",
      "Current state of the cache:\n",
      "c: 3\n",
      "d: 4\n",
      "b: 2\n"
     ]
    }
   ],
   "source": [
    "class LRUCache:\n",
    "    def __init__(self, max_size):\n",
    "        self.cache = {}\n",
    "        self.order = []\n",
    "        self.max_size = max_size\n",
    "\n",
    "    def add_to_cache(self, key, value):\n",
    "        if len(self.cache) >= self.max_size:\n",
    "            # Remove the least recently used item\n",
    "            del_key = self.order.pop(0)\n",
    "            del self.cache[del_key]\n",
    "\n",
    "        self.cache[key] = value\n",
    "        self.order.append(key)\n",
    "\n",
    "    def get_from_cache(self, key):\n",
    "        if key in self.cache:\n",
    "            # Move the accessed item to the end to maintain order\n",
    "            self.order.remove(key)\n",
    "            self.order.append(key)\n",
    "            return self.cache[key]\n",
    "        else:\n",
    "            return None\n",
    "\n",
    "    def display_cache_state(self):\n",
    "        print(\"Current state of the cache:\")\n",
    "        for key in self.order:\n",
    "            print(f\"{key}: {self.cache[key]}\")\n",
    "\n",
    "# Example usage\n",
    "cache = LRUCache(3)\n",
    "cache.add_to_cache('a', 1)\n",
    "cache.add_to_cache('b', 2)\n",
    "cache.add_to_cache('c', 3)\n",
    "cache.display_cache_state()\n",
    "\n",
    "cache.add_to_cache('d', 4)  # 'a' will be removed since it was least recently used\n",
    "cache.display_cache_state()\n",
    "\n",
    "print(\"Value of 'b' from cache:\", cache.get_from_cache('b'))  # Access 'b', moving it to the end\n",
    "cache.display_cache_state()"
   ]
  },
  {
   "cell_type": "code",
   "execution_count": null,
   "id": "1e4a7a3c",
   "metadata": {},
   "outputs": [],
   "source": []
  }
 ],
 "metadata": {
  "kernelspec": {
   "display_name": "Python 3 (ipykernel)",
   "language": "python",
   "name": "python3"
  },
  "language_info": {
   "codemirror_mode": {
    "name": "ipython",
    "version": 3
   },
   "file_extension": ".py",
   "mimetype": "text/x-python",
   "name": "python",
   "nbconvert_exporter": "python",
   "pygments_lexer": "ipython3",
   "version": "3.10.9"
  }
 },
 "nbformat": 4,
 "nbformat_minor": 5
}
