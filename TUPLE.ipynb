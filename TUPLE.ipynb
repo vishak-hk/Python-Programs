{
 "cells": [
  {
   "cell_type": "markdown",
   "id": "e22f9013",
   "metadata": {},
   "source": [
    "### 1. Write a python program to print the Palindrome number from a tuple."
   ]
  },
  {
   "cell_type": "code",
   "execution_count": 69,
   "id": "190d1534",
   "metadata": {},
   "outputs": [
    {
     "name": "stdout",
     "output_type": "stream",
     "text": [
      "Input Tuple: (121, 234, 222, 343, 786, 100)\n",
      "Palindrome Numbers: (121, 222, 343)\n"
     ]
    }
   ],
   "source": [
    "# For e.g.\n",
    "# Input: (121, 234, 222, 343, 786, 100)\n",
    "# Output: (121, 222, 343)\n",
    "\n",
    "input_tuple = (121, 234, 222, 343, 786, 100)\n",
    "\n",
    "palindrome_numbers = tuple(num for num in input_tuple if str(num) == str(num)[::-1])\n",
    "\n",
    "print(\"Input Tuple:\", input_tuple)\n",
    "print(\"Palindrome Numbers:\", palindrome_numbers)\n"
   ]
  },
  {
   "cell_type": "markdown",
   "id": "c97c1e35",
   "metadata": {},
   "source": [
    "### 2. Write a python program to print unique elements for a nested tuple."
   ]
  },
  {
   "cell_type": "code",
   "execution_count": 70,
   "id": "3703612e",
   "metadata": {},
   "outputs": [
    {
     "name": "stdout",
     "output_type": "stream",
     "text": [
      "Input Tuple: ((3, 4, 5), (5, 6, 7), (7, 8, 9))\n",
      "Unique Elements: (3, 4, 5, 6, 7, 8, 9)\n"
     ]
    }
   ],
   "source": [
    "# For e.g.\n",
    "# Input: ((3, 4, 5), (5, 6, 7), (7, 8, 9))\n",
    "# Output: (3, 4, 6, 8, 9)\n",
    "\n",
    "input_tuple = ((3, 4, 5), (5, 6, 7), (7, 8, 9))\n",
    "\n",
    "unique_elements = set(element for tup in input_tuple for element in tup)\n",
    "\n",
    "print(\"Input Tuple:\", input_tuple)\n",
    "print(\"Unique Elements:\", tuple(unique_elements))\n"
   ]
  },
  {
   "cell_type": "markdown",
   "id": "900a1ab2",
   "metadata": {},
   "source": [
    "### 3. Write a python program to convert tuple into list by adding the given number after every element and then join them by hyphen."
   ]
  },
  {
   "cell_type": "code",
   "execution_count": 71,
   "id": "07c5c434",
   "metadata": {},
   "outputs": [
    {
     "name": "stdout",
     "output_type": "stream",
     "text": [
      "1-22-2-22-3\n"
     ]
    }
   ],
   "source": [
    "# For e.g.\n",
    "# Input: test_tuple = (1, 2, 3) & k=22\n",
    "# Output: [1, 22, 2, 22, 3]🡪 “1-22-2-22-3”\n",
    "\n",
    "test_tuple = (1, 2, 3)\n",
    "key = 22\n",
    "\n",
    "lst = []\n",
    "\n",
    "for item in test_tuple:\n",
    "    if item != len(test_tuple):\n",
    "        lst.append(item)\n",
    "        lst.append(key)\n",
    "    else:\n",
    "        lst.append(item)\n",
    "        \n",
    "print(\"-\".join(str(i) for i in lst))"
   ]
  },
  {
   "cell_type": "markdown",
   "id": "ad179121",
   "metadata": {},
   "source": [
    "### 4. Write a python program to convert binary tuple into integer."
   ]
  },
  {
   "cell_type": "code",
   "execution_count": 72,
   "id": "b50b8e4e",
   "metadata": {},
   "outputs": [
    {
     "name": "stdout",
     "output_type": "stream",
     "text": [
      "Binary tuple1 into integer: 6\n",
      "Binary tuple2 into integer: 61\n"
     ]
    }
   ],
   "source": [
    "# For e.g.\n",
    "# Input: test_tuple = (1, 1, 0)\n",
    "# Output: 6\n",
    "# Input: test_tuple = (1, 1, 1, 1, 0, 1)\n",
    "# Output: 61\n",
    "\n",
    "test_tuple1 = (1, 1, 0)\n",
    "test_tuple2 = (1, 1, 1, 1, 0, 1)\n",
    "\n",
    "output1 = int(''.join(map(str, test_tuple1)), 2)\n",
    "output2 = int(''.join(map(str, test_tuple2)), 2)\n",
    "\n",
    "print(\"Binary tuple1 into integer:\", output1)\n",
    "print(\"Binary tuple2 into integer:\", output2)"
   ]
  },
  {
   "cell_type": "markdown",
   "id": "f9f68e29",
   "metadata": {},
   "source": [
    "### 5. Write a python program to multiply the adjacent elements."
   ]
  },
  {
   "cell_type": "code",
   "execution_count": 73,
   "id": "6e178908",
   "metadata": {},
   "outputs": [
    {
     "name": "stdout",
     "output_type": "stream",
     "text": [
      "(28, 32, 24, 6)\n"
     ]
    }
   ],
   "source": [
    "# For e.g.\n",
    "# Input: test_tuple = (7, 4, 8, 3, 2)\n",
    "# Output: (28, 32, 24, 6)\n",
    "\n",
    "test_tuple = (7, 4, 8, 3, 2)\n",
    "lst = list(test_tuple)\n",
    "adj_lst = []\n",
    "\n",
    "for index in range(len(lst)-1):\n",
    "    adj_lst.append(lst[index]*lst[index+1])\n",
    "    \n",
    "print(tuple(adj_lst))"
   ]
  },
  {
   "cell_type": "markdown",
   "id": "8b71c8fa",
   "metadata": {},
   "source": [
    "### 6. Write a python program to convert nested tuple into dictionary."
   ]
  },
  {
   "cell_type": "code",
   "execution_count": 74,
   "id": "b8f8625d",
   "metadata": {},
   "outputs": [
    {
     "name": "stdout",
     "output_type": "stream",
     "text": [
      "[{'key': 1, 'value': 'INSIDEAIML', 'id': 2}, {'key': 3, 'value': 'best', 'id': 4}]\n"
     ]
    }
   ],
   "source": [
    "# For e.g.\n",
    "# Input: test_tuple = ((1, ‘INSIDEAIML’, 2), (3, ‘best’, 4)), keys = [‘key’, ‘value’, ‘id’]\n",
    "# Output: [{‘key’: 1, ‘value’: ‘INSIDEAIML’, ‘id’: 2}, {‘key’: 3, ‘value’: ‘best’, ‘id’: 4}]\n",
    "\n",
    "test_tuple = ((1, 'INSIDEAIML', 2), (3, 'best', 4))\n",
    "keys = ['key', 'value', 'id'] \n",
    "\n",
    "lst = []\n",
    "\n",
    "for value in test_tuple:\n",
    "    lst.append(dict(zip(keys, value)))\n",
    "    \n",
    "print(lst)"
   ]
  },
  {
   "cell_type": "markdown",
   "id": "6ea9f606",
   "metadata": {},
   "source": [
    "### 7. Write a python program to sort tuple using list."
   ]
  },
  {
   "cell_type": "code",
   "execution_count": 82,
   "id": "3d6f9c6b",
   "metadata": {},
   "outputs": [
    {
     "name": "stdout",
     "output_type": "stream",
     "text": [
      "[('xyz', 7), ('abc', 8), ('uvw', 9)]\n"
     ]
    }
   ],
   "source": [
    "# For e.g.\n",
    "# Input: test_tuple = [(“abc”, 8), (“uvw”, 9), (“xyz”, 7)) & list = [“xyz”, “abc”, “uvw”]\n",
    "# Output: [(“xyz”, 7), (“abc”, 8), (“uvw”, 9)]\n",
    "\n",
    "test_tuple = [(\"abc\", 8), (\"uvw\", 9), (\"xyz\", 7)]\n",
    "custom_order = [\"xyz\", \"abc\", \"uvw\"]\n",
    "\n",
    "sorted_tuple = sorted(test_tuple, key=lambda x: custom_order.index(x[0]))\n",
    "\n",
    "print(sorted_tuple)"
   ]
  },
  {
   "cell_type": "markdown",
   "id": "4b1b4145",
   "metadata": {},
   "source": [
    "### 8. Write a python program to print intersected tuple from list."
   ]
  },
  {
   "cell_type": "code",
   "execution_count": 83,
   "id": "601b97be",
   "metadata": {},
   "outputs": [
    {
     "name": "stdout",
     "output_type": "stream",
     "text": [
      "{(1, 2), (3, 4), (5, 6)}\n"
     ]
    }
   ],
   "source": [
    "# For e.g.\n",
    "# Input: tuple1 = [(1, 2), (3, 4), (5, 6), (7, 8)]\n",
    "# Tuple2 = [(2, 1), (6, 5), (3, 4), (9, 8)]\n",
    "# Output: [(1, 2), (3, 4), (5, 6)]\n",
    "\n",
    "tuple1 = [(1, 2), (3, 4), (5, 6), (7, 8)]\n",
    "tuple2 = [(2, 1), (6, 5), (3, 4), (9, 8)]\n",
    "\n",
    "tuple1_set = set(tuple1)\n",
    "\n",
    "tuple2_set = set(tuple2 + [(b, a) for (a, b) in tuple2])\n",
    "\n",
    "print(set(tuple1_set) & set(tuple2_set))"
   ]
  },
  {
   "cell_type": "markdown",
   "id": "cc30d798",
   "metadata": {},
   "source": [
    "### 9. Write a python program to remove duplicates and then print sum of all unique values."
   ]
  },
  {
   "cell_type": "code",
   "execution_count": 84,
   "id": "3d9593e2",
   "metadata": {},
   "outputs": [
    {
     "name": "stdout",
     "output_type": "stream",
     "text": [
      "sum = 11\n"
     ]
    }
   ],
   "source": [
    "# For e.g.\n",
    "# Input: test_tuple = (1, 3, 5, 2, 3, 5, 1, 1, 3)\n",
    "# Output: (1, 3, 5, 2) 🡪 sum = 11\n",
    "\n",
    "test_tuple = (1, 3, 5, 2, 3, 5, 1, 1, 3)\n",
    "\n",
    "print(\"sum =\", sum(set(test_tuple)))"
   ]
  },
  {
   "cell_type": "markdown",
   "id": "bf05af10",
   "metadata": {},
   "source": [
    "### 10. Write a python program to print maximum sum tuple from nested tuple."
   ]
  },
  {
   "cell_type": "code",
   "execution_count": 85,
   "id": "d8156263",
   "metadata": {},
   "outputs": [
    {
     "name": "stdout",
     "output_type": "stream",
     "text": [
      "(9, 8)\n"
     ]
    }
   ],
   "source": [
    "# For e.g.\n",
    "# Input: test_tuple = ((6, 7), (1, 2), (9, 8))\n",
    "# Output: (9, 8)\n",
    "# Explanation: Sum of each tuple is ((13), (3), (17)) 🡪 max sum is 17 🡪 output: (9, 8)\n",
    "\n",
    "test_tuple = ((6, 7), (1, 2), (9, 8))\n",
    "lst = [sum(key) for key in test_tuple]\n",
    "    \n",
    "key = max(lst)\n",
    "\n",
    "print(test_tuple[lst.index(key)])"
   ]
  },
  {
   "cell_type": "markdown",
   "id": "58359bb3",
   "metadata": {},
   "source": [
    "### 11. Write a Python program to find the tuple(s) with the maximum sum of elements from a list of tuples."
   ]
  },
  {
   "cell_type": "code",
   "execution_count": 1,
   "id": "0c7065df",
   "metadata": {},
   "outputs": [
    {
     "name": "stdout",
     "output_type": "stream",
     "text": [
      "(6, 7, 8)\n"
     ]
    }
   ],
   "source": [
    "# For example:\n",
    "# Input: test_list = [(1, 2, 3), (4, 5), (6, 7, 8)]\n",
    "# Output: [(6, 7, 8)]\n",
    "# Explanation: Sum of elements: [6, 9, 21], [9, 15], [21, 28, 36]. Maximum sum is from (6, 7, 8).\n",
    "\n",
    "test_list = [(1, 2, 3), (4, 5), (6, 7, 8)]\n",
    "max_sum = max(test_list, key=sum)\n",
    "\n",
    "print(max_sum)    "
   ]
  },
  {
   "cell_type": "markdown",
   "id": "cfe74f54",
   "metadata": {},
   "source": [
    "### 12. Write a Python program to merge two lists of tuples into a single sorted list based on the sum of elements in each tuple."
   ]
  },
  {
   "cell_type": "code",
   "execution_count": 2,
   "id": "2369f52d",
   "metadata": {},
   "outputs": [
    {
     "name": "stdout",
     "output_type": "stream",
     "text": [
      "[(1, 4), (2, 3), (3, 6), (4, 7), (5, 8), (6, 9)]\n"
     ]
    }
   ],
   "source": [
    "# For example:\n",
    "# Input: list1 = [(1, 4), (3, 6), (5, 8)], list2 = [(2, 3), (4, 7), (6, 9)]\n",
    "# Output: [(2, 3), (1, 4), (4, 7), (3, 6), (5, 8), (6, 9)]\n",
    "# Explanation: Merged and sorted list based on the sum of tuple elements.\n",
    "\n",
    "list1 = [(1, 4), (3, 6), (5, 8)]\n",
    "list2 = [(2, 3), (4, 7), (6, 9)]\n",
    "merged_sorted_list = sorted(list1 + list2, key=lambda x: sum(x))\n",
    "\n",
    "print(merged_sorted_list)"
   ]
  },
  {
   "cell_type": "markdown",
   "id": "2cb8f04e",
   "metadata": {},
   "source": [
    "### 13. Write a Python program to find all unique triplets from a list of tuples where the sum of elements in each triplet is zero."
   ]
  },
  {
   "cell_type": "code",
   "execution_count": 10,
   "id": "26785f50",
   "metadata": {},
   "outputs": [
    {
     "name": "stdout",
     "output_type": "stream",
     "text": [
      "[((-1, 2, -1), (1, -3, 2), (4, 5, -9))]\n"
     ]
    }
   ],
   "source": [
    "# For example:\n",
    "# Input: test_list = [(1, -1, 2), (2, -2, 3), (-1, 2, -1), (4, 5, -9)]\n",
    "# Output: [(1, -1, 2), (2, -2, 3), (-1, 2, -1)]\n",
    "# Explanation: Triplets with sum zero: (1, -1, 2), (2, -2, 3), (-1, 2, -1).\n",
    "\n",
    "from itertools import combinations\n",
    "\n",
    "test_list = [(1, -3, 2), (2, -2, 3), (-1, 2, -1), (4, 5, -9)]\n",
    "unique_triplets = set()\n",
    "\n",
    "for triplet in combinations(test_list, 3):\n",
    "    if sum(sum(x) for x in triplet) == 0:\n",
    "        unique_triplets.add(tuple(sorted(triplet)))\n",
    "\n",
    "print(list(unique_triplets))"
   ]
  },
  {
   "cell_type": "markdown",
   "id": "144f8f47",
   "metadata": {},
   "source": [
    "### 14. Write a Python program to find all pairs of tuples from a list where the concatenation of the elements of the pairs results in a palindrome."
   ]
  },
  {
   "cell_type": "code",
   "execution_count": 30,
   "id": "5f8d7753",
   "metadata": {},
   "outputs": [
    {
     "name": "stdout",
     "output_type": "stream",
     "text": [
      "[('ab', 'ba'), ('fe', 'ef')]\n"
     ]
    }
   ],
   "source": [
    "# For example:\n",
    "# Input: test_list = [(\"ab\", \"cd\"), (\"ef\", \"gh\"), (\"ab\", \"ba\"), (\"fe\", \"ef\"), (\"ab\", \"ed\"), (\"dc\", \"ba\")]\n",
    "# Output: [('ab', 'ba'), (fe\", \"ef\")]\n",
    "# Explanation: Pairs of tuples whose concatenation results in a palindrome are ('ab', 'ba'), (fe\", \"ef\").\n",
    "# Because the concatenation of their elements: 'abba' and 'feef' are palindromes.\n",
    "\n",
    "def is_palindrome(s):\n",
    "    return s == s[::-1]\n",
    "\n",
    "def find_palindrome_pairs(test_list):\n",
    "    palindrome_pairs = []\n",
    "    for i in test_list:\n",
    "        concat = i[0] + i[1]\n",
    "        if is_palindrome(concat):\n",
    "            palindrome_pairs.append(i)           \n",
    "    return palindrome_pairs\n",
    "        \n",
    "\n",
    "test_list = [(\"ab\", \"cd\"), (\"ef\", \"gh\"), (\"ab\", \"ba\"), (\"fe\", \"ef\"), (\"ab\", \"ed\"), (\"dc\", \"ba\")]\n",
    "result = find_palindrome_pairs(test_list)\n",
    "print(result)"
   ]
  },
  {
   "cell_type": "markdown",
   "id": "55c441bd",
   "metadata": {},
   "source": [
    "### 15. Write a Python program to find all possible subsets from a tuple."
   ]
  },
  {
   "cell_type": "code",
   "execution_count": 5,
   "id": "fdb0f607",
   "metadata": {},
   "outputs": [
    {
     "name": "stdout",
     "output_type": "stream",
     "text": [
      "[(), (1,), (2,), (3,), (1, 2), (1, 3), (2, 3), (1, 2, 3)]\n"
     ]
    }
   ],
   "source": [
    "# For example:\n",
    "# Input: test_tuple = (1, 2, 3)\n",
    "# Output: [(), (1,), (2,), (3,), (1, 2), (1, 3), (2, 3), (1, 2, 3)]\n",
    "# Explanation: All possible subsets of the tuple.\n",
    "\n",
    "from itertools import chain, combinations\n",
    "\n",
    "test_tuple = (1, 2, 3)\n",
    "subsets = chain.from_iterable(combinations(test_tuple, r) for r in range(len(test_tuple)+1))\n",
    "\n",
    "print(list(subsets))"
   ]
  },
  {
   "cell_type": "code",
   "execution_count": null,
   "id": "62216795",
   "metadata": {},
   "outputs": [],
   "source": []
  }
 ],
 "metadata": {
  "kernelspec": {
   "display_name": "Python 3 (ipykernel)",
   "language": "python",
   "name": "python3"
  },
  "language_info": {
   "codemirror_mode": {
    "name": "ipython",
    "version": 3
   },
   "file_extension": ".py",
   "mimetype": "text/x-python",
   "name": "python",
   "nbconvert_exporter": "python",
   "pygments_lexer": "ipython3",
   "version": "3.10.9"
  }
 },
 "nbformat": 4,
 "nbformat_minor": 5
}
