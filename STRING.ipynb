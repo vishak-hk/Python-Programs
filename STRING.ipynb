{
 "cells": [
  {
   "cell_type": "markdown",
   "id": "bb3396b7",
   "metadata": {},
   "source": [
    "### 1. Write a python program to merge two strings of same length and form a new string."
   ]
  },
  {
   "cell_type": "code",
   "execution_count": 5,
   "id": "e25c4b08",
   "metadata": {},
   "outputs": [
    {
     "name": "stdout",
     "output_type": "stream",
     "text": [
      "new_string = BUIAG\n"
     ]
    }
   ],
   "source": [
    "# For e.g.\n",
    "# Input: string1 = “BEING” string2 = “HUMAN”\n",
    "# Output: new_string = “BUIAG”\n",
    "# Explanation: Form new_string by considering 0th index of first string and 1st index of second\n",
    "# string and then again 2nd index of first string and 3rd index of second string and so on…\n",
    "\n",
    "string1 = 'BEING'\n",
    "string2 = 'HUMAN'\n",
    "\n",
    "if len(string1) == len(string2):\n",
    "    res_string = \"\"\n",
    "    c = 0\n",
    "    for i in range(len(string1)):\n",
    "        if c % 2 == 0:\n",
    "            res_string += string1[i]\n",
    "            c += 1\n",
    "        else:\n",
    "            res_string += string2[i]\n",
    "            c += 1\n",
    "    print(\"new_string =\", res_string)"
   ]
  },
  {
   "cell_type": "markdown",
   "id": "20eaecbc",
   "metadata": {},
   "source": [
    "### 2. Write a python program to check pangram (A pangram is a sentence containing every letter in the English Alphabet) "
   ]
  },
  {
   "cell_type": "code",
   "execution_count": 8,
   "id": "60faad96",
   "metadata": {},
   "outputs": [
    {
     "name": "stdout",
     "output_type": "stream",
     "text": [
      "26\n",
      "The sentence is a pangram.\n"
     ]
    }
   ],
   "source": [
    "# For e.g.\n",
    "# Input: “The quick brown fox jumps over the lazy dog”\n",
    "# Output: is a Pangram\n",
    "# Explanation: Contains all the characters from ‘a’ to ‘z’\n",
    "\n",
    "org_sentence = \"The quick brown fox jumps over the lazy dog\"\n",
    "\n",
    "sentence = org_sentence.replace(\" \", \"\")\n",
    "\n",
    "letters = set(sentence.lower())\n",
    "\n",
    "if len(letters) == 26:\n",
    "    print(\"The sentence is a pangram.\")\n",
    "else:\n",
    "    print(\"The sentence is not a pangram.\")"
   ]
  },
  {
   "cell_type": "markdown",
   "id": "5518f6dc",
   "metadata": {},
   "source": [
    "### 3. Write a Python program that creates all possible strings using the letters 'a', 'e', 'i', 'o', and 'I'. Ensure that each character is used only once."
   ]
  },
  {
   "cell_type": "code",
   "execution_count": 20,
   "id": "a20fafdf",
   "metadata": {},
   "outputs": [
    {
     "name": "stdout",
     "output_type": "stream",
     "text": [
      "['aeioI', 'aeiIo', 'aeoiI', 'aeoIi', 'aeIio', 'aeIoi', 'aieoI', 'aieIo', 'aioeI', 'aioIe', 'aiIeo', 'aiIoe', 'aoeiI', 'aoeIi', 'aoieI', 'aoiIe', 'aoIei', 'aoIie', 'aIeio', 'aIeoi', 'aIieo', 'aIioe', 'aIoei', 'aIoie', 'eaioI', 'eaiIo', 'eaoiI', 'eaoIi', 'eaIio', 'eaIoi', 'eiaoI', 'eiaIo', 'eioaI', 'eioIa', 'eiIao', 'eiIoa', 'eoaiI', 'eoaIi', 'eoiaI', 'eoiIa', 'eoIai', 'eoIia', 'eIaio', 'eIaoi', 'eIiao', 'eIioa', 'eIoai', 'eIoia', 'iaeoI', 'iaeIo', 'iaoeI', 'iaoIe', 'iaIeo', 'iaIoe', 'ieaoI', 'ieaIo', 'ieoaI', 'ieoIa', 'ieIao', 'ieIoa', 'ioaeI', 'ioaIe', 'ioeaI', 'ioeIa', 'ioIae', 'ioIea', 'iIaeo', 'iIaoe', 'iIeao', 'iIeoa', 'iIoae', 'iIoea', 'oaeiI', 'oaeIi', 'oaieI', 'oaiIe', 'oaIei', 'oaIie', 'oeaiI', 'oeaIi', 'oeiaI', 'oeiIa', 'oeIai', 'oeIia', 'oiaeI', 'oiaIe', 'oieaI', 'oieIa', 'oiIae', 'oiIea', 'oIaei', 'oIaie', 'oIeai', 'oIeia', 'oIiae', 'oIiea', 'Iaeio', 'Iaeoi', 'Iaieo', 'Iaioe', 'Iaoei', 'Iaoie', 'Ieaio', 'Ieaoi', 'Ieiao', 'Ieioa', 'Ieoai', 'Ieoia', 'Iiaeo', 'Iiaoe', 'Iieao', 'Iieoa', 'Iioae', 'Iioea', 'Ioaei', 'Ioaie', 'Ioeai', 'Ioeia', 'Ioiae', 'Ioiea']\n"
     ]
    }
   ],
   "source": [
    "from itertools import permutations\n",
    "\n",
    "characters = 'aeioI'\n",
    "all_permutations = [''.join(p) for p in permutations(characters, len(characters))]\n",
    "\n",
    "print(all_permutations)"
   ]
  },
  {
   "cell_type": "markdown",
   "id": "bfdc9c34",
   "metadata": {},
   "source": [
    "### 4. Write a Python program that prints long text, converts it to a list, and prints all the words and the frequency of each word."
   ]
  },
  {
   "cell_type": "code",
   "execution_count": 21,
   "id": "1d303c1a",
   "metadata": {},
   "outputs": [
    {
     "name": "stdout",
     "output_type": "stream",
     "text": [
      "this: 2\n",
      "is: 2\n",
      "a: 1\n",
      "long: 1\n",
      "text: 1\n",
      "example.: 1\n",
      "it: 1\n",
      "contains: 1\n",
      "multiple: 1\n",
      "sentences: 1\n",
      "and: 1\n",
      "words.: 1\n",
      "the: 3\n",
      "purpose: 1\n",
      "of: 2\n",
      "program: 1\n",
      "to: 1\n",
      "count: 1\n",
      "frequency: 1\n",
      "each: 1\n",
      "word: 1\n",
      "in: 1\n",
      "text.: 1\n"
     ]
    }
   ],
   "source": [
    "from collections import Counter\n",
    "\n",
    "long_text = \"\"\"\n",
    "This is a long text example. It contains multiple sentences and words. \n",
    "The purpose of this program is to count the frequency of each word in the text.\n",
    "\"\"\"\n",
    "\n",
    "words = long_text.lower().split()\n",
    "\n",
    "word_frequency = Counter(words)\n",
    "\n",
    "for word, frequency in word_frequency.items():\n",
    "    print(f\"{word}: {frequency}\")"
   ]
  },
  {
   "cell_type": "markdown",
   "id": "7bc64634",
   "metadata": {},
   "source": [
    "### 5. Write a Python program to count the number of each character in a string."
   ]
  },
  {
   "cell_type": "code",
   "execution_count": 15,
   "id": "7c590a6b",
   "metadata": {},
   "outputs": [
    {
     "name": "stdout",
     "output_type": "stream",
     "text": [
      "insideaiml\n",
      "[('i', 3), ('n', 1), ('s', 1), ('d', 1), ('e', 1), ('a', 1), ('m', 1), ('l', 1)]\n"
     ]
    }
   ],
   "source": [
    "# Input: “insideaiml”\n",
    "# Output: [(“i”, 3), (“n”,1), (“s”,1), (“d”,1), (“e”,1), (“a”,1), (“m”,1), (“l”,1)]\n",
    "\n",
    "input_string = input()\n",
    "lst = []\n",
    "\n",
    "for character in input_string:\n",
    "    count = input_string.count(character)\n",
    "    if (character, count) not in lst:\n",
    "        lst.append((character, count))\n",
    "    \n",
    "print(lst)"
   ]
  },
  {
   "cell_type": "markdown",
   "id": "241406e7",
   "metadata": {},
   "source": [
    "### 6. Write a Python program to add two positive integers without using the '+' operator."
   ]
  },
  {
   "cell_type": "code",
   "execution_count": 16,
   "id": "376d6e14",
   "metadata": {},
   "outputs": [
    {
     "name": "stdout",
     "output_type": "stream",
     "text": [
      "Enter the first positive integer: 4\n",
      "Enter the second positive integer: 5\n",
      "The sum of 4 and 5 is: 9\n"
     ]
    }
   ],
   "source": [
    "def add_without_plus_operator(a, b):\n",
    "    while b != 0:\n",
    "        carry = a & b\n",
    "        \n",
    "        # Sum of bits of 'a' and 'b' where at least one of them is not set\n",
    "        a = a ^ b\n",
    "        \n",
    "        # Carry is shifted by one so that adding it to 'a' gives the required sum\n",
    "        b = carry << 1\n",
    "\n",
    "    return a\n",
    "\n",
    "num1 = int(input(\"Enter the first positive integer: \"))\n",
    "num2 = int(input(\"Enter the second positive integer: \"))\n",
    "\n",
    "result = add_without_plus_operator(num1, num2)\n",
    "print(f\"The sum of {num1} and {num2} is: {result}\")"
   ]
  },
  {
   "cell_type": "markdown",
   "id": "c0b34a29",
   "metadata": {},
   "source": [
    "### 7. Write a python program to find the least frequency and maximum frequency character in a string. Then concatenate them."
   ]
  },
  {
   "cell_type": "code",
   "execution_count": 31,
   "id": "3207d060",
   "metadata": {},
   "outputs": [
    {
     "name": "stdout",
     "output_type": "stream",
     "text": [
      "Minimum frequency character is: ['y', 'h', 'f', 'u', 'd']\n",
      "Maximum frequency character is: ['o', 'n']\n",
      "Concatenate_word = yhfudon\n"
     ]
    }
   ],
   "source": [
    "# For e.g.\n",
    "# Input: “Python Programming Foundation”\n",
    "# Output: least frequency character is [“y”, “h”, “f”, “u”, “d”]\n",
    "# \tMaximum Frequency character is [“o”, “n”]\n",
    "# \tConcatenate_word = “yhfudon”\n",
    "\n",
    "input_string = \"Python Programming Foundation\"\n",
    "input_string = input_string.replace(' ', '').lower()\n",
    "lst = []\n",
    "\n",
    "for character in input_string:\n",
    "    count = input_string.count(character.lower())\n",
    "    if (character, count) not in lst:\n",
    "        lst.append((character, count))\n",
    "\n",
    "max_value = max(lst, key=lambda item: item[1])[1]\n",
    "min_value = min(lst, key=lambda item: item[1])[1]\n",
    "\n",
    "min_str = []\n",
    "max_str = []\n",
    "\n",
    "for (character, count) in lst:\n",
    "    if count == max_value:\n",
    "        max_str.append(character)\n",
    "    elif count == min_value:\n",
    "        min_str.append(character)\n",
    "\n",
    "s1 = ''.join(min_str)\n",
    "s2 = ''.join(max_str)\n",
    "\n",
    "print(\"Minimum frequency character is:\", min_str)\n",
    "print(\"Maximum frequency character is:\", max_str)\n",
    "print(\"Concatenate_word =\", s1 + s2)"
   ]
  },
  {
   "cell_type": "markdown",
   "id": "7c64b663",
   "metadata": {},
   "source": [
    "### 8. Write a python program to find the word which consists of no vowels."
   ]
  },
  {
   "cell_type": "code",
   "execution_count": 1,
   "id": "b7d76324",
   "metadata": {},
   "outputs": [
    {
     "name": "stdout",
     "output_type": "stream",
     "text": [
      "Input: Let’s try to fry chips for snacks\n",
      "Output: ['try', 'fry']\n"
     ]
    }
   ],
   "source": [
    "# For e.g.\n",
    "# Input: “Let’s try to fry chips for snacks”\n",
    "# Output: [“try”, “fry”]\n",
    "\n",
    "def find_words_with_no_vowels(sentence):\n",
    "    words = sentence.split()\n",
    "    no_vowel_words = []\n",
    "\n",
    "    for word in words:\n",
    "        if all(letter.lower() not in 'aeiou' for letter in word):\n",
    "            no_vowel_words.append(word)\n",
    "\n",
    "    return no_vowel_words\n",
    "\n",
    "input_sentence = \"Let’s try to fry chips for snacks\"\n",
    "output = find_words_with_no_vowels(input_sentence)\n",
    "print(\"Input:\", input_sentence)\n",
    "print(\"Output:\", output)"
   ]
  },
  {
   "cell_type": "markdown",
   "id": "a309ead2",
   "metadata": {},
   "source": [
    "### 9. Write a python program to swap characters of a string."
   ]
  },
  {
   "cell_type": "code",
   "execution_count": 3,
   "id": "bd05b7d0",
   "metadata": {},
   "outputs": [
    {
     "name": "stdout",
     "output_type": "stream",
     "text": [
      "Enter a string: INSIDEAIML\n",
      "Input: INSIDEAIML\n",
      "Output: LMIAEDISNI\n"
     ]
    }
   ],
   "source": [
    "# For e.g.\n",
    "# Input: INSIDEAIML\n",
    "# Output: LMIAEDISNI\n",
    "# Input: APPLE\n",
    "# Output: ELPPA\n",
    "\n",
    "user_input = input(\"Enter a string: \")\n",
    "\n",
    "output = user_input[::-1]\n",
    "\n",
    "print(f\"Input: {user_input}\")\n",
    "print(f\"Output: {output}\")"
   ]
  },
  {
   "cell_type": "markdown",
   "id": "2f5d0ea0",
   "metadata": {},
   "source": [
    "### 10.Write a python program to find the term frequency in percentage."
   ]
  },
  {
   "cell_type": "code",
   "execution_count": 42,
   "id": "8d541963",
   "metadata": {},
   "outputs": [
    {
     "name": "stdout",
     "output_type": "stream",
     "text": [
      "{'InsideAIML': 0.25, 'is': 0.125, 'best': 0.125, 'for': 0.125, 'geeks': 0.125, 'All': 0.125, 'love': 0.125}\n"
     ]
    }
   ],
   "source": [
    "# For e.g.\n",
    "# Explanation: (Occurrence of X word / Total words) * 100\n",
    "# Input: test_list = [“InsideAIML is best for geeks”, “All love InsideAIML”]\n",
    "# Output: {‘InsideAIML’: 0.25, ‘is’: 0.125, ‘best’: 0.125, ‘for’: 0.125, ‘geeks’: 0.125, ‘All’: 0.125, ‘love’: 0.125}\n",
    "\n",
    "def calculate_term_frequency(text_list):\n",
    "    term_frequency = {}\n",
    "    total_words = sum(len(text.split()) for text in text_list)\n",
    "    for text in text_list:\n",
    "        words = text.split()\n",
    "        for word in words:\n",
    "            term_frequency[word] = term_frequency.get(word, 0) + 1 / total_words\n",
    "    return term_frequency\n",
    "\n",
    "text_list = [\"InsideAIML is best for geeks\", \"All love InsideAIML\"]\n",
    "result = calculate_term_frequency(text_list)\n",
    "print(result)"
   ]
  },
  {
   "cell_type": "markdown",
   "id": "b13b6a77",
   "metadata": {},
   "source": [
    "### 11. Write a python program to find the anagram and print them in alphabetic order."
   ]
  },
  {
   "cell_type": "code",
   "execution_count": 75,
   "id": "ad81274f",
   "metadata": {},
   "outputs": [
    {
     "name": "stdout",
     "output_type": "stream",
     "text": [
      "['act', 'cat', 'tac', 'dog', 'god']\n"
     ]
    }
   ],
   "source": [
    "# For e.g.\n",
    "# Input: list = [“cat”, “dog”, “tac”, “god”, “act”,”camel”,”male”]\n",
    "# Output: [“act”, “cat”, “tac”, “dog”, “god”]\n",
    "\n",
    "\n",
    "lst = [\"cat\", \"dog\", \"tac\", \"god\", \"act\", \"camel\", \"male\"]\n",
    "\n",
    "anagram_groups = {}\n",
    "\n",
    "for word in lst:\n",
    "    sorted_word = \"\".join(sorted(word))\n",
    "    \n",
    "    if sorted_word in anagram_groups:\n",
    "        anagram_groups[sorted_word].append(word)\n",
    "    else:\n",
    "        anagram_groups[sorted_word] = [word]\n",
    "\n",
    "result = [sorted(group) for group in anagram_groups.values() if len(group) > 1]\n",
    "\n",
    "result = sorted(result)\n",
    "\n",
    "output = [word for group in result for word in group]\n",
    "\n",
    "print(output)"
   ]
  },
  {
   "cell_type": "markdown",
   "id": "55cdd79d",
   "metadata": {},
   "source": [
    "### 12. Write a python program to create a password using existing username along with hyphen. "
   ]
  },
  {
   "cell_type": "code",
   "execution_count": 108,
   "id": "731af7ea",
   "metadata": {},
   "outputs": [
    {
     "name": "stdout",
     "output_type": "stream",
     "text": [
      "I-nsi-de0-81A-I84-6ML\n"
     ]
    }
   ],
   "source": [
    "# For e.g.\n",
    "# Input: Inside081AI846ML & N = 3\n",
    "# Output: I-nsi-de0-81A-I84-6ML\n",
    "# If N = 5 🡪 Output: I-nside-081AI-846ML\n",
    "# If N = 4 🡪 Output: Insi-de08-1AI8-46ML\n",
    "\n",
    "input_string = \"Inside081AI846ML\"\n",
    "n = 3\n",
    "count = 0\n",
    "rev_string_with_hyphen = \"\"\n",
    "rev_string = input_string[::-1]\n",
    "\n",
    "for item in rev_string:\n",
    "    if count % n == 0 and count != 0:\n",
    "        rev_string_with_hyphen += '-'\n",
    "        rev_string_with_hyphen += item\n",
    "        count += 1\n",
    "    else:\n",
    "        rev_string_with_hyphen += item\n",
    "        count += 1\n",
    "\n",
    "string_with_hyphen = rev_string_with_hyphen[::-1]\n",
    "        \n",
    "print(string_with_hyphen)"
   ]
  },
  {
   "cell_type": "markdown",
   "id": "a7d0d6a6",
   "metadata": {},
   "source": [
    "### 13. Write a Python program to check the priority of the four operators (+, -, *, /)."
   ]
  },
  {
   "cell_type": "code",
   "execution_count": 143,
   "id": "4bc297d6",
   "metadata": {},
   "outputs": [
    {
     "name": "stdout",
     "output_type": "stream",
     "text": [
      "Operator: *, Precedence: 2\n",
      "Operator: /, Precedence: 2\n",
      "Operator: +, Precedence: 1\n",
      "Operator: -, Precedence: 1\n",
      "\n",
      "Operators sorted by precedence (from higher to lower):\n",
      "*\n",
      "/\n",
      "+\n",
      "-\n"
     ]
    }
   ],
   "source": [
    "operators = {\n",
    "    '+': 1,\n",
    "    '-': 1,\n",
    "    '*': 2,\n",
    "    '/': 2\n",
    "}\n",
    "\n",
    "for operator_name, precedence_level in sorted(operators.items(), key=lambda x: x[1], reverse=True):\n",
    "    print(f\"Operator: {operator_name}, Precedence: {precedence_level}\")\n",
    "\n",
    "print(\"\\nOperators sorted by precedence (from higher to lower):\")\n",
    "for operator_name in sorted(operators.keys(), key=lambda op: operators[op], reverse=True):\n",
    "    print(operator_name)"
   ]
  },
  {
   "cell_type": "markdown",
   "id": "8ab94bba",
   "metadata": {},
   "source": [
    "### 14. Write a Python program to get the third side of a right-angled triangle from two given sides."
   ]
  },
  {
   "cell_type": "code",
   "execution_count": 109,
   "id": "e2259892",
   "metadata": {},
   "outputs": [
    {
     "name": "stdout",
     "output_type": "stream",
     "text": [
      "Enter the length of the first side: 4\n",
      "Enter the length of the second side: 3\n",
      "The length of the third side is 5.00\n"
     ]
    }
   ],
   "source": [
    "import math\n",
    "\n",
    "a = float(input(\"Enter the length of the first side: \"))\n",
    "b = float(input(\"Enter the length of the second side: \"))\n",
    "\n",
    "if a < 0 or b < 0:\n",
    "    print(\"Side lengths should be non-negative.\")\n",
    "else:\n",
    "    c = math.sqrt(a**2 + b**2)\n",
    "    print(f\"The length of the third side is {c:.2f}\")"
   ]
  },
  {
   "cell_type": "markdown",
   "id": "02fe1e4f",
   "metadata": {},
   "source": [
    "### 15. Write a Python program to get all strobogrammatic numbers that are of length n."
   ]
  },
  {
   "cell_type": "code",
   "execution_count": 33,
   "id": "cc076159",
   "metadata": {},
   "outputs": [
    {
     "name": "stdout",
     "output_type": "stream",
     "text": [
      "101\n",
      "609\n",
      "808\n",
      "906\n",
      "111\n",
      "619\n",
      "818\n",
      "916\n",
      "181\n",
      "689\n",
      "888\n",
      "986\n"
     ]
    }
   ],
   "source": [
    "def findStrobogrammatic(n):\n",
    "    def helper(m, n):\n",
    "        if m == 0:\n",
    "            return [\"\"]\n",
    "        if m == 1:\n",
    "            return [\"0\", \"1\", \"8\"]\n",
    "        \n",
    "        result = []\n",
    "        for num in helper(m - 2, n):\n",
    "            if m != n:\n",
    "                result.append(\"0\" + num + \"0\")\n",
    "            result.append(\"1\" + num + \"1\")\n",
    "            result.append(\"6\" + num + \"9\")\n",
    "            result.append(\"8\" + num + \"8\")\n",
    "            result.append(\"9\" + num + \"6\")\n",
    "        \n",
    "        return result\n",
    "    \n",
    "    return helper(n, n)\n",
    "\n",
    "n = 3\n",
    "result = findStrobogrammatic(n)\n",
    "for num in result:\n",
    "    print(num)"
   ]
  },
  {
   "cell_type": "markdown",
   "id": "52a6897c",
   "metadata": {},
   "source": [
    "### 16. Write a Python program to find the median among three given numbers."
   ]
  },
  {
   "cell_type": "code",
   "execution_count": 112,
   "id": "5a9063d9",
   "metadata": {},
   "outputs": [
    {
     "name": "stdout",
     "output_type": "stream",
     "text": [
      "Enter the first number: 8\n",
      "Enter the second number: 3\n",
      "Enter the third number: 18\n",
      "The median of the three numbers is: 8.0\n"
     ]
    }
   ],
   "source": [
    "num1 = float(input(\"Enter the first number: \"))\n",
    "num2 = float(input(\"Enter the second number: \"))\n",
    "num3 = float(input(\"Enter the third number: \"))\n",
    "\n",
    "numbers = [num1, num2, num3]\n",
    "\n",
    "numbers.sort()\n",
    "\n",
    "median = numbers[1]\n",
    "\n",
    "print(f\"The median of the three numbers is: {median}\")"
   ]
  },
  {
   "cell_type": "markdown",
   "id": "cfe10742",
   "metadata": {},
   "source": [
    "### 17. Write a Python program that finds the value of n when n degrees of number 2 are written sequentially on a line without spaces between them."
   ]
  },
  {
   "cell_type": "code",
   "execution_count": 56,
   "id": "e7546043",
   "metadata": {},
   "outputs": [
    {
     "name": "stdout",
     "output_type": "stream",
     "text": [
      "Enter the sequence of 2's: 222\n",
      "The value of n is: 16\n"
     ]
    }
   ],
   "source": [
    "def find_degrees_of_two(sequence):\n",
    "    n = len(sequence)\n",
    "    result = 2\n",
    "    for _ in range(n - 1):\n",
    "        result = 2 ** result\n",
    "    return result\n",
    "\n",
    "sequence = input(\"Enter the sequence of 2's: \")\n",
    "result = find_degrees_of_two(sequence)\n",
    "\n",
    "print(\"The value of n is:\", result)"
   ]
  },
  {
   "cell_type": "markdown",
   "id": "533b81cd",
   "metadata": {},
   "source": [
    "### 18. Write a Python program to find the number of zeros at the end of a factorial of a given positive number."
   ]
  },
  {
   "cell_type": "code",
   "execution_count": 80,
   "id": "49e377cd",
   "metadata": {},
   "outputs": [
    {
     "name": "stdout",
     "output_type": "stream",
     "text": [
      "Enter a positive integer: 100\n",
      "The number of trailing zeros in 100! is 24\n"
     ]
    }
   ],
   "source": [
    "def count_zeros_in_factorial(n):\n",
    "    count = 0\n",
    "\n",
    "    while n >= 5:\n",
    "        n //= 5\n",
    "        count += n\n",
    "\n",
    "    return count\n",
    "\n",
    "n = int(input(\"Enter a positive integer: \"))\n",
    "trailing_zeros = count_zeros_in_factorial(n)\n",
    "\n",
    "print(f\"The number of trailing zeros in {n}! is {trailing_zeros}\")"
   ]
  },
  {
   "cell_type": "markdown",
   "id": "b6d9499a",
   "metadata": {},
   "source": [
    "### 19. Write a Python program to replace a string \"Python\" with \"Java\" and \"Java\" with \"Python\" in a given string. "
   ]
  },
  {
   "cell_type": "code",
   "execution_count": 136,
   "id": "c0968a35",
   "metadata": {},
   "outputs": [
    {
     "name": "stdout",
     "output_type": "stream",
     "text": [
      "Input a text with two words 'Python' and 'Java': Python is popular than Java\n",
      "Java is popular than Python\n"
     ]
    }
   ],
   "source": [
    "# Input:\n",
    "# English letters (including single byte alphanumeric characters, blanks, and symbols) are given on one line. The length of the input character string is 1000 or less\n",
    "# Input a text with two words 'Python' and 'Java'\n",
    "# Python is popular than Java\n",
    "# Java is popular than Python\n",
    "\n",
    "text = input(\"Input a text with two words 'Python' and 'Java': \")\n",
    "\n",
    "text = text.replace(\"Python\", \"temp_placeholder\")\n",
    "\n",
    "text = text.replace(\"Java\", \"Python\")\n",
    "\n",
    "text = text.replace(\"temp_placeholder\", \"Java\")\n",
    "\n",
    "print(text)"
   ]
  },
  {
   "cell_type": "markdown",
   "id": "948f3e60",
   "metadata": {},
   "source": [
    "### 20. Write a Python program to reverse only the vowels of a given string."
   ]
  },
  {
   "cell_type": "code",
   "execution_count": 81,
   "id": "10475b94",
   "metadata": {},
   "outputs": [
    {
     "name": "stdout",
     "output_type": "stream",
     "text": [
      "Python\n",
      "Perl\n",
      "ASU\n"
     ]
    }
   ],
   "source": [
    "# Sample Input:\n",
    "# (\"Python\")\n",
    "# (\"Perl\")\n",
    "# (\"USA\")\n",
    "# Sample Output:\n",
    "# Python\n",
    "# Perl\n",
    "# ASU\n",
    "\n",
    "def reverse_vowels(s):\n",
    "    vowels = \"AEIOUaeiou\"\n",
    "    s = list(s)\n",
    "    left, right = 0, len(s) - 1\n",
    "\n",
    "    while left < right:\n",
    "        while left < right and s[left] not in vowels:\n",
    "            left += 1\n",
    "        while left < right and s[right] not in vowels:\n",
    "            right -= 1\n",
    "\n",
    "        s[left], s[right] = s[right], s[left]\n",
    "        left += 1\n",
    "        right -= 1\n",
    "\n",
    "    return \"\".join(s)\n",
    "\n",
    "input_strings = [\"Python\", \"Perl\", \"USA\"]\n",
    "for s in input_strings:\n",
    "    reversed_str = reverse_vowels(s)\n",
    "    print(reversed_str)"
   ]
  },
  {
   "cell_type": "markdown",
   "id": "d5f64cd3",
   "metadata": {},
   "source": [
    "### 21. Write a python program to check whether the string is Palindrome or Symmetrical or neither of them."
   ]
  },
  {
   "cell_type": "code",
   "execution_count": 152,
   "id": "48171966",
   "metadata": {},
   "outputs": [
    {
     "name": "stdout",
     "output_type": "stream",
     "text": [
      "Nitin\n",
      "is a Palindrome\n"
     ]
    }
   ],
   "source": [
    "# For e.g.\n",
    "# Input: “Nitin”\n",
    "# Output: is a Palindrome\n",
    "# Input: “KhoKho”\n",
    "# Output: is a Symmetrical\n",
    "# Input: “Philanthropist”\n",
    "# Output: Neither Palindrome nor Symmetrical\n",
    "\n",
    "input_string = input().lower()\n",
    "\n",
    "reverse_string = input_string[::-1]\n",
    "\n",
    "length = len(input_string)//2\n",
    "S1 = input_string[:length]\n",
    "S2 = input_string[length:]\n",
    "\n",
    "if input_string == reverse_string:\n",
    "    print(\"is a Palindrome\")\n",
    "elif S1 == S2:\n",
    "    print(\"is a Symmetrical\")\n",
    "else:\n",
    "    print(\"Neither Palindrome nor Symmetrical\")"
   ]
  },
  {
   "cell_type": "markdown",
   "id": "f6859b6c",
   "metadata": {},
   "source": [
    "### 22. Write a python program to sort strings by maximum frequency character."
   ]
  },
  {
   "cell_type": "code",
   "execution_count": 159,
   "id": "5b36da95",
   "metadata": {},
   "outputs": [
    {
     "name": "stdout",
     "output_type": "stream",
     "text": [
      "['for', 'geeks', 'bettered', 'insideAIML']\n"
     ]
    }
   ],
   "source": [
    "# For e.g.\n",
    "# Input: test_list = [“insideAIML”, “bettered”, “for”, “geeks”]\n",
    "# Output: [“for”, “geeks”, “bettered”, “insideAIML”]\n",
    "# Explanation: 1 < 2 < 3 < 4, is ordering of maximum character occurrence frequency\n",
    "\n",
    "test_list = [\"insideAIML\", \"bettered\", \"for\", \"geeks\"]\n",
    "\n",
    "dic = {item : len(item) for item in test_list}\n",
    "\n",
    "sorted_dict = dict(sorted(dic.items(), key = lambda item : item[1]))\n",
    "\n",
    "output_list = list(sorted_dict.keys())\n",
    "\n",
    "print(output_list)"
   ]
  },
  {
   "cell_type": "markdown",
   "id": "b5f8fdee",
   "metadata": {},
   "source": [
    "### 23. Write a Python program to reverse the digits of a given number and add them to the original. Repeat this procedure if the sum is not a palindrome"
   ]
  },
  {
   "cell_type": "code",
   "execution_count": 1,
   "id": "ed8fd726",
   "metadata": {},
   "outputs": [
    {
     "name": "stdout",
     "output_type": "stream",
     "text": [
      "Enter a number: 87\n",
      "Sum: 87 + 78 = 165\n",
      "Sum: 165 + 561 = 726\n",
      "Sum: 726 + 627 = 1353\n",
      "The palindrome sum is: 4884\n"
     ]
    }
   ],
   "source": [
    "def is_palindrome(number):\n",
    "    return str(number) == str(number)[::-1]\n",
    "\n",
    "def reverse_and_add(number):\n",
    "    reversed_number = int(str(number)[::-1])\n",
    "    return number + reversed_number\n",
    "\n",
    "original_number = int(input(\"Enter a number: \"))\n",
    "\n",
    "while True:\n",
    "    result = reverse_and_add(original_number)\n",
    "\n",
    "    if is_palindrome(result):\n",
    "        print(f\"The palindrome sum is: {result}\")\n",
    "        break\n",
    "\n",
    "    print(f\"Sum: {original_number} + {int(str(original_number)[::-1])} = {result}\")\n",
    "\n",
    "    original_number = result"
   ]
  },
  {
   "cell_type": "markdown",
   "id": "b7ef52f8",
   "metadata": {},
   "source": [
    "### 24. Write a Python program that reads text (only alphabetical characters and spaces) and prints two words. The first word is the one that appears most often in the text. The second one is the word with the most letters. "
   ]
  },
  {
   "cell_type": "markdown",
   "id": "18339f69",
   "metadata": {},
   "source": [
    "#### Note: A word is a sequence of letters which is separated by the spaces.\n",
    "#### Input:\n",
    "##### A text is given in a line with following condition:\n",
    "1. The number of letters in the text is less than or equal to 1000.\n",
    "2. The number of letters in a word is less than or equal to 32.\n",
    "3. There is only one word which is arise most frequently in given text.\n",
    "4. There is only one word which has the maximum number of letters in given text."
   ]
  },
  {
   "cell_type": "code",
   "execution_count": 181,
   "id": "868a0563",
   "metadata": {},
   "outputs": [
    {
     "name": "stdout",
     "output_type": "stream",
     "text": [
      "your participation.\n"
     ]
    }
   ],
   "source": [
    "# Input text: Thank you for your comment and your participation.\n",
    "# Output: your participation.\n",
    "\n",
    "input_string = \"Thank you for your comment and your participation.\"\n",
    "\n",
    "if len(input_string) <= 1000:\n",
    "    lst = input_string.split()\n",
    "    dic1 = {}\n",
    "    dic2 = {}\n",
    "    freq_count = 0\n",
    "    len_count = 0\n",
    "    \n",
    "    for item in lst:\n",
    "        if len(item) <= 32:\n",
    "            if len(item) > len_count:\n",
    "                dic1.clear()\n",
    "                dic1[item] = len(item)\n",
    "                len_count = len(item)\n",
    "        else:\n",
    "            print(\"The number of letters in a word should be less than or equal to 32\")\n",
    "        \n",
    "        if lst.count(item) > freq_count:\n",
    "            dic2.clear()\n",
    "            dic2[item] = lst.count(item)\n",
    "            freq_count = lst.count(item)\n",
    "            \n",
    "    list1 = list(dic2.keys())\n",
    "    list2 = list(dic1.keys())\n",
    "    \n",
    "    print(\" \".join(list1 + list2))"
   ]
  },
  {
   "cell_type": "markdown",
   "id": "59dff1a2",
   "metadata": {},
   "source": [
    "### 25. Write a Python program to sum all numerical values (positive integers) embedded in a sentence. "
   ]
  },
  {
   "cell_type": "code",
   "execution_count": 184,
   "id": "ac72cb0e",
   "metadata": {},
   "outputs": [
    {
     "name": "stdout",
     "output_type": "stream",
     "text": [
      "Input some text and numeric values (to exit):\n",
      "Sum of the numeric values: 80\n",
      "Sum of the numeric values: 80\n",
      "Input some text and numeric values (to exit):\n",
      "Sum of the numeric values: 80 68\n",
      "Sum of the numeric values: 148\n",
      "Input some text and numeric values (to exit):\n",
      "Sum of the numeric values: 80, 100\n",
      "Sum of the numeric values: 180\n",
      "Input some text and numeric values (to exit):\n",
      "None\n"
     ]
    }
   ],
   "source": [
    "# Input:\n",
    "# Sentences with positive integers are given over multiple lines. Each line is a character string containing one-byte alphanumeric characters, symbols, spaces, or an empty line. However the input is 80 characters or less per line and the sum is 10,000 or less.\n",
    "# Input some text and numeric values (to exit):\n",
    "# Sum of the numeric values: 80\n",
    "# None\n",
    "# Input some text and numeric values (to exit):\n",
    "# Sum of the numeric values: 17\n",
    "# None\n",
    "# Input some text and numeric values (to exit):\n",
    "# Sum of the numeric values: 10\n",
    "# None\n",
    "\n",
    "import re\n",
    "\n",
    "def sum_numerical_values(text):\n",
    "    pattern = r'\\d+'\n",
    "    matches = re.findall(pattern, text)\n",
    "    \n",
    "    total = sum(map(int, matches))\n",
    "    \n",
    "    return total\n",
    "\n",
    "while True:\n",
    "    input_text = input(\"Input some text and numeric values (to exit):\\n\")\n",
    "    if input_text.startswith(\"Sum of the numeric values:\"):\n",
    "        total = sum_numerical_values(input_text)\n",
    "        print(\"Sum of the numeric values:\", total)\n",
    "    else:\n",
    "        break"
   ]
  },
  {
   "cell_type": "markdown",
   "id": "a54a25fc",
   "metadata": {},
   "source": [
    "### 26. When character are consecutive in a string, it is possible to shorten the character string by replacing the character with a certain rule. For example, in the case of the character string YYYYY, if it is expressed as # 5 Y, it is compressed by one character.\n",
    "### Write a Python program to restore the original string by entering the compressed string with this rule. However, the # character does not appear in the restored character string."
   ]
  },
  {
   "cell_type": "code",
   "execution_count": 198,
   "id": "c3a52e0c",
   "metadata": {},
   "outputs": [
    {
     "name": "stdout",
     "output_type": "stream",
     "text": [
      "Original text: #39+1=1#30\n",
      "999+1=1000\n"
     ]
    }
   ],
   "source": [
    "# Input:\n",
    "# The restored character string for each character on one line.\n",
    "# Original text: XY#6Z1#4023\n",
    "# XYZZZZZZ1000023\n",
    "# Original text: #39+1=1#30\n",
    "# 999+1=1000\n",
    "\n",
    "input_string = input(\"Original text: \")\n",
    "\n",
    "s = \"\"\n",
    "i = 0\n",
    "\n",
    "while i < len(input_string):\n",
    "    if input_string[i] == '#':\n",
    "        key = int(input_string[i + 1])\n",
    "        value = input_string[i + 2]\n",
    "\n",
    "        for j in range(key):\n",
    "            s += value\n",
    "        i += 3\n",
    "    else:\n",
    "        s += input_string[i]\n",
    "        i += 1\n",
    "\n",
    "print(s)"
   ]
  },
  {
   "cell_type": "markdown",
   "id": "0c270123",
   "metadata": {},
   "source": [
    "### 27. In mathematics, a subsequence is a sequence that can be derived from another sequence by deleting some or no elements without changing the order of the remaining elements. For example, the sequence (A, B, D) is a subsequence of (A, B, C, D, E, F) obtained after removal of elements C, E, and F. The relation of one sequence being the subsequence of another is a preorder.\n",
    "### The subsequence should not be confused with substring (A,B,C,D) which can be derived from the above string (A,B,C,D,E,F) by deleting substring (E,F). The substring is a refinement of the subsequence.\n",
    "### The list of all subsequences for the word \"apple\" would be \"a\", \"ap\", \"al\", \"ae\", \"app\", \"apl\", \"ape\", \"ale\", \"appl\", \"appe\", \"aple\", \"apple\", \"p\", \"pp\", \"pl\", \"pe\", \"ppl\", \"ppe\", \"ple\", \"pple\", \"l\", \"le\", \"e\", \"\".\n",
    "### Write a Python program to find the longest word in a set of words which is a subsequence of a given string. "
   ]
  },
  {
   "cell_type": "code",
   "execution_count": 236,
   "id": "281a6842",
   "metadata": {},
   "outputs": [
    {
     "name": "stdout",
     "output_type": "stream",
     "text": [
      "Enter a tuple (string, set) : (\"pythonexercises\", {\"py\", \"ex\", \"exercises\"})\n",
      "exercises\n"
     ]
    }
   ],
   "source": [
    "# Input:\n",
    "# (\"Green\", {\"Gn\", \"Gren\", \"ree\", \"en\"})\n",
    "# (\"pythonexercises\", {\"py\", \"ex\", \"exercises\"})\n",
    "# Sample Output:\n",
    "# Gren\n",
    "# exercises\n",
    "\n",
    "import ast\n",
    "\n",
    "input_str = input(\"Enter a tuple (string, set) : \")\n",
    "input_tuple = ast.literal_eval(input_str)\n",
    "\n",
    "if isinstance(input_tuple, tuple) and len(input_tuple) == 2:\n",
    "    string_value, set_value = input_tuple\n",
    "    if isinstance(string_value, str) and isinstance(set_value, set):\n",
    "        key = input_tuple[0]\n",
    "        lst = list(input_tuple[1])\n",
    "\n",
    "        string = \"\"\n",
    "\n",
    "        for item in lst:\n",
    "            items = [i for i in item]\n",
    "            for k in items:\n",
    "                if k in key:\n",
    "                    continue\n",
    "                else:\n",
    "                    break\n",
    "            else:\n",
    "                length = len(items)\n",
    "                if length > len(string):\n",
    "                    string = item\n",
    "            \n",
    "        print(string)\n",
    "    else:\n",
    "        print(\"Invalid types within the tuple. The first element should be a string, and the second element should be a set.\")\n",
    "else:\n",
    "    print(\"Invalid input format. Please enter a tuple (string, set).\")"
   ]
  },
  {
   "cell_type": "markdown",
   "id": "db96e5c4",
   "metadata": {},
   "source": [
    "### 28. In abstract algebra, a group isomorphism is a function between two groups that sets up a one-to-one correspondence between the elements of the groups in a way that respects the given group operations. If there exists an isomorphism between two groups, then the groups are called isomorphic.\n",
    "### Two strings are isomorphic if the characters in string A can be replaced to get string B\n",
    "### Given \"foo\", \"bar\", return false.\n",
    "### Given \"paper\", \"title\", return true.\n",
    "### Write a Python program to check if two given strings are isomorphic to each other or not. "
   ]
  },
  {
   "cell_type": "code",
   "execution_count": 102,
   "id": "84ba8c6c",
   "metadata": {},
   "outputs": [
    {
     "name": "stdout",
     "output_type": "stream",
     "text": [
      "Enter a string in the format ('str1', 'str2'): \n",
      "(to exit:(0, 0))(\"foo\", \"bar\")\n",
      "False\n",
      "Enter a string in the format ('str1', 'str2'): \n",
      "(to exit:(0, 0))(\"bar\", \"foo\")\n",
      "False\n",
      "Enter a string in the format ('str1', 'str2'): \n",
      "(to exit:(0, 0))(\"paper\", \"title\")\n",
      "True\n",
      "Enter a string in the format ('str1', 'str2'): \n",
      "(to exit:(0, 0))(\"title\", \"paper\")\n",
      "True\n",
      "Enter a string in the format ('str1', 'str2'): \n",
      "(to exit:(0, 0))(\"apple\", \"orange\")\n",
      "False\n",
      "Enter a string in the format ('str1', 'str2'): \n",
      "(to exit:(0, 0))(\"aa\", \"ab\")\n",
      "False\n",
      "Enter a string in the format ('str1', 'str2'): \n",
      "(to exit:(0, 0))(\"ab\", \"aa\")\n",
      "False\n",
      "Enter a string in the format ('str1', 'str2'): \n",
      "(to exit:(0, 0))(0, 0)\n"
     ]
    }
   ],
   "source": [
    "# Sample Input:\n",
    "# (\"foo\", \"bar\")\n",
    "# (\"bar\", \"foo\")\n",
    "# (\"paper\", \"title\")\n",
    "# (\"title\", \"paper\")\n",
    "# (\"apple\", \"orange\")\n",
    "# (\"aa\", \"ab\")\n",
    "# (\"ab\", \"aa\")\n",
    "# Sample Output:\n",
    "# False\n",
    "# False\n",
    "# True\n",
    "# True\n",
    "# False\n",
    "# False\n",
    "# False\n",
    "\n",
    "while True:\n",
    "    import ast\n",
    "\n",
    "    input_str = input(\"Enter a string in the format ('str1', 'str2'): \\n(to exit:(0, 0))\")\n",
    "\n",
    "    try:\n",
    "        input_tuple = ast.literal_eval(input_str)\n",
    "        if isinstance(input_tuple, tuple) and len(input_tuple) == 2:\n",
    "            str1, str2 = input_tuple\n",
    "        else:\n",
    "            print(\"Invalid input format. Please provide a tuple with two strings.\")\n",
    "    except (ValueError, SyntaxError):\n",
    "        print(\"Invalid input format. Please provide a tuple with two strings.\")\n",
    "\n",
    "    str1, str2 = input_tuple\n",
    "    \n",
    "    if str1 == 0 or str2 == 0:\n",
    "        break\n",
    "\n",
    "    dic1 = {}\n",
    "    dic2 = {}\n",
    "\n",
    "    for item in str1:\n",
    "        if item in dic1.keys():\n",
    "            dic1[item] += 1\n",
    "        else:\n",
    "            dic1[item] = 1\n",
    "        \n",
    "    for item in str2:\n",
    "        if item in dic2.keys():\n",
    "            dic2[item] += 1\n",
    "        else:\n",
    "            dic2[item] = 1\n",
    "\n",
    "    lst1 = list(dic1.values())\n",
    "    lst2 = list(dic2.values())\n",
    "\n",
    "    if lst1 == lst2:\n",
    "        print(True)\n",
    "    else:\n",
    "        print(False)"
   ]
  },
  {
   "cell_type": "markdown",
   "id": "1a3abe2a",
   "metadata": {},
   "source": [
    "### 29. Write a Python program to find the longest common prefix string among a given array of strings. Return false if there is no common prefix.\n",
    "### For Example, longest common prefix of \"abcdefgh\" and \"abcefgh\" is \"abc\". "
   ]
  },
  {
   "cell_type": "code",
   "execution_count": 22,
   "id": "1209cb01",
   "metadata": {},
   "outputs": [
    {
     "name": "stdout",
     "output_type": "stream",
     "text": [
      "Enter the strings separated by spaces: abcdefgh abcefgh\n",
      "abc\n"
     ]
    }
   ],
   "source": [
    "# Sample Input:\n",
    "# [\"abcdefgh”, “abcefgh\"]\n",
    "# [\"Python\",\"PHP\", \"Perl\"]\n",
    "# [\"Python\",\"PHP\", \"Java\"]\n",
    "# Sample Output:\n",
    "# abc\n",
    "\n",
    "from itertools import combinations\n",
    "\n",
    "input_list = input(\"Enter the strings separated by spaces: \").split()\n",
    "\n",
    "combinations = list(combinations(input_list, 2))\n",
    "prefix_collection = []\n",
    "\n",
    "for pair in combinations:\n",
    "    str1 = pair[0]\n",
    "    str2 = pair[1]\n",
    "    \n",
    "    prefix = []\n",
    "    for a, b in zip(str1, str2):\n",
    "        if a == b:\n",
    "            prefix.append(a)\n",
    "        else:\n",
    "            break\n",
    "    if len(prefix) != 0:\n",
    "        key = ''.join(prefix)\n",
    "        if key not in prefix_collection:\n",
    "            prefix_collection.append(key)\n",
    "    \n",
    "print(max(prefix_collection))"
   ]
  },
  {
   "cell_type": "code",
   "execution_count": null,
   "id": "16bf20a0",
   "metadata": {},
   "outputs": [],
   "source": []
  }
 ],
 "metadata": {
  "kernelspec": {
   "display_name": "Python 3 (ipykernel)",
   "language": "python",
   "name": "python3"
  },
  "language_info": {
   "codemirror_mode": {
    "name": "ipython",
    "version": 3
   },
   "file_extension": ".py",
   "mimetype": "text/x-python",
   "name": "python",
   "nbconvert_exporter": "python",
   "pygments_lexer": "ipython3",
   "version": "3.10.9"
  }
 },
 "nbformat": 4,
 "nbformat_minor": 5
}
