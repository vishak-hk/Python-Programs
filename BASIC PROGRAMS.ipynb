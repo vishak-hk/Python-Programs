{
 "cells": [
  {
   "cell_type": "markdown",
   "id": "7c6b0784",
   "metadata": {},
   "source": [
    "### 1. Write a Python program to count the number of carry operations for each addition problem.\n",
    "##### According to Wikipedia “In elementary arithmetic, a carry is a digit that is transferred from one column of digits to another column of more significant digits. It is part of the standard algorithm to add numbers together by starting with the rightmost digits and working to the left. For example, when 6 and 7 are added to make 13, the \"3\" is written to the same column and the \"1\" is carried to the left\"."
   ]
  },
  {
   "cell_type": "code",
   "execution_count": 19,
   "id": "7794b7ad",
   "metadata": {},
   "outputs": [
    {
     "name": "stdout",
     "output_type": "stream",
     "text": [
      "257\n",
      "69\n",
      "Number of carry operations: 2\n"
     ]
    }
   ],
   "source": [
    "n1 = input()\n",
    "n2 = input()\n",
    "\n",
    "if len(n1) < len(n2):\n",
    "    n1, n2 = n2, n1\n",
    "n2 = n2.zfill(len(n1))\n",
    "\n",
    "carry = 0\n",
    "count = 0\n",
    "\n",
    "for i in range(len(n1)):\n",
    "    s = int(n1[i]) + int(n2[i]) + carry\n",
    "    if s >= 10:\n",
    "        carry = 1\n",
    "        count += 1\n",
    "    else:\n",
    "        carry = 0\n",
    "\n",
    "if count == 0:\n",
    "    print(\"No carry operations\")\n",
    "else:\n",
    "    print(f\"Number of carry operations: {count}\")"
   ]
  },
  {
   "cell_type": "markdown",
   "id": "989ee31c",
   "metadata": {},
   "source": [
    "### 2. Write a Python program to find the heights of the top three buildings in descending order from eight given buildings."
   ]
  },
  {
   "cell_type": "code",
   "execution_count": 1,
   "id": "a51bfb58",
   "metadata": {},
   "outputs": [
    {
     "name": "stdout",
     "output_type": "stream",
     "text": [
      "0 <= height of building (integer) <= 10,000\n",
      "Input the heights of eight buildings:\n",
      "25\n",
      "35\n",
      "15\n",
      "16\n",
      "30\n",
      "45\n",
      "37\n",
      "39\n",
      "Heights of the top three buildings:\n",
      "45\n",
      "39\n",
      "37\n"
     ]
    }
   ],
   "source": [
    "# Input:\n",
    "# 0 <= height of building (integer) <= 10,000\n",
    "# Input the heights of eight buildings:\n",
    "# 25\n",
    "# 35\n",
    "# 15\n",
    "# 16\n",
    "# 30\n",
    "# 45\n",
    "# 37\n",
    "# 39\n",
    "# Heights of the top three buildings:\n",
    "# 45\n",
    "# 39\n",
    "# 37\n",
    "\n",
    "lst = []\n",
    "\n",
    "print(\"0 <= height of building (integer) <= 10,000\")\n",
    "print(\"Input the heights of eight buildings:\")\n",
    "for _ in range(8):\n",
    "    i = int(input())\n",
    "    if i >= 0 and i <= 10000:\n",
    "        lst.append(i)\n",
    "    else:\n",
    "        print(\"Input value is out of range\")\n",
    "\n",
    "lst_sort = sorted(lst, reverse = True)\n",
    "print(\"Heights of the top three buildings:\")\n",
    "for i in range(3):\n",
    "    print(lst_sort[i])"
   ]
  },
  {
   "cell_type": "markdown",
   "id": "af73d63c",
   "metadata": {},
   "source": [
    "### 3. Write a Python program to compute the digit number of the sum of two given integers."
   ]
  },
  {
   "cell_type": "code",
   "execution_count": 2,
   "id": "d009a7fe",
   "metadata": {},
   "outputs": [
    {
     "name": "stdout",
     "output_type": "stream",
     "text": [
      "0 <= a, b <= 1,000,000\n",
      "Input two integers a and b separated by a space in a line:\n",
      "5 7\n",
      "Digit number of the sum of two given integers a and b:\n",
      "2\n"
     ]
    }
   ],
   "source": [
    "# Input:\n",
    "# Each test case consists of two non-negative integers x and y which are separated by a space in a\n",
    "# line.\n",
    "# 0 <= x, y <= 1,000,000\n",
    "# Input two integers (a b):\n",
    "# 5 7\n",
    "# Sum of two integers a and b.:\n",
    "# 2\n",
    "\n",
    "def digit_no_sum(a, b):\n",
    "    total = a + b\n",
    "    return len(str(total))\n",
    "\n",
    "print(\"0 <= a, b <= 1,000,000\")\n",
    "print(\"Input two integers a and b separated by a space in a line:\")\n",
    "x, y = map(int, input().split())\n",
    "\n",
    "if 0 <= x <= 1000000 and 0 <= y <= 1000000:\n",
    "    print(\"Digit number of the sum of two given integers a and b:\")\n",
    "    print(digit_no_sum(x, y))\n",
    "else:\n",
    "    print(\"Input value is out of range\")"
   ]
  },
  {
   "cell_type": "markdown",
   "id": "cca7dcfb",
   "metadata": {},
   "source": [
    "### 4. Write a Python program to check whether three given lengths (integers) of three sides form a right triangle. Print \"Yes\" if the given sides form a right triangle otherwise print \"No\"."
   ]
  },
  {
   "cell_type": "code",
   "execution_count": 3,
   "id": "25fed312",
   "metadata": {},
   "outputs": [
    {
     "name": "stdout",
     "output_type": "stream",
     "text": [
      "Integers separated by a single space.\n",
      "1 <= length of the side <= 1,000\n",
      "Input three integers (sides of a triangle)\n",
      "8 6 7\n",
      "No\n"
     ]
    }
   ],
   "source": [
    "# Input:\n",
    "# Integers separated by a single space.\n",
    "# 1 <= length of the side <= 1,000\n",
    "# Input three integers (sides of a triangle)\n",
    "# 8 6 7\n",
    "# No\n",
    "\n",
    "print(\"\"\"Integers separated by a single space.\n",
    "1 <= length of the side <= 1,000\n",
    "Input three integers (sides of a triangle)\"\"\")\n",
    "\n",
    "a, b, c = map(int, input().split())\n",
    "\n",
    "if 1 <= a <= 1000 and 1 <= b <= 1000 and 1 <= c <= 1000:\n",
    "    x = c*c\n",
    "    y = a*a + b*b\n",
    "    if x == y:\n",
    "        print(\"Yes\")\n",
    "    else:\n",
    "        print(\"No\")\n",
    "else:\n",
    "    print(\"Input value is out of range\")"
   ]
  },
  {
   "cell_type": "markdown",
   "id": "50039194",
   "metadata": {},
   "source": [
    "### 5. Write a Python program which solve the equation:\n",
    "#### Ax + By = C\n",
    "#### Dx + Ey = F\n",
    "#### Print the values of x, y where a, b, c, d, e and f are given."
   ]
  },
  {
   "cell_type": "code",
   "execution_count": 93,
   "id": "f12c8988",
   "metadata": {},
   "outputs": [
    {
     "name": "stdout",
     "output_type": "stream",
     "text": [
      "Enter the values of a, b, c, d, e, f separated by spaces:\n",
      "5 8 6 7 9 4\n",
      "-2.000 2.000\n"
     ]
    }
   ],
   "source": [
    "# Input:\n",
    "# a, b, c, d, e, f separated by a single space.\n",
    "# (-1,000 <= a, b, c, d, e, f<= 1,000)\n",
    "# Input the value of a, b, c, d, e, f:\n",
    "# 5 8 6 7 9 4\n",
    "# Values of x and y:\n",
    "# -2.000 2.000\n",
    "\n",
    "import math\n",
    "\n",
    "print(\"Enter the values of a, b, c, d, e, f separated by spaces:\")\n",
    "\n",
    "a, b, c, d, e, f = map(int, input().split())\n",
    "\n",
    "n1 = a\n",
    "n2 = d\n",
    "\n",
    "lcm_result = math.lcm(n1, n2)\n",
    "\n",
    "difference_y = abs((lcm_result * b) - (lcm_result * e))\n",
    "difference = abs((lcm_result * c) - (lcm_result * f))\n",
    "\n",
    "y = difference/difference_y\n",
    "x = (c - b * y) / a\n",
    "\n",
    "print(f\"{x:.3f} {y:.3f}\")"
   ]
  },
  {
   "cell_type": "markdown",
   "id": "d3243410",
   "metadata": {},
   "source": [
    "### 6. Write a Python program to compute the amount of debt in n months. Each month, the loan adds 5% interest to the $100,000 debt and rounds to the nearest 1,000 above."
   ]
  },
  {
   "cell_type": "code",
   "execution_count": 31,
   "id": "ebc4b8fd",
   "metadata": {},
   "outputs": [
    {
     "name": "stdout",
     "output_type": "stream",
     "text": [
      "Input number of months: 7\n",
      "Amount of debt after 7 months: $141,000.0\n"
     ]
    }
   ],
   "source": [
    "# Input:\n",
    "# An integer n (0 <= n <= 100)\n",
    "# Input number of months: 7\n",
    "# Amount of debt: $141000\n",
    "\n",
    "def calculate_debt_after_n_months(n):\n",
    "    debt = 100000\n",
    "    interest_rate = 0.05\n",
    "\n",
    "    for month in range(n):\n",
    "        debt += debt * interest_rate  # Add 5% interest\n",
    "\n",
    "        debt = round(debt, -3)\n",
    "\n",
    "    return debt\n",
    "\n",
    "n = int(input(\"Input number of months: \"))\n",
    "\n",
    "if n < 0 or n > 100:\n",
    "    print(\"Invalid input. Number of months must be between 0 and 100.\")\n",
    "else:\n",
    "    final_debt = calculate_debt_after_n_months(n)\n",
    "    print(f\"Amount of debt after {n} months: ${final_debt:,}\")"
   ]
  },
  {
   "cell_type": "markdown",
   "id": "4fae1b47",
   "metadata": {},
   "source": [
    "### 7. Write a Python program that reads an integer n and finds the number of combinations of a,b,c and d (0 = a,b,c,d = 9) where (a + b + c + d) will be equal to n."
   ]
  },
  {
   "cell_type": "code",
   "execution_count": 5,
   "id": "afdd7275",
   "metadata": {},
   "outputs": [
    {
     "name": "stdout",
     "output_type": "stream",
     "text": [
      "n (1 <= n <= 50)\n",
      "Input the number (n): 15\n",
      "Number of combinations: 592\n"
     ]
    }
   ],
   "source": [
    "# Input:\n",
    "# n (1 <= n <= 50)\n",
    "# Input the number (n): 15\n",
    "# Number of combinations: 592\n",
    "\n",
    "def count_combinations(n):\n",
    "    count = 0\n",
    "    for a in range(10):\n",
    "        for b in range(10):\n",
    "            for c in range(10):\n",
    "                for d in range(10):\n",
    "                    if a + b + c + d == n:\n",
    "                        count += 1\n",
    "    return count\n",
    "\n",
    "n = int(input(\"\"\"n (1 <= n <= 50)\n",
    "Input the number (n): \"\"\"))\n",
    "\n",
    "if 1 <= n <= 50:\n",
    "    print(\"Number of combinations:\", count_combinations(n))\n",
    "else:\n",
    "    print(\"Invalid input. Please enter a number between 1 and 50.\")"
   ]
  },
  {
   "cell_type": "markdown",
   "id": "7595e551",
   "metadata": {},
   "source": [
    "### 8. Write a Python program to print the number of prime numbers that are less than or equal to a given number."
   ]
  },
  {
   "cell_type": "code",
   "execution_count": 6,
   "id": "961fa995",
   "metadata": {},
   "outputs": [
    {
     "name": "stdout",
     "output_type": "stream",
     "text": [
      "Input the number (n): 35\n",
      "Number of prime numbers which are less than or equal to n: 11\n"
     ]
    }
   ],
   "source": [
    "# Input:\n",
    "# n (1 <= n <= 999,999)\n",
    "# Input the number (n): 35\n",
    "# Number of prime numbers which are less than or equal to n.: 11\n",
    "\n",
    "def is_prime(n):\n",
    "    if n <= 1:\n",
    "        return False\n",
    "    if n == 2:\n",
    "        return True\n",
    "    if n % 2 == 0:\n",
    "        return False\n",
    "\n",
    "    for i in range(3, int(n**0.5) + 1, 2):\n",
    "        if n % i == 0:\n",
    "            return False\n",
    "\n",
    "    return True\n",
    "\n",
    "def number_of_prime(num):\n",
    "    count = 0\n",
    "    for k in range(2, num + 1):\n",
    "        if is_prime(k):\n",
    "            count += 1\n",
    "    return count\n",
    "\n",
    "n = int(input(\"Input the number (n): \"))\n",
    "\n",
    "if 1 <= n <= 999999:\n",
    "    print(\"Number of prime numbers which are less than or equal to n:\", number_of_prime(n))\n",
    "else:\n",
    "    print(\"Input value is out of range\")"
   ]
  },
  {
   "cell_type": "markdown",
   "id": "b1d6b3f3",
   "metadata": {},
   "source": [
    "### 9. Write a program to compute the radius and the central coordinate (x, y) of a circle which is constructed from three given points on the plane surface."
   ]
  },
  {
   "cell_type": "code",
   "execution_count": 24,
   "id": "63cb8031",
   "metadata": {},
   "outputs": [
    {
     "name": "stdout",
     "output_type": "stream",
     "text": [
      "Input three coordinates of the circle: 9 3 6 8 3 6\n",
      "3.358\n",
      "6.071 4.643\n"
     ]
    }
   ],
   "source": [
    "# Input:\n",
    "# x1, y1, x2, y2, x3, y3 separated by a single space.\n",
    "# Input three coordinate of the circle:\n",
    "# 9 3 6 8 3 6\n",
    "# Radius of the said circle:\n",
    "# 3.358\n",
    "# Central coordinate (x, y) of the circle:\n",
    "# 6.071 4.643\n",
    "\n",
    "import math\n",
    "\n",
    "def calculate_circle_parameters(x1, y1, x2, y2, x3, y3):\n",
    "    mid_x1 = (x1 + x2) / 2\n",
    "    mid_y1 = (y1 + y2) / 2\n",
    "    mid_x2 = (x2 + x3) / 2\n",
    "    mid_y2 = (y2 + y3) / 2\n",
    "\n",
    "    if x2 - x1 == 0:\n",
    "        slope1 = None\n",
    "    else:\n",
    "        slope1 = -1 / ((y2 - y1) / (x2 - x1))\n",
    "\n",
    "    if x3 - x2 == 0:\n",
    "        slope2 = None\n",
    "    else:\n",
    "        slope2 = -1 / ((y3 - y2) / (x3 - x2))\n",
    "\n",
    "    if slope1 is None:\n",
    "        x = mid_x1\n",
    "        y = slope2 * (x - mid_x2) + mid_y2\n",
    "    elif slope2 is None:\n",
    "        x = mid_x2\n",
    "        y = slope1 * (x - mid_x1) + mid_y1\n",
    "    else:\n",
    "        x = (mid_y2 - mid_y1 + slope1 * mid_x1 - slope2 * mid_x2) / (slope1 - slope2)\n",
    "        y = slope1 * (x - mid_x1) + mid_y1\n",
    "\n",
    "    radius = math.sqrt((x - x1) ** 2 + (y - y1) ** 2)\n",
    "\n",
    "    return radius, x, y\n",
    "\n",
    "x1, y1, x2, y2, x3, y3 = map(float, input(\"Input three coordinates of the circle: \").split())\n",
    "\n",
    "radius, central_x, central_y = calculate_circle_parameters(x1, y1, x2, y2, x3, y3)\n",
    "\n",
    "print(\"{:.3f}\".format(radius))\n",
    "print(\"{:.3f} {:.3f}\".format(central_x, central_y))"
   ]
  },
  {
   "cell_type": "markdown",
   "id": "8b0cb54a",
   "metadata": {},
   "source": [
    "### 10. Write a Python program to check if a point (x,y) is in a triangle or not. A triangle is formed by three points."
   ]
  },
  {
   "cell_type": "code",
   "execution_count": 30,
   "id": "64c92f1b",
   "metadata": {},
   "outputs": [
    {
     "name": "stdout",
     "output_type": "stream",
     "text": [
      "Enter the coordinates of the point (x y): 2 2\n",
      "Enter the coordinates of the triangle (x1 y1 x2 y2 x3 y3): 1 1 3 1 2 3\n",
      "The point is inside the triangle.\n"
     ]
    }
   ],
   "source": [
    "def is_point_inside_triangle(x, y, x1, y1, x2, y2, x3, y3):\n",
    "    denominator = ((y2 - y3) * (x1 - x3) + (x3 - x2) * (y1 - y3))\n",
    "\n",
    "    alpha = ((y2 - y3) * (x - x3) + (x3 - x2) * (y - y3)) / denominator\n",
    "    beta = ((y3 - y1) * (x - x3) + (x1 - x3) * (y - y3)) / denominator\n",
    "    gamma = 1 - alpha - beta\n",
    "\n",
    "    return 0 <= alpha <= 1 and 0 <= beta <= 1 and 0 <= gamma <= 1\n",
    "\n",
    "point_input = input(\"Enter the coordinates of the point (x y): \").split()\n",
    "x, y = float(point_input[0]), float(point_input[1])\n",
    "\n",
    "triangle_input = input(\"Enter the coordinates of the triangle (x1 y1 x2 y2 x3 y3): \").split()\n",
    "x1, y1, x2, y2, x3, y3 = float(triangle_input[0]), float(triangle_input[1]), float(triangle_input[2]), float(triangle_input[3]), float(triangle_input[4]), float(triangle_input[5])\n",
    "\n",
    "if is_point_inside_triangle(x, y, x1, y1, x2, y2, x3, y3):\n",
    "    print(\"The point is inside the triangle.\")\n",
    "else:\n",
    "    print(\"The point is outside the triangle.\")"
   ]
  },
  {
   "cell_type": "markdown",
   "id": "7aa8cca6",
   "metadata": {},
   "source": [
    "### 11. Write a Python program to compute and print the sum of two given integers (greater or equal to zero). In the event that the given integers or the sum exceed 80 digits, print \"overflow\"."
   ]
  },
  {
   "cell_type": "code",
   "execution_count": 7,
   "id": "2fcb59e9",
   "metadata": {},
   "outputs": [
    {
     "name": "stdout",
     "output_type": "stream",
     "text": [
      "Input first integer: 25\n",
      "Input second integer: 22\n",
      "Sum of the two integers: 47\n"
     ]
    }
   ],
   "source": [
    "# Input:\n",
    "# Input first integer:\n",
    "# 25\n",
    "# Input second integer:\n",
    "# 22\n",
    "# Sum of the two integers: 47\n",
    "\n",
    "n1 = int(input(\"Input first integer: \"))\n",
    "n2 = int(input(\"Input second integer: \"))\n",
    "\n",
    "if n1 >= 0 and n2 >= 0:\n",
    "    result = n1 + n2\n",
    "    if result <= 80:\n",
    "        print(\"Sum of the two integers:\", str(result))\n",
    "    else:\n",
    "        print(\"overflow\")\n",
    "else:\n",
    "    print(\"Integers should be non-negative\")"
   ]
  },
  {
   "cell_type": "markdown",
   "id": "a3825d25",
   "metadata": {},
   "source": [
    "### 12. Write a Python program that accepts six numbers as input and sorts them in descending order."
   ]
  },
  {
   "cell_type": "code",
   "execution_count": 8,
   "id": "e4a58162",
   "metadata": {},
   "outputs": [
    {
     "name": "stdout",
     "output_type": "stream",
     "text": [
      "Input consists of six numbers n1, n2, n3, n4, n5, n6 (-100000 <= n1, n2, n3, n4, n5, n6 <= 100000). The six numbers are separated by a space.\n",
      "Input six integers:15 30 25 14 35 40\n",
      "After sorting the said integers:  40 35 30 25 15 14\n"
     ]
    }
   ],
   "source": [
    "# Input:\n",
    "# Input consists of six numbers n1, n2, n3, n4, n5, n6 (-100000 <= n1, n2, n3, n4, n5, n6 <=\n",
    "# 100000). The six numbers are separated by a space.\n",
    "# Input six integers:\n",
    "# 15 30 25 14 35 40\n",
    "# After sorting the said integers:\n",
    "# 40 35 30 25 15 14\n",
    "\n",
    "lst = list(map(int, input(\"\"\"Input consists of six numbers n1, n2, n3, n4, n5, n6 (-100000 <= n1, n2, n3, n4, n5, n6 <= 100000). The six numbers are separated by a space.\n",
    "Input six integers:\"\"\").split()))\n",
    "\n",
    "if -100000 <= lst[0] <= 100000 and -100000 <= lst[1] <= 100000 and -100000 <= lst[2] <= 100000 and -100000 <= lst[3] <= 100000 and -100000 <= lst[4] <= 100000 and -100000 <= lst[5] <= 100000:\n",
    "    sorted_lst = sorted(lst, reverse = True)\n",
    "    joined_string = \" \".join(map(str, sorted_lst))\n",
    "    print(\"After sorting the said integers: \", joined_string)\n",
    "else:\n",
    "    print(\"Input value is out of range\")"
   ]
  },
  {
   "cell_type": "markdown",
   "id": "bca33ed7",
   "metadata": {},
   "source": [
    "### 13. Write a Python program to test whether two lines PQ and RS are parallel. The four points are P(x1, y1), Q(x2, y2), R(x3, y3), S(x4, y4)."
   ]
  },
  {
   "cell_type": "code",
   "execution_count": 9,
   "id": "3ac762fe",
   "metadata": {},
   "outputs": [
    {
     "name": "stdout",
     "output_type": "stream",
     "text": [
      "x1,y1,x2,y2,x3,y3,x4,y4 separated by a single space\n",
      "Input x1, y1, x2, y2, x3, y3, x4, y4: 2 5 6 4 8 3 9 7\n",
      "PQ and RS are not parallel\n"
     ]
    }
   ],
   "source": [
    "# Input:\n",
    "# x1,y1,x2,y2,x3,y3,xp,yp separated by a single space\n",
    "# Input x1, y1,x2,y2,x3,y3,xp,yp:\n",
    "# 2 5 6 4 8 3 9 7\n",
    "# PQ and RS are not parallel\n",
    "\n",
    "\n",
    "x1, y1, x2, y2, x3, y3, x4, y4 = map(int, input(\"\"\"x1,y1,x2,y2,x3,y3,x4,y4 separated by a single space\n",
    "Input x1, y1, x2, y2, x3, y3, x4, y4: \"\"\").split())\n",
    "\n",
    "if (x2 - x1) == 0 or (x4 - x3) == 0:\n",
    "    if (x2 - x1) == 0 and (x4 - x3) == 0:\n",
    "        print(\"PQ and RS are vertical and parallel\")\n",
    "    else:\n",
    "        print(\"PQ and RS are not parallel\")\n",
    "else:\n",
    "    slope_pq = (y2 - y1) / (x2 - x1)\n",
    "    slope_rs = (y4 - y3) / (x4 - x3)\n",
    "\n",
    "    if slope_pq == slope_rs:\n",
    "        print(\"PQ and RS are parallel\")\n",
    "    else:\n",
    "        print(\"PQ and RS are not parallel\")"
   ]
  },
  {
   "cell_type": "markdown",
   "id": "1544f848",
   "metadata": {},
   "source": [
    "### 14. There are two circles C1 with radius r1, central coordinate (x1, y1) and C2 with radius r2 and central coordinate (x2, y2).\n",
    "#### Write a Python program to test the followings -\n",
    "- \"C2 is in C1\" if C2 is in C1\n",
    "- \"C1 is in C2\" if C1 is in C2\n",
    "- \"Circumference of C1 and C2 intersect\" if circumference of C1 and C2 intersect\n",
    "- \"C1 and C2 do not overlap\" if C1 and C2 do not overlap and\n",
    "- \"Circumference of C1 and C2 will touch\" if C1 and C2 touch"
   ]
  },
  {
   "cell_type": "code",
   "execution_count": 10,
   "id": "04ca0468",
   "metadata": {},
   "outputs": [
    {
     "name": "stdout",
     "output_type": "stream",
     "text": [
      "Input numbers (real numbers) are separated by a space\n",
      "Input x1, y1, r1, x2, y2, r2: 5 4 2 3 9 2\n",
      "C1 and C2 do not overlap\n"
     ]
    }
   ],
   "source": [
    "# Input:\n",
    "# Input numbers (real numbers) are separated by a space.\n",
    "# Input x1, y1, r1, x2, y2, r2:\n",
    "# 5 4 2 3 9 2\n",
    "# C1 and C2 do not overlap\n",
    "# Input x1, y1, r1, x2, y2, r2:\n",
    "# 5 4 3 5 10 3\n",
    "# Circumference of C1 and C2 will touch\n",
    "# Input x1, y1, r1, x2, y2, r2:\n",
    "# 6 4 3 10 4 2\n",
    "# Circumference of C1 and C2 intersect\n",
    "# Input x1, y1, r1, x2, y2, r2:\n",
    "# 5 4 3 5 4 2\n",
    "# C2 is in C1\n",
    "# Input x1, y1, r1, x2, y2, r2:\n",
    "# 5 4 2 5 4 3\n",
    "# C1 is in C2\n",
    "\n",
    "import math\n",
    "\n",
    "x1, y1, r1, x2, y2, r2 = map(float, input(\"\"\"Input numbers (real numbers) are separated by a space\n",
    "Input x1, y1, r1, x2, y2, r2: \"\"\").split())\n",
    "\n",
    "distance = math.sqrt((x2 - x1)**2 + (y2 - y1)**2)\n",
    "\n",
    "if distance < abs(r1 - r2):\n",
    "    print(\"C2 is in C1\")\n",
    "elif distance < abs(r2 - r1):\n",
    "    print(\"C1 is in C2\")\n",
    "elif distance == abs(r1 - r2):\n",
    "    print(\"Circumference of C1 and C2 will touch\")\n",
    "elif distance < (r1 + r2):\n",
    "    print(\"Circumference of C1 and C2 intersect\")\n",
    "else:\n",
    "    print(\"C1 and C2 do not overlap\")"
   ]
  },
  {
   "cell_type": "markdown",
   "id": "a41a0b5a",
   "metadata": {},
   "source": [
    "### 15. Write a Python program that reads a date (from 2016/1/1 to 2016/12/31) and prints the day of the date. Jan. 1, 2016, is Friday. Note that 2016 is a leap year."
   ]
  },
  {
   "cell_type": "code",
   "execution_count": 9,
   "id": "fcb98e6f",
   "metadata": {},
   "outputs": [
    {
     "name": "stdout",
     "output_type": "stream",
     "text": [
      "Input month and date (separated by a single space): 5 16\n",
      "Name of the date: Monday\n"
     ]
    }
   ],
   "source": [
    "# Input:\n",
    "# Two integers m and d separated by a single space in a line, m ,d represent the month and the\n",
    "# day.\n",
    "# Input month and date (separated by a single space):\n",
    "# 5 15\n",
    "# Name of the date: Sunday\n",
    "\n",
    "month, day = map(int, input(\"Input month and date (separated by a single space): \").split())\n",
    "\n",
    "days_of_week = [\"Saturday\", \"Sunday\", \"Monday\", \"Tuesday\", \"Wednesday\", \"Thursday\", \"Friday\"]\n",
    "\n",
    "# Zeller's Congruence algorithm\n",
    "if month < 3:\n",
    "    month += 12\n",
    "year = 2016\n",
    "k = year % 100\n",
    "j = year // 100\n",
    "day_of_week = (day + 13 * (month + 1) // 5 + k + k // 4 + j // 4 - 2 * j) % 7\n",
    "\n",
    "print(\"Name of the date:\", days_of_week[day_of_week])"
   ]
  },
  {
   "cell_type": "markdown",
   "id": "ee9a2b32",
   "metadata": {},
   "source": [
    "### 16. Write a Python program that reads the two adjoining sides and the diagonal of a parallelogram and checks whether the parallelogram is a rectangle or a rhombus.\n",
    "##### According to Wikipedia-\n",
    "##### Parallelograms: In Euclidean geometry, a parallelogram is a simple (non-self-intersecting) quadrilateral with two pairs of parallel sides. The opposite or facing sides of a parallelogram are of equal length and the opposite angles of a parallelogram are of equal measure. Rectangles: In Euclidean plane geometry, a rectangle is a quadrilateral with four right angles. It can also be defined as an equiangular quadrilateral, since equiangular means that all of its angles are equal (360°/4 = 90°). It can also be defined as a parallelogram containing a right angle.\n",
    "##### Rhombus: In plane Euclidean geometry, a rhombus (plural rhombi or rhombuses) is a simple (non-self-intersecting) quadrilateral whose four sides all have the same length. Another name is equilateral quadrilateral, since equilateral means that all of its sides are equal in length. The rhombus is often called a diamond, after the diamonds suit in playing cards which resembles the projection of an octahedral diamond, or a lozenge, though the former sometimes refers specifically to a rhombus with a 60° angle, and the latter sometimes refers specifically to a rhombus with a 45° angle."
   ]
  },
  {
   "cell_type": "code",
   "execution_count": 13,
   "id": "88967e0f",
   "metadata": {},
   "outputs": [
    {
     "name": "stdout",
     "output_type": "stream",
     "text": [
      "Input two adjoined sides and the diagonal of a parallelogram (comma separated): 4,5,6\n",
      "This is neither a rectangle nor a rhombus.\n"
     ]
    }
   ],
   "source": [
    "# Input:\n",
    "# Two adjoined sides and the diagonal.\n",
    "# 1 <= ai, bi, ci <= 1000, ai + bi > ci\n",
    "# Input two adjoined sides and the diagonal of a parallelogram (comma separated):\n",
    "# 3, 4,5\n",
    "# This is a rectangle.\n",
    "\n",
    "a, b, c = map(int, input(\"Input two adjoined sides and the diagonal of a parallelogram (comma separated): \").split(','))\n",
    "\n",
    "# Check if it's a rectangle\n",
    "if a ** 2 + b ** 2 == c ** 2:\n",
    "    print(\"This is a rectangle.\")\n",
    "# Check if it's a rhombus\n",
    "elif a == b:\n",
    "    print(\"This is a rhombus.\")\n",
    "else:\n",
    "    print(\"This is neither a rectangle nor a rhombus.\")"
   ]
  },
  {
   "cell_type": "markdown",
   "id": "1f3d169a",
   "metadata": {},
   "source": [
    "### 17. Write a Python program which accepts an even number (>=4, Goldbach number) from the user and creates combinations which express the given number as a sum of two prime numbers. Print the number of combinations.\n",
    "##### Goldbach number: A Goldbach number is a positive even integer that can be expressed as the sum of two odd primes.[4] Since four is the only even number greater than two that requires the even prime 2 in order to be written as the sum of two primes, another form of the statement of Goldbach's conjecture is that all even integers greater than 4 are Goldbach numbers.\n",
    "##### The expression of a given even number as a sum of two primes is called a Goldbach partition of that number. "
   ]
  },
  {
   "cell_type": "code",
   "execution_count": 50,
   "id": "258177e6",
   "metadata": {},
   "outputs": [
    {
     "name": "stdout",
     "output_type": "stream",
     "text": [
      "Input an even number (0 to exit): 6\n",
      "1\n",
      "Input an even number (0 to exit): 8\n",
      "1\n",
      "Input an even number (0 to exit): 10\n",
      "2\n",
      "Input an even number (0 to exit): 12\n",
      "1\n",
      "Input an even number (0 to exit): 100\n",
      "6\n",
      "Input an even number (0 to exit): 0\n"
     ]
    }
   ],
   "source": [
    "# The following are examples of Goldbach partitions for some even numbers:\n",
    "# 6 = 3 + 3\n",
    "# 8 = 3 + 5\n",
    "# 10 = 3 + 7 = 5 + 5\n",
    "# 12 = 7 + 5\n",
    "# ...\n",
    "# 100 = 3 + 97 = 11 + 89 = 17 + 83 = 29 + 71 = 41 + 59 = 47 + 53\n",
    "# Input an even number (0 to exit):\n",
    "# 100\n",
    "# Number of combinations:\n",
    "# 6\n",
    "\n",
    "from itertools import combinations_with_replacement\n",
    "\n",
    "while True:\n",
    "    def is_prime_pair(pair):\n",
    "        for number in pair:\n",
    "            if number <= 1:\n",
    "                return False\n",
    "            if number <= 3:\n",
    "                continue\n",
    "            if number % 2 == 0 or number % 3 == 0:\n",
    "                return False\n",
    "\n",
    "            i = 5\n",
    "            while i * i <= number:\n",
    "                if number % i == 0 or number % (i + 2) == 0:\n",
    "                    return False\n",
    "                i += 6\n",
    "\n",
    "        return True\n",
    "\n",
    "    n = int(input(\"Input an even number (0 to exit): \"))\n",
    "    if n == 0:\n",
    "        break\n",
    "    \n",
    "    lst = combinations_with_replacement(range(1, n), 2)\n",
    "    \n",
    "    count = 0\n",
    "    for item in lst:\n",
    "        if is_prime_pair(item):\n",
    "            if sum(item) == n:\n",
    "                count += 1\n",
    "    print(count)"
   ]
  },
  {
   "cell_type": "markdown",
   "id": "5c9b31dc",
   "metadata": {},
   "source": [
    "### 18. If you draw a straight line on a plane, the plane is divided into two regions. For example, if you draw two straight lines in parallel, you get three areas, and if you draw vertically one to the other you get 4 areas."
   ]
  },
  {
   "cell_type": "code",
   "execution_count": 53,
   "id": "cd450909",
   "metadata": {},
   "outputs": [
    {
     "name": "stdout",
     "output_type": "stream",
     "text": [
      "Input number of straight lines (0 to exit): 5\n",
      "Number of regions: 16\n",
      "Input number of straight lines (0 to exit): 0\n"
     ]
    }
   ],
   "source": [
    "# Write a Python program to create the maximum number of regions obtained by drawing n given straight lines.\n",
    "# Input:\n",
    "# (1 <= n <= 10,000)\n",
    "# Input number of straight lines (o to exit):\n",
    "# 5\n",
    "# Number of regions:\n",
    "# 16\n",
    "\n",
    "while True:\n",
    "    n = int(input(\"Input number of straight lines (0 to exit): \"))\n",
    "    if n == 0:\n",
    "        break\n",
    "\n",
    "    num_regions = (n * (n + 1) // 2) + 1\n",
    "    print(\"Number of regions:\", num_regions)"
   ]
  },
  {
   "cell_type": "markdown",
   "id": "030032b8",
   "metadata": {},
   "source": [
    "### 19. 01-There are four different points on a plane, P (xp,yp), Q(xq, yq), R(xr, yr) and S(xs, ys). Write a Python program to determine whether AB and CD are orthogonal.\n",
    "### 02-There are 10 vertical and horizontal squares on a plane. Each square is painted blue and green. Blue represents the sea, and green represents the land. When two green squares are in contact with the top and bottom, or right and left, they are said to be ground. The area created by only one green square is called \"island\". For example, there are five islands in the figure below. Write a Python program to read the mass data and find the number of islands."
   ]
  },
  {
   "cell_type": "code",
   "execution_count": 115,
   "id": "64a80a9f",
   "metadata": {},
   "outputs": [
    {
     "name": "stdout",
     "output_type": "stream",
     "text": [
      "01. Python program to determine whether AB and CD are orthogonal\n",
      "\n",
      "Enter xp: 1\n",
      "Enter yp: 1\n",
      "Enter xq: 2\n",
      "Enter yq: 2\n",
      "Enter xr: 1\n",
      "Enter yr: 2\n",
      "Enter xs: 2\n",
      "Enter ys: 1\n",
      "AB and CD are orthogonal!\n",
      "\n",
      "02. Python program to read the mass data and find the number of islands\n",
      "\n",
      "1100000111\n",
      "1000000111\n",
      "0000000111\n",
      "0010001000\n",
      "0000011100\n",
      "0000111110\n",
      "0001111111\n",
      "1000111110\n",
      "1100011100\n",
      "1110001000\n",
      "Number of islands: 5\n"
     ]
    }
   ],
   "source": [
    "#01\n",
    "# Input:\n",
    "# xp,yp, xq, yq, xr, yr, xs and ys are -100 to 100 respectively and each value can be up to 5 digits after the decimal point It is given as a real number including the number of. Output:\n",
    "# Output:\n",
    "# AB and CD are not orthogonal! or AB and CD are orthogonal!.\n",
    "\n",
    "def are_vectors_orthogonal(xp, yp, xq, yq, xr, yr, xs, ys):\n",
    "    vector1_x = xq - xp\n",
    "    vector1_y = yq - yp\n",
    "    vector2_x = xs - xr\n",
    "    vector2_y = ys - yr\n",
    "\n",
    "    dot_product = vector1_x * vector2_x + vector1_y * vector2_y\n",
    "\n",
    "    if dot_product == 0:\n",
    "        return \"AB and CD are orthogonal!\"\n",
    "    else:\n",
    "        return \"AB and CD are not orthogonal!\"\n",
    "\n",
    "print(\"01. Python program to determine whether AB and CD are orthogonal\\n\")\n",
    "xp = float(input(\"Enter xp: \"))\n",
    "yp = float(input(\"Enter yp: \"))\n",
    "xq = float(input(\"Enter xq: \"))\n",
    "yq = float(input(\"Enter yq: \"))\n",
    "xr = float(input(\"Enter xr: \"))\n",
    "yr = float(input(\"Enter yr: \"))\n",
    "xs = float(input(\"Enter xs: \"))\n",
    "ys = float(input(\"Enter ys: \"))\n",
    "\n",
    "result = are_vectors_orthogonal(xp, yp, xq, yq, xr, yr, xs, ys)\n",
    "print(result)\n",
    "\n",
    "#02\n",
    "# Input:\n",
    "# Input 10 rows of 10 numbers representing green squares (island) as 1 and blue squares (sea) as zeros\n",
    "# 1100000111\n",
    "# 1000000111\n",
    "# 0000000111\n",
    "# 0010001000\n",
    "# 0000011100\n",
    "# 0000111110\n",
    "# 0001111111\n",
    "# 1000111110\n",
    "# 1100011100\n",
    "# 1110001000\n",
    "# Number of islands:\n",
    "# 5\n",
    "\n",
    "def count_islands(grid):\n",
    "    def dfs(row, col):\n",
    "        if 0 <= row < len(grid) and 0 <= col < len(grid[0]) and grid[row][col] == '1':\n",
    "            grid[row][col] = '0'  # Mark as visited\n",
    "            # Explore neighbors\n",
    "            dfs(row - 1, col)  # Up\n",
    "            dfs(row + 1, col)  # Down\n",
    "            dfs(row, col - 1)  # Left\n",
    "            dfs(row, col + 1)  # Right\n",
    "\n",
    "    count = 0\n",
    "    for row in range(len(grid)):\n",
    "        for col in range(len(grid[0])):\n",
    "            if grid[row][col] == '1':\n",
    "                count += 1\n",
    "                dfs(row, col)\n",
    "\n",
    "    return count\n",
    "\n",
    "print(\"\\n02. Python program to read the mass data and find the number of islands\\n\")                         \n",
    "\n",
    "# Input: 10 rows of 10 numbers as strings\n",
    "grid = [input() for _ in range(10)]\n",
    "\n",
    "grid = [list(row) for row in grid]\n",
    "\n",
    "island_count = count_islands(grid)\n",
    "print(\"Number of islands:\", island_count)"
   ]
  },
  {
   "cell_type": "markdown",
   "id": "11b56e6c",
   "metadata": {},
   "source": [
    "### 20. A convex polygon is a simple polygon in which no line segment between two points on the boundary ever goes outside the polygon. Equivalently, it is a simple polygon whose interior is a convex set. In a convex polygon, all interior angles are less than or equal to 180 degrees, while in a strictly convex polygon all interior angles are strictly less than 180 degrees. Write a Python program that compute the area of the polygon. The vertices have the names vertex 1, vertex 2, vertex3,…. vertex n according to the order of edge connections"
   ]
  },
  {
   "cell_type": "code",
   "execution_count": 23,
   "id": "706a01ea",
   "metadata": {},
   "outputs": [
    {
     "name": "stdout",
     "output_type": "stream",
     "text": [
      "Input number of sides: 5\n",
      "Side: 1\n",
      "Input Coordinate x: 1\n",
      "Input Coordinate y: 0\n",
      "Side: 2\n",
      "Input Coordinate x: 0\n",
      "Input Coordinate y: 0\n",
      "Side: 3\n",
      "Input Coordinate x: 1\n",
      "Input Coordinate y: 1\n",
      "Side: 4\n",
      "Input Coordinate x: 2\n",
      "Input Coordinate y: 0\n",
      "Side: 5\n",
      "Input Coordinate x: -1\n",
      "Input Coordinate y: 1\n",
      "Area of the Polygon: 0.5\n"
     ]
    }
   ],
   "source": [
    "# Note: The original sentences are uppercase letters, lowercase letters, numbers, symbols, less than 100 letters, and consecutive letters are not more than 9 letters.\n",
    "# Input:\n",
    "# Input number of sides: 5\n",
    "# Side: 1\n",
    "# Input the Coordinate:\n",
    "# Input Coordinate x: 1\n",
    "# Input Coordinate y: 0\n",
    "# Side: 2\n",
    "# Input the Coordinate:\n",
    "# Input Coordinate x: 0\n",
    "# Input Coordinate y: 0\n",
    "# Side: 3\n",
    "# Input the Coordinate:\n",
    "# Input Coordinate x: 1\n",
    "# Input Coordinate y: 1\n",
    "# Side: 4\n",
    "# Input the Coordinate:\n",
    "# Input Coordinate x: 2\n",
    "# Input Coordinate y: 0\n",
    "# Side: 5\n",
    "# Input the Coordinate:\n",
    "# Input Coordinate x: -1\n",
    "# Input Coordinate y: 1\n",
    "# Area of the Polygon: 0.5\n",
    "    \n",
    "def calculate_polygon_area(vertices):\n",
    "    n = len(vertices)\n",
    "    area = 0.0\n",
    "\n",
    "    for i in range(n):\n",
    "        x1, y1 = vertices[i]\n",
    "        x2, y2 = vertices[(i + 1) % n]\n",
    "        area += (x1 * y2 - x2 * y1)\n",
    "\n",
    "    area = abs(area) / 2.0\n",
    "    return area\n",
    "\n",
    "n = int(input(\"Input number of sides: \"))\n",
    "vertices = []\n",
    "\n",
    "for i in range(n):\n",
    "    print(f\"Side: {i + 1}\")\n",
    "    x = float(input(\"Input Coordinate x: \"))\n",
    "    y = float(input(\"Input Coordinate y: \"))\n",
    "    vertices.append((x, y))\n",
    "\n",
    "area = calculate_polygon_area(vertices)\n",
    "print(f\"Area of the Polygon: {area}\")"
   ]
  },
  {
   "cell_type": "markdown",
   "id": "e4482745",
   "metadata": {},
   "source": [
    "### 21. Write a Python program to check whether a given integer is a palindrome or not."
   ]
  },
  {
   "cell_type": "code",
   "execution_count": 21,
   "id": "3b76fb0c",
   "metadata": {},
   "outputs": [
    {
     "name": "stdout",
     "output_type": "stream",
     "text": [
      "Enter a number to check palindrome: 252\n",
      "True\n"
     ]
    }
   ],
   "source": [
    "# Note: An integer is a palindrome when it reads the same backward as forward. Negative numbers are not palindromic.\n",
    "# Sample Input:\n",
    "# (100)\n",
    "# (252)\n",
    "# (-838)\n",
    "# Sample Output:\n",
    "# False\n",
    "# True\n",
    "# False\n",
    "\n",
    "num = input(\"Enter a number to check palindrome: \")\n",
    "\n",
    "if num == num[::-1]:\n",
    "    print(True)\n",
    "else:\n",
    "    print(False)"
   ]
  },
  {
   "cell_type": "code",
   "execution_count": null,
   "id": "7684fcce",
   "metadata": {},
   "outputs": [],
   "source": []
  }
 ],
 "metadata": {
  "kernelspec": {
   "display_name": "Python 3 (ipykernel)",
   "language": "python",
   "name": "python3"
  },
  "language_info": {
   "codemirror_mode": {
    "name": "ipython",
    "version": 3
   },
   "file_extension": ".py",
   "mimetype": "text/x-python",
   "name": "python",
   "nbconvert_exporter": "python",
   "pygments_lexer": "ipython3",
   "version": "3.10.9"
  }
 },
 "nbformat": 4,
 "nbformat_minor": 5
}
