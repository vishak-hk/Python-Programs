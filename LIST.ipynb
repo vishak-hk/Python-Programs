{
 "cells": [
  {
   "cell_type": "code",
   "execution_count": 1,
   "id": "6f8288eb",
   "metadata": {},
   "outputs": [
    {
     "name": "stdout",
     "output_type": "stream",
     "text": [
      "Method 1 - Length of the list: 5\n",
      "Method 2 - Length of the list: 5\n",
      "Method 3 - Length of the list: 5\n",
      "Method 4 - Length of the list: 5\n"
     ]
    }
   ],
   "source": [
    "# 1. Write a program to find the length of a list in 4 ways.\n",
    "\n",
    "#list\n",
    "my_list = [1, 2, 3, 4, 5]\n",
    "\n",
    "#01\n",
    "length = len(my_list)\n",
    "print(\"Method 1 - Length of the list:\", length)\n",
    "\n",
    "#02\n",
    "count = 0\n",
    "for _ in my_list:\n",
    "    count += 1\n",
    "print(\"Method 2 - Length of the list:\", count)\n",
    "\n",
    "#03\n",
    "length = sum(1 for _ in my_list)\n",
    "print(\"Method 3 - Length of the list:\", length)\n",
    "\n",
    "#04\n",
    "count = 0\n",
    "iterator = iter(my_list)\n",
    "try:\n",
    "    while True:\n",
    "        next(iterator)\n",
    "        count += 1\n",
    "except StopIteration:\n",
    "    pass\n",
    "print(\"Method 4 - Length of the list:\", count)"
   ]
  },
  {
   "cell_type": "code",
   "execution_count": 2,
   "id": "c0657a83",
   "metadata": {},
   "outputs": [
    {
     "name": "stdout",
     "output_type": "stream",
     "text": [
      "Input List: [10, 20, 30, 40, 50]\n",
      "Cumulative Sum List: [10, 30, 60, 100, 150]\n"
     ]
    }
   ],
   "source": [
    "# 2. Write python program to find the cumulative sum of a list.\n",
    "\n",
    "lst = [10, 20, 30, 40, 50]\n",
    "cumulative_sum = []\n",
    "current_sum = 0\n",
    "\n",
    "for num in lst:\n",
    "    current_sum += num\n",
    "    cumulative_sum.append(current_sum)\n",
    "\n",
    "print(\"Input List:\", lst)\n",
    "print(\"Cumulative Sum List:\", cumulative_sum)"
   ]
  },
  {
   "cell_type": "code",
   "execution_count": 3,
   "id": "26ca095c",
   "metadata": {},
   "outputs": [
    {
     "name": "stdout",
     "output_type": "stream",
     "text": [
      "Input List: [5, 9, 8, 3, 5, 2, 3, 9, 8, 11]\n",
      "List with Duplicate Elements Removed: [2, 3, 5, 8, 9, 11]\n"
     ]
    }
   ],
   "source": [
    "# 3. Write a python program to remove the duplicate elements of a list.\n",
    "\n",
    "input_list = [5, 9, 8, 3, 5, 2, 3, 9, 8, 11]\n",
    "unique_list = list(set(input_list))\n",
    "\n",
    "print(\"Input List:\", input_list)\n",
    "print(\"List with Duplicate Elements Removed:\", unique_list)"
   ]
  },
  {
   "cell_type": "code",
   "execution_count": 4,
   "id": "6fb40ed9",
   "metadata": {},
   "outputs": [
    {
     "name": "stdout",
     "output_type": "stream",
     "text": [
      "Input Lists: list1 = [1, 2, 3, 4, 5] list2 = [2, 4, 6, 8, 10]\n",
      "After removing common elements from both the list:\n",
      "list1 = [1, 3, 5] list2 = [8, 10, 6]\n"
     ]
    }
   ],
   "source": [
    "# 4. Write a python program to remove common elements from two list.\n",
    "# For e.g.\n",
    "# Input: list1 = [1, 2, 3, 4, 5] & list2 = [2, 4, 6, 8, 10]\n",
    "# Output: list1 = [1, 3, 5] & list2 = [6, 8, 10]\n",
    "\n",
    "list1 = [1, 2, 3, 4, 5]\n",
    "list2 = [2, 4, 6, 8, 10]\n",
    "\n",
    "res_list1 = set(list1) - set(list2)\n",
    "res_list2 = set(list2) - set(list1)\n",
    "\n",
    "print(\"Input Lists:\" + \" list1 = \" + str(list1) + \" list2 = \" + str(list2))\n",
    "print(\"After removing common elements from both the list:\")\n",
    "print(\"list1 = \" + str(list(res_list1)) + \" list2 = \" + str(list(res_list2))) "
   ]
  },
  {
   "cell_type": "code",
   "execution_count": 5,
   "id": "b5b0cf10",
   "metadata": {},
   "outputs": [
    {
     "name": "stdout",
     "output_type": "stream",
     "text": [
      "Input List: ['Avul', 'Avul Pakir', 'Avul Pakir Jainulabdeen', 'Avul Pakir JainulabdeenAbdul', 'Avul Pakir Jainulabdeen Abdul Kalam']\n",
      "First Letters of Each Word: ['A', 'AP', 'APJ', 'APJ', 'APJAK']\n"
     ]
    }
   ],
   "source": [
    "# 5. Write a python program to print the first letter of each word.\n",
    "\n",
    "input_list = [\"Avul\", \"Avul Pakir\", \"Avul Pakir Jainulabdeen\", \"Avul Pakir JainulabdeenAbdul\", \"Avul Pakir Jainulabdeen Abdul Kalam\"]\n",
    "\n",
    "letters = [word.split() for word in input_list]\n",
    "first_letters = [\"\".join([word[0] for word in sublist]) for sublist in letters]\n",
    "\n",
    "print(\"Input List:\", input_list)\n",
    "print(\"First Letters of Each Word:\", first_letters)"
   ]
  },
  {
   "cell_type": "code",
   "execution_count": 64,
   "id": "23065750",
   "metadata": {},
   "outputs": [
    {
     "name": "stdout",
     "output_type": "stream",
     "text": [
      "Removed: 2\n",
      "Removed: 5\n",
      "Removed: 10\n",
      "Final List: [1, 3, 4, 6, 7, 9]\n"
     ]
    }
   ],
   "source": [
    "# 6. Write a Python program that removes and prints every third number from a list of numbers until the list is empty.\n",
    "\n",
    "i = [1, 3, 2, 4, 6, 5, 7, 9, 10]\n",
    "lst = []\n",
    "\n",
    "n = 3\n",
    "for num in range(1, len(i)):\n",
    "    key = num*n\n",
    "    if key <= len(i):\n",
    "        lst.append(i[key - 1])\n",
    "        print(\"Removed:\", i[key - 1])\n",
    "    else:\n",
    "        break\n",
    "    \n",
    "my_list = [x for x in i if x not in lst]\n",
    "\n",
    "print(\"Final List:\", my_list)"
   ]
  },
  {
   "cell_type": "code",
   "execution_count": 7,
   "id": "04843ebb",
   "metadata": {},
   "outputs": [
    {
     "name": "stdout",
     "output_type": "stream",
     "text": [
      "Combinations of 3 Digits:\n",
      "(1, 2, 3)\n",
      "(1, 2, 4)\n",
      "(1, 3, 4)\n",
      "(2, 3, 4)\n"
     ]
    }
   ],
   "source": [
    "# 7. Write a Python program to make combinations of 3 digits.\n",
    "\n",
    "from itertools import combinations\n",
    "\n",
    "input_digits = [1, 2, 3, 4]\n",
    "\n",
    "combinations_list = list(combinations(input_digits, 3))\n",
    "\n",
    "print(\"Combinations of 3 Digits:\")\n",
    "for combo in combinations_list:\n",
    "    print(combo)"
   ]
  },
  {
   "cell_type": "code",
   "execution_count": 8,
   "id": "bd869db4",
   "metadata": {},
   "outputs": [
    {
     "name": "stdout",
     "output_type": "stream",
     "text": [
      "Combinations that sum up to 15:\n",
      "(1, 5, 9)\n",
      "(1, 6, 8)\n",
      "(2, 4, 9)\n",
      "(2, 5, 8)\n",
      "(2, 6, 7)\n",
      "(3, 4, 8)\n",
      "(3, 5, 7)\n"
     ]
    }
   ],
   "source": [
    "# 8. Write a Python program to check the sum of three elements (each from an array) from three arrays is equal to a target value. Print all those three-element combinations.\n",
    "\n",
    "def find_combinations(array1, array2, array3, target):\n",
    "    combinations = []\n",
    "    \n",
    "    for a in array1:\n",
    "        for b in array2:\n",
    "            for c in array3:\n",
    "                if a + b + c == target:\n",
    "                    combinations.append((a, b, c))\n",
    "    \n",
    "    return combinations\n",
    "\n",
    "array1 = [1, 2, 3]\n",
    "array2 = [4, 5, 6]\n",
    "array3 = [7, 8, 9]\n",
    "target = 15\n",
    "\n",
    "result = find_combinations(array1, array2, array3, target)\n",
    "\n",
    "if result:\n",
    "    print(f\"Combinations that sum up to {target}:\")\n",
    "    for combo in result:\n",
    "        print(combo)\n",
    "else:\n",
    "    print(\"No combinations found.\")"
   ]
  },
  {
   "cell_type": "code",
   "execution_count": 9,
   "id": "2c724c4f",
   "metadata": {},
   "outputs": [
    {
     "name": "stdout",
     "output_type": "stream",
     "text": [
      "(1, 2, 3)\n",
      "(1, 3, 2)\n",
      "(2, 1, 3)\n",
      "(2, 3, 1)\n",
      "(3, 1, 2)\n",
      "(3, 2, 1)\n"
     ]
    }
   ],
   "source": [
    "# 9. Write a Python program that generates a list of all possible permutations from a given collection of distinct numbers.\n",
    "\n",
    "from itertools import permutations\n",
    "\n",
    "distinct_numbers = [1, 2, 3]\n",
    "\n",
    "permutation_list = list(permutations(distinct_numbers))\n",
    "\n",
    "for perm in permutation_list:\n",
    "    print(perm)"
   ]
  },
  {
   "cell_type": "code",
   "execution_count": 47,
   "id": "525b436b",
   "metadata": {},
   "outputs": [
    {
     "name": "stdout",
     "output_type": "stream",
     "text": [
      "Input a 1-9 digit string: 123\n",
      "Two-letter combinations:\n",
      "AA\n",
      "AB\n",
      "AC\n",
      "BA\n",
      "BB\n",
      "BC\n",
      "CA\n",
      "CB\n",
      "CC\n"
     ]
    }
   ],
   "source": [
    "# 10. Write a Python program to get all possible two-digit letter combinations from a 1-9 digit string.\n",
    "\n",
    "import itertools\n",
    "\n",
    "def generate_letter_combinations(digits):\n",
    "    digit_to_letter = {\n",
    "        '1': 'A', '2': 'B', '3': 'C',\n",
    "        '4': 'D', '5': 'E', '6': 'F',\n",
    "        '7': 'G', '8': 'H', '9': 'I'\n",
    "    }\n",
    "\n",
    "    letters = [digit_to_letter[digit] for digit in digits]\n",
    "    combinations = list(itertools.product(letters, repeat=2))\n",
    "\n",
    "    return combinations\n",
    "\n",
    "input_string = input(\"Input a 1-9 digit string: \")\n",
    "\n",
    "if input_string.isdigit() and 1 <= len(input_string) <= 9:\n",
    "    result = generate_letter_combinations(input_string)\n",
    "    print(\"Two-letter combinations:\")\n",
    "    for combination in result:\n",
    "        print(\"\".join(combination))\n",
    "else:\n",
    "    print(\"Invalid input. Please enter a valid 1-9 digit string.\")"
   ]
  },
  {
   "cell_type": "code",
   "execution_count": 11,
   "id": "da262ff0",
   "metadata": {},
   "outputs": [
    {
     "name": "stdout",
     "output_type": "stream",
     "text": [
      "Enter the amount: 1080\n",
      "Number of notes: 5\n"
     ]
    }
   ],
   "source": [
    "# 11. Write a Python program to find the number of notes (Samples of notes: 10, 20, 50, 100, 200, 500) against an amount.\n",
    "\n",
    "n = int(input(\"Enter the amount: \"))\n",
    "\n",
    "lst = [500, 200, 100, 50, 20, 10]\n",
    "\n",
    "if 1 <= n <= 1000000:\n",
    "    res = 0\n",
    "    for i in lst:\n",
    "        if n >= i:\n",
    "            r = n // i\n",
    "            total_value = r * i\n",
    "            n -= total_value\n",
    "            res += r\n",
    "\n",
    "    print(\"Number of notes:\", res)"
   ]
  },
  {
   "cell_type": "code",
   "execution_count": 20,
   "id": "171b5e8f",
   "metadata": {},
   "outputs": [
    {
     "name": "stdout",
     "output_type": "stream",
     "text": [
      "Enter the value of N to find the Nth member of the Tetranacci sequence: 18\n",
      "The 18th member of the Tetranacci sequence is: 17905\n"
     ]
    }
   ],
   "source": [
    "# 12. Write a Python program to create a sequence where the first four members of the sequence are equal to one. Each successive term of the sequence is equal to the sum of the four previous ones. Find the Nth member of the sequence.\n",
    "\n",
    "def tetranacci(n):\n",
    "    sequence = [1, 1, 1, 1]\n",
    "\n",
    "    for i in range(4, n):\n",
    "        next_term = sum(sequence[-4:])\n",
    "        sequence.append(next_term)\n",
    "\n",
    "    return sequence\n",
    "\n",
    "n = int(input(\"Enter the value of N to find the Nth member of the Tetranacci sequence: \"))\n",
    "\n",
    "if n >= 1:\n",
    "    tetranacci_sequence = tetranacci(n)\n",
    "\n",
    "    print(f\"The {n}th member of the Tetranacci sequence is: {tetranacci_sequence[n - 1]}\")\n",
    "else:\n",
    "    print(\"Please enter a valid value for N (N should be greater than or equal to 1).\")"
   ]
  },
  {
   "cell_type": "code",
   "execution_count": 13,
   "id": "0dff8d38",
   "metadata": {},
   "outputs": [
    {
     "name": "stdout",
     "output_type": "stream",
     "text": [
      "Second Largest Number: 97\n"
     ]
    }
   ],
   "source": [
    "# 13. Write a python program to find the second largest number in a list without using any built-in methods.\n",
    "\n",
    "lst = [78, 45, 56, 33, 97, 23, 99]\n",
    "\n",
    "max1 = max2 = float('-inf')\n",
    "\n",
    "for num in lst:\n",
    "    if num > max1:\n",
    "        max2 = max1\n",
    "        max1 = num\n",
    "    elif num > max2 and num != max1:\n",
    "        max2 = num\n",
    "\n",
    "if max2 != float('-inf'):\n",
    "    print(\"Second Largest Number:\", max2)\n",
    "else:\n",
    "    print(\"There is no second largest number in the list.\")"
   ]
  },
  {
   "cell_type": "code",
   "execution_count": 14,
   "id": "0fc27f88",
   "metadata": {},
   "outputs": [
    {
     "name": "stdout",
     "output_type": "stream",
     "text": [
      "[45, 75, 277]\n"
     ]
    }
   ],
   "source": [
    "# 14. Write a python program to break a list into chunks of size N in Python and find sum.\n",
    "\n",
    "numbers = [10, 12, 23, 32, 22, 21, 90, 98, 89, 99]\n",
    "n = 3\n",
    "pairs = []\n",
    "sums = []\n",
    "\n",
    "for i in range(0, len(numbers), n):\n",
    "    pair = numbers[i:i + n]\n",
    "    if len(pair) == n:\n",
    "        pairs.append(pair)\n",
    "\n",
    "for pair in pairs:\n",
    "    sums.append(sum(pair))\n",
    "\n",
    "print(sums)"
   ]
  },
  {
   "cell_type": "code",
   "execution_count": 15,
   "id": "1c9e363f",
   "metadata": {},
   "outputs": [
    {
     "name": "stdout",
     "output_type": "stream",
     "text": [
      "Total Length: 16\n"
     ]
    }
   ],
   "source": [
    "# 15. Write a python program to find the sum of length of strings at given indices.\n",
    "\n",
    "input_list = [\"Hi\", \"I\", \"am\", \"a\", \"DataScientist\"]\n",
    "index_list = [0, 1, 4]\n",
    "\n",
    "total_length = 0\n",
    "\n",
    "for index in index_list:\n",
    "    if 0 <= index < len(input_list):\n",
    "        total_length += len(input_list[index])\n",
    "\n",
    "print(\"Total Length:\", total_length)"
   ]
  },
  {
   "cell_type": "code",
   "execution_count": 16,
   "id": "8d703a83",
   "metadata": {},
   "outputs": [
    {
     "name": "stdout",
     "output_type": "stream",
     "text": [
      "Unique Triplets Whose Sum is Zero:\n",
      "(-1, 0, 1)\n",
      "(-1, 2, -1)\n",
      "(0, 1, -1)\n"
     ]
    }
   ],
   "source": [
    "# 16. Write a Python program to identify unique triplets whose three elements sum to zero from an array of n integers.\n",
    "\n",
    "from itertools import combinations\n",
    "\n",
    "input_list = [-1, 0, 1, 2, -1, -4]\n",
    "n = 3\n",
    "\n",
    "lst = list(combinations(input_list, n))\n",
    "\n",
    "print(\"Unique Triplets Whose Sum is Zero:\")\n",
    "for i in lst:\n",
    "    if sum(i) == 0:\n",
    "        print(i)"
   ]
  },
  {
   "cell_type": "code",
   "execution_count": 51,
   "id": "54cd58c7",
   "metadata": {},
   "outputs": [
    {
     "name": "stdout",
     "output_type": "stream",
     "text": [
      "Enter a positive number: 56\n",
      "56\n",
      "45\n",
      "36\n",
      "27\n",
      "18\n",
      "9\n"
     ]
    }
   ],
   "source": [
    "# 17. Write a Python program that accepts a positive number and subtracts from it the sum of its digits, and so on. Continue this operation until the number is positive.\n",
    "\n",
    "def digit_sum(number):\n",
    "    return sum(map(int, str(number)))\n",
    "\n",
    "def subtract_digit_sum(number):\n",
    "    while number > 0:\n",
    "        print(number)\n",
    "        number -= digit_sum(number)\n",
    "\n",
    "try:\n",
    "    input_number = int(input(\"Enter a positive number: \"))\n",
    "    if input_number <= 0:\n",
    "        print(\"Please enter a positive number.\")\n",
    "    else:\n",
    "        subtract_digit_sum(input_number)\n",
    "except ValueError:\n",
    "    print(\"Invalid input. Please enter a valid positive number.\")"
   ]
  },
  {
   "cell_type": "code",
   "execution_count": 27,
   "id": "860cbfc7",
   "metadata": {},
   "outputs": [
    {
     "name": "stdout",
     "output_type": "stream",
     "text": [
      "Enter an integer: 45\n",
      "Total even divisors: 0\n",
      "Total odd divisors: 6\n"
     ]
    }
   ],
   "source": [
    "# 18. Write a Python program to find the total number of even or odd divisors of a given integer.\n",
    "\n",
    "def count_even_odd_divisors(n):\n",
    "    even = 0\n",
    "    odd = 0\n",
    "\n",
    "    for i in range(1, n + 1):\n",
    "        if n % i == 0:\n",
    "            if i % 2 == 0:\n",
    "                even += 1\n",
    "            else:\n",
    "                odd += 1\n",
    "\n",
    "    return even, odd\n",
    "\n",
    "num = int(input(\"Enter an integer: \"))\n",
    "\n",
    "if num > 0:\n",
    "    even_divisors, odd_divisors = count_even_odd_divisors(num)\n",
    "    print(f\"Total even divisors: {even_divisors}\")\n",
    "    print(f\"Total odd divisors: {odd_divisors}\")\n",
    "else:\n",
    "    print(\"Please enter a positive integer.\")"
   ]
  },
  {
   "cell_type": "code",
   "execution_count": 22,
   "id": "1ddb181d",
   "metadata": {},
   "outputs": [
    {
     "name": "stdout",
     "output_type": "stream",
     "text": [
      "Missing digits: [1, 4, 5]\n"
     ]
    }
   ],
   "source": [
    "# 19. Write a Python program to find the digits that are missing from a given mobile number.\n",
    "\n",
    "def absent_digits(n):\n",
    "    all_nums = set([0, 1, 2, 3, 4, 5, 6, 7, 8, 9])\n",
    "    n = set([int(i) for i in str(n)])\n",
    "    missing_digits = sorted(all_nums - n)\n",
    "    return missing_digits\n",
    "\n",
    "result = absent_digits(983209763)\n",
    "print(\"Missing digits:\", result)"
   ]
  },
  {
   "cell_type": "code",
   "execution_count": 20,
   "id": "9bc2545f",
   "metadata": {},
   "outputs": [
    {
     "name": "stdout",
     "output_type": "stream",
     "text": [
      "Enter the list of numbers separated by comma: 1, 2, 3, 5\n",
      "Sum of absolute differences: 13\n"
     ]
    }
   ],
   "source": [
    "# 20. Write a Python program to compute the summation of the absolute difference of all distinct pairs in a given array (non-decreasing order).\n",
    "\n",
    "def sum_of_absolute_differences(arr):\n",
    "    n = len(arr)\n",
    "    result = 0\n",
    "\n",
    "    for i in range(n):\n",
    "        result += i * arr[i] - (n - i - 1) * arr[i]\n",
    "\n",
    "    return result\n",
    "\n",
    "arr = list(map(int, input(\"Enter the list of numbers separated by comma: \").split(\",\")))\n",
    "result = sum_of_absolute_differences(arr)\n",
    "print(\"Sum of absolute differences:\", result)"
   ]
  },
  {
   "cell_type": "code",
   "execution_count": 21,
   "id": "96f2ce53",
   "metadata": {},
   "outputs": [
    {
     "name": "stdout",
     "output_type": "stream",
     "text": [
      "Type of progression: Geometric Progression\n",
      "Next successive member: 16.0\n"
     ]
    }
   ],
   "source": [
    "# 21. Write a Python program to find the type of progression (arithmetic progression / geometric progression) and the next successive member of the three successive members of a sequence.\n",
    "\n",
    "def find_progression_type_and_next_member(a, b, c):\n",
    "    # Check if it's an arithmetic progression\n",
    "    if b - a == c - b:\n",
    "        common_difference = b - a\n",
    "        progression_type = \"Arithmetic Progression\"\n",
    "        next_member = c + common_difference\n",
    "    # Check if it's a geometric progression\n",
    "    elif b / a == c / b:\n",
    "        common_ratio = b / a\n",
    "        progression_type = \"Geometric Progression\"\n",
    "        next_member = c * common_ratio\n",
    "    else:\n",
    "        progression_type = \"Neither Arithmetic nor Geometric Progression\"\n",
    "        next_member = None\n",
    "\n",
    "    return progression_type, next_member\n",
    "\n",
    "a = 2\n",
    "b = 4\n",
    "c = 8\n",
    "\n",
    "progression_type, next_member = find_progression_type_and_next_member(a, b, c)\n",
    "\n",
    "print(\"Type of progression:\", progression_type)\n",
    "print(\"Next successive member:\", next_member)"
   ]
  },
  {
   "cell_type": "code",
   "execution_count": 18,
   "id": "cea328c8",
   "metadata": {},
   "outputs": [
    {
     "name": "stdout",
     "output_type": "stream",
     "text": [
      "Input a positive integer: 252\n",
      "Number of combinations of a, b, c, d: 2731135\n"
     ]
    }
   ],
   "source": [
    "# 22. Write a Python program to find the number of combinations that satisfy p + q + r + s = n where n is a given number <= 4000 and p, q, r, s are between 0 to 1000.\n",
    "# Input a positive integer: (ctrl+d to exit)\n",
    "# 252\n",
    "# Number of combinations of a, b, c, d: 2731135\n",
    "\n",
    "\n",
    "def combinations(n):\n",
    "    count = 0\n",
    "    for p in range(n+1):\n",
    "        for q in range(n+1):\n",
    "            for r in range(n+1):\n",
    "                for s in range(n+1):\n",
    "                    if p + q + r + s == n:\n",
    "                        count += 1\n",
    "    return count\n",
    "\n",
    "num = int(input(\"Input a positive integer: \"))\n",
    "\n",
    "if 0 < num <= 4000: \n",
    "    print(\"Number of combinations of a, b, c, d:\", combinations(num))\n",
    "else:\n",
    "    print(\"Enter a positive number lesser than 4000\")"
   ]
  },
  {
   "cell_type": "code",
   "execution_count": 14,
   "id": "5f79d7d3",
   "metadata": {},
   "outputs": [
    {
     "name": "stdout",
     "output_type": "stream",
     "text": [
      "Input number of rows/columns (0 to exit): 4\n",
      "Input cell values:\n",
      "25 69 51 26\n",
      "68 35 29 54\n",
      "54 57 45 63\n",
      "61 68 47 59\n",
      "Result:\n",
      " 25  69  51  26 171\n",
      " 68  35  29  54 186\n",
      " 54  57  45  63 219\n",
      " 61  68  47  59 235\n",
      "208 229 172 202 811\n",
      "Input number of rows/columns (0 to exit): 0\n"
     ]
    }
   ],
   "source": [
    "# 23. Write a Python program that adds up the columns and rows of the given table as shown in the specified figure.\n",
    "# Input number of rows/columns (0 to exit)\n",
    "# 4\n",
    "# Input cell value:\n",
    "# 25 69 51 26\n",
    "# 68 35 29 54\n",
    "# 54 57 45 63\n",
    "# 61 68 47 59\n",
    "# Result:\n",
    "# 25 69 51 26 171\n",
    "# 8 35 29 54 186\n",
    "# 54 57 45 63 219\n",
    "# 61 68 47 59 235\n",
    "# 208 229 172 202 811\n",
    "# Input number of rows/columns (0 to exit)\n",
    "\n",
    "import pandas as pd\n",
    "\n",
    "while True:\n",
    "    n = int(input(\"Input number of rows/columns (0 to exit): \"))\n",
    "    if n == 0:\n",
    "        break\n",
    "\n",
    "    data = []\n",
    "\n",
    "    print(\"Input cell values:\")\n",
    "    for i in range(n):\n",
    "        lst = list(map(int, input().split()))\n",
    "        if len(lst) == n:\n",
    "            data.append(lst)\n",
    "        else:\n",
    "            print(\"Invalid entries\")\n",
    "            break\n",
    "\n",
    "    if len(data) < n:\n",
    "        continue\n",
    "\n",
    "    df = pd.DataFrame(data, columns=list(range(n)))\n",
    "\n",
    "    df.loc[n] = df.sum(axis=0)\n",
    "    df[n] = df.sum(axis=1)\n",
    "\n",
    "    print(\"Result:\")\n",
    "    print(df.to_string(index=False, header=False))"
   ]
  },
  {
   "cell_type": "code",
   "execution_count": 20,
   "id": "c86e9ce2",
   "metadata": {},
   "outputs": [
    {
     "name": "stdout",
     "output_type": "stream",
     "text": [
      "Enter the elements separated by comma: 1, 5, 11, 5\n",
      "Enter the value k: 16\n",
      "True\n"
     ]
    }
   ],
   "source": [
    "# 24. Given a list of numbers and a number k, write a Python program to check whether the sum of any two numbers from the list is equal to k or not.\n",
    "# For example, given [1, 5, 11, 5] and k = 16, return true since 11 + 5 is 16.\n",
    "# Sample Input:\n",
    "# ([12, 5, 0, 5], 10)\n",
    "# ([20, 20, 4, 5], 40)\n",
    "# ([1, -1], 0)\n",
    "# ([1, 1, 0], 0)\n",
    "# Sample Output:\n",
    "# True\n",
    "# True\n",
    "# True\n",
    "# False\n",
    "\n",
    "\n",
    "from itertools import combinations\n",
    "\n",
    "lst = list(map(int, input(\"Enter the elements separated by comma: \").split(',')))\n",
    "k = int(input(\"Enter the value k: \"))\n",
    "\n",
    "combinations = list(combinations(lst, 2))\n",
    "\n",
    "for pair in combinations:\n",
    "    if sum(pair) == k:\n",
    "        print(True)\n",
    "        break\n",
    "else:\n",
    "    print(False)"
   ]
  },
  {
   "cell_type": "code",
   "execution_count": 21,
   "id": "13c184a3",
   "metadata": {},
   "outputs": [
    {
     "name": "stdout",
     "output_type": "stream",
     "text": [
      "Enter the elements separated by comma: 0, 0, 1, 1, 2, 2, 3, 3, 4, 4, 4\n",
      "5\n"
     ]
    }
   ],
   "source": [
    "# 25. Write a Python program that removes duplicate elements from a given array of numbers so that each element appears only once and returns the new length of the array. \n",
    "# Sample Input:\n",
    "# [0, 0, 1, 1, 2, 2, 3, 3, 4, 4, 4]\n",
    "# [1, 2, 2, 3, 4, 4]\n",
    "# Sample Output:\n",
    "# 5\n",
    "# 4\n",
    "\n",
    "lst = list(map(int, input(\"Enter the elements separated by comma: \").split(',')))\n",
    "\n",
    "print(len(list(set(lst))))"
   ]
  },
  {
   "cell_type": "code",
   "execution_count": 24,
   "id": "bbb70ee4",
   "metadata": {},
   "outputs": [
    {
     "name": "stdout",
     "output_type": "stream",
     "text": [
      "10\n",
      "7\n",
      "0\n"
     ]
    }
   ],
   "source": [
    "# 26. Write a Python program to calculate the maximum profit from selling and buying values of stock. An array of numbers represent the stock prices in chronological order. \n",
    "# For example, given [8, 10, 7, 5, 7, 15], the function will return 10, since the buying value of the stock is 5 dollars and sell value is 15 dollars.\n",
    "# Sample Input:\n",
    "# ([8, 10, 7, 5, 7, 15])\n",
    "# ([1, 2, 8, 1])\n",
    "# ([])\n",
    "# Sample Output:\n",
    "# 10\n",
    "# 7\n",
    "# 0\n",
    "\n",
    "def max_profit(lst):\n",
    "    if len(lst) == 0:\n",
    "        return 0\n",
    "    else:\n",
    "        return max(lst) - min(lst)\n",
    "    \n",
    "print(max_profit([8, 10, 7, 5, 7, 15]))\n",
    "print(max_profit(([1, 2, 8, 1])))\n",
    "print(max_profit([]))"
   ]
  },
  {
   "cell_type": "code",
   "execution_count": 34,
   "id": "b02fd7da",
   "metadata": {},
   "outputs": [
    {
     "name": "stdout",
     "output_type": "stream",
     "text": [
      "6\n",
      "0\n",
      "5\n",
      "0\n"
     ]
    }
   ],
   "source": [
    "# 27. Write a Python program to remove all instances of a given value from a given array of integers and find the length of the newly created array. \n",
    "# Sample Input:\n",
    "# ([1, 2, 3, 4, 5, 6, 7, 5], 5)\n",
    "# ([10,10,10,10,10], 10)\n",
    "# ([10,10,10,10,10], 20)\n",
    "# ([], 1)\n",
    "# Sample Output:\n",
    "# 6\n",
    "# 0\n",
    "# 5\n",
    "# 0\n",
    "\n",
    "def remove_instances(input_tuple):\n",
    "    key = input_tuple[1]\n",
    "    lst = list(input_tuple[0])\n",
    "    count = 0\n",
    "    for item in lst:\n",
    "        if item == key:\n",
    "            count += 1\n",
    "            \n",
    "    return len(lst) - count\n",
    "            \n",
    "print(remove_instances(([1, 2, 3, 4, 5, 6, 7, 5], 5)))\n",
    "print(remove_instances(([10, 10, 10, 10, 10], 10)))\n",
    "print(remove_instances(([10, 10, 10, 10, 10], 20)))\n",
    "print(remove_instances(([], 1)))"
   ]
  },
  {
   "cell_type": "code",
   "execution_count": 42,
   "id": "c8ac3ecb",
   "metadata": {},
   "outputs": [
    {
     "name": "stdout",
     "output_type": "stream",
     "text": [
      "[3, 5]\n",
      "[0, 0]\n"
     ]
    }
   ],
   "source": [
    "# 28. Write a Python program to find the starting and ending position of a given value in a given array of integers, sorted in ascending order. \n",
    "# If the target is not found in the array, return [0, 0].\n",
    "# Input: [5, 7, 7, 8, 8, 8] target value = 8\n",
    "# Output: [3, 5]\n",
    "# Input: [1, 3, 6, 9, 13, 14] target value = 4\n",
    "# Output: [0, 0]\n",
    "\n",
    "def start_end_pos(lst, value):\n",
    "    start_pos = 0\n",
    "    end_pos = 0\n",
    "    for i in range(len(lst)):\n",
    "        if lst[i] == value:\n",
    "            start_pos = i\n",
    "            for j in range(i + 1, len(lst)):\n",
    "                if lst[j] != value:\n",
    "                    end_pos = j - 1\n",
    "                    break\n",
    "            else:\n",
    "                end_pos = len(lst) - 1\n",
    "                break\n",
    "            break\n",
    "                    \n",
    "    return [start_pos, end_pos]\n",
    " \n",
    "print(start_end_pos([5, 7, 7, 8, 8, 8], value = 8))\n",
    "print(start_end_pos([1, 3, 6, 9, 13, 14], value = 4))"
   ]
  },
  {
   "cell_type": "code",
   "execution_count": 49,
   "id": "7f87d7aa",
   "metadata": {},
   "outputs": [
    {
     "name": "stdout",
     "output_type": "stream",
     "text": [
      "4000\n",
      "8\n",
      "120\n"
     ]
    }
   ],
   "source": [
    "# 29. Write a Python program to compute the largest product of three integers from a given list of integers. \n",
    "# Sample Input:\n",
    "# [-10, -20, 20, 1]\n",
    "# [-1, -1, 4, 2, 1]\n",
    "# [1, 2, 3, 4, 5, 6]\n",
    "# Sample Output:\n",
    "# 4000\n",
    "# 8\n",
    "# 120\n",
    "\n",
    "def product_3(lst):\n",
    "    abs_list = [abs(item) for item in lst]\n",
    "    first_int = max(abs_list)\n",
    "    abs_list.remove(first_int)\n",
    "    second_int = max(abs_list)\n",
    "    abs_list.remove(second_int)\n",
    "    third_int = max(abs_list)\n",
    "    \n",
    "    return first_int * second_int * third_int\n",
    "\n",
    "print(product_3([-10, -20, 20, 1]))\n",
    "print(product_3([-1, -1, 4, 2, 1]))\n",
    "print(product_3([1, 2, 3, 4, 5, 6]))"
   ]
  },
  {
   "cell_type": "code",
   "execution_count": 65,
   "id": "f2ad56aa",
   "metadata": {},
   "outputs": [
    {
     "name": "stdout",
     "output_type": "stream",
     "text": [
      "Enter the number of rows for matrix A: 3\n",
      "Enter the number of columns for matrix A: 3\n",
      "Enter the elements of matrix A:\n",
      "1 3 4\n",
      "2 5 7\n",
      "5 9 6\n",
      "Enter the number of rows for matrix B: 3\n",
      "Enter the number of columns for matrix B: 3\n",
      "Enter the elements of matrix B:\n",
      "1 0 0\n",
      "0 1 0\n",
      "0 0 1\n",
      "Result of matrix multiplication:\n",
      "[[1 3 4]\n",
      " [2 5 7]\n",
      " [5 9 6]]\n"
     ]
    }
   ],
   "source": [
    "# 30. Write a program to find the multiplication of two matrix.\n",
    "\n",
    "import numpy as np\n",
    "\n",
    "rows_A = int(input(\"Enter the number of rows for matrix A: \"))\n",
    "cols_A = int(input(\"Enter the number of columns for matrix A: \"))\n",
    "\n",
    "A = []\n",
    "\n",
    "print(\"Enter the elements of matrix A:\")\n",
    "for i in range(rows_A):\n",
    "    row = list(map(int, input().split()))\n",
    "    A.append(row)\n",
    "\n",
    "rows_B = int(input(\"Enter the number of rows for matrix B: \"))\n",
    "cols_B = int(input(\"Enter the number of columns for matrix B: \"))\n",
    "\n",
    "B = []\n",
    "\n",
    "print(\"Enter the elements of matrix B:\")\n",
    "for i in range(rows_B):\n",
    "    row = list(map(int, input().split()))\n",
    "    B.append(row)\n",
    "\n",
    "if cols_A != rows_B:\n",
    "    print(\"Matrix multiplication is not possible. Number of columns in A must be equal to the number of rows in B.\")\n",
    "else:\n",
    "    result = np.dot(np.array(A), np.array(B))\n",
    "    print(\"Result of matrix multiplication:\")\n",
    "    print(result)"
   ]
  },
  {
   "cell_type": "code",
   "execution_count": 74,
   "id": "0d19ed07",
   "metadata": {},
   "outputs": [
    {
     "name": "stdout",
     "output_type": "stream",
     "text": [
      "[4, 4, 9, 1, 3]\n"
     ]
    }
   ],
   "source": [
    "# 31. Write a python program to find the sum of digits till single digit.\n",
    "# For e.g.\n",
    "# Input: list = [121, 220, 12330, 78940, 235650]\n",
    "# Output: [4, 4, 9, 28, 21]🡪 [4, 4, 9, 10, 3]🡪 [4, 4, 9, 1, 3]\n",
    "\n",
    "lst = [121, 220, 12330, 78940, 235650]\n",
    "temp_list = []\n",
    "\n",
    "for item in lst:\n",
    "    string_item = str(item)\n",
    "    items = [int(i) for i in string_item]\n",
    "    temp_list.append(sum(items))\n",
    "    \n",
    "count = 0\n",
    "while count != len(lst):\n",
    "    temp_list1 = []\n",
    "    count = 0\n",
    "    for i in temp_list:\n",
    "        if len(str(i)) == 1:\n",
    "            temp_list1.append(i)\n",
    "            count += 1\n",
    "        else:\n",
    "            string_item = str(i)\n",
    "            items = [int(i) for i in string_item]\n",
    "            temp_list1.append(sum(items))\n",
    "            temp_list = temp_list1\n",
    "            \n",
    "print(temp_list)"
   ]
  },
  {
   "cell_type": "code",
   "execution_count": 41,
   "id": "c22c1667",
   "metadata": {},
   "outputs": [
    {
     "name": "stdout",
     "output_type": "stream",
     "text": [
      "Input third term of the series: 3\n",
      "Input 3rd last term: 3\n",
      "Input Sum of the series: 15\n",
      "Length of the series: 5\n",
      "Series:\n",
      "1 2 3 4 5\n"
     ]
    }
   ],
   "source": [
    "# 32. Write a Python program to print the length of the series and the series from the given 3rd term, 3rd last term, and the sum of a series.\n",
    "# Sample Data:\n",
    "# Input third term of the series: 3\n",
    "# Input 3rd last term: 3\n",
    "# Input Sum of the series: 15\n",
    "# Length of the series: 5\n",
    "# Series:\n",
    "# 1 2 3 4 5\n",
    "\n",
    "third = int(input(\"Input third term of the series: \"))\n",
    "third_last = int(input(\"Input 3rd last term: \"))\n",
    "series_sum = int(input(\"Input Sum of the series: \"))\n",
    "length = int(input(\"Length of the series: \"))\n",
    "\n",
    "lst = []\n",
    "\n",
    "for i in range(3):\n",
    "    lst.insert(0, third - i)\n",
    "        \n",
    "while True:\n",
    "    if len(lst) == length and sum(lst) == series_sum and lst[-3] == third_last:\n",
    "        break\n",
    "    else:\n",
    "        lst.append(lst[-1] + 1)\n",
    "print(\"Series:\")\n",
    "print(\" \".join(map(str, lst)))"
   ]
  },
  {
   "cell_type": "code",
   "execution_count": 39,
   "id": "452b2b09",
   "metadata": {},
   "outputs": [
    {
     "name": "stdout",
     "output_type": "stream",
     "text": [
      "Enter the first number: 10\n",
      "Enter the second number: 100\n",
      "Common divisors of 10 and 100: [1, 2, 5, 10]\n"
     ]
    }
   ],
   "source": [
    "# 33. Write a Python program to find common divisors between two numbers in a given pair.\n",
    "\n",
    "def find_common_divisors(num1, num2):\n",
    "    common_divisors = []\n",
    "\n",
    "    smaller_number = min(num1, num2)\n",
    "\n",
    "    for i in range(1, smaller_number + 1):\n",
    "        if num1 % i == 0 and num2 % i == 0:\n",
    "            common_divisors.append(i)\n",
    "\n",
    "    return common_divisors\n",
    "\n",
    "num1 = int(input(\"Enter the first number: \"))\n",
    "num2 = int(input(\"Enter the second number: \"))\n",
    "\n",
    "common_divisors = find_common_divisors(num1, num2)\n",
    "if common_divisors:\n",
    "    print(f\"Common divisors of {num1} and {num2}: {common_divisors}\")\n",
    "else:\n",
    "    print(f\"{num1} and {num2} have no common divisors.\")"
   ]
  },
  {
   "cell_type": "code",
   "execution_count": 2,
   "id": "6a4f2f42",
   "metadata": {},
   "outputs": [
    {
     "name": "stdout",
     "output_type": "stream",
     "text": [
      "Input number of sequence of numbers you want to input (0 to exit): 3\n",
      "Input numbers:\n",
      "2\n",
      "4\n",
      "6\n",
      "Maximum sum of the said contiguous subsequence: 12\n",
      "Input number of sequence of numbers you want to input (0 to exit): 0\n"
     ]
    }
   ],
   "source": [
    "# 34. Write a Python program to find the maximum sum of a contiguous subsequence from a given sequence of numbers a1, a2, a3, …. an. A subsequence of one element is also a continuous subsequence. \n",
    "# Input:\n",
    "# You can assume that 1 <= n <= 5000 and -100000 <= ai <= 100000.\n",
    "# Input numbers are separated by a space.\n",
    "# Input 0 to exit.\n",
    "# Input number of sequence of numbers you want to input (0 to exit):\n",
    "# 3\n",
    "# Input numbers:\n",
    "# 2\n",
    "# 4\n",
    "# 6\n",
    "# Maximum sum of the said contiguous subsequence: 12\n",
    "# Input number of sequence of numbers you want to input (0 to exit):\n",
    "# 0\n",
    "\n",
    "def max_contiguous_sum(nums):\n",
    "    max_sum = nums[0]\n",
    "    current_sum = nums[0]\n",
    "\n",
    "    for i in range(1, len(nums)):\n",
    "        current_sum = max(nums[i], current_sum + nums[i])\n",
    "        max_sum = max(max_sum, current_sum)\n",
    "\n",
    "    return max_sum\n",
    "\n",
    "while True:\n",
    "    n = int(input(\"Input number of sequence of numbers you want to input (0 to exit): \"))\n",
    "    if n == 0:\n",
    "        break\n",
    "\n",
    "    numbers = []\n",
    "    print(\"Input numbers:\")\n",
    "    for _ in range(n):\n",
    "        num = int(input())\n",
    "        numbers.append(num)\n",
    "\n",
    "    result = max_contiguous_sum(numbers)\n",
    "    print(\"Maximum sum of the said contiguous subsequence:\", result)"
   ]
  },
  {
   "cell_type": "code",
   "execution_count": 9,
   "id": "712b9f06",
   "metadata": {},
   "outputs": [
    {
     "name": "stdout",
     "output_type": "stream",
     "text": [
      "Input an integer created by 8 numbers from 0 to 9: 2345\n",
      "Difference between the largest and the smallest integer from the given integer: 3087\n"
     ]
    }
   ],
   "source": [
    "# 36. Write a Python program that determines the difference between the largest and smallest integers created by 8 numbers from 0 to 9. The number that can be rearranged shall start with 0 as in 00135668. \n",
    "# Input:\n",
    "# Input an integer created by 8 numbers from 0 to 9.\n",
    "# 2345\n",
    "# Difference between the largest and the smallest integer from the given integer:\n",
    "# 3087\n",
    "\n",
    "input_integer = input(\"Input an integer created by 8 numbers from 0 to 9: \")\n",
    "\n",
    "ascending_order = ''.join(sorted(input_integer))\n",
    "descending_order = ''.join(sorted(input_integer, reverse=True))\n",
    "\n",
    "smallest_integer = int(ascending_order)\n",
    "largest_integer = int(descending_order)\n",
    "\n",
    "difference = largest_integer - smallest_integer\n",
    "print(\"Difference between the largest and the smallest integer from the given integer:\", difference)"
   ]
  },
  {
   "cell_type": "code",
   "execution_count": 10,
   "id": "e781eb49",
   "metadata": {},
   "outputs": [
    {
     "name": "stdout",
     "output_type": "stream",
     "text": [
      "Input a number (n<=10000) to compute the sum (0 to exit): 25\n",
      "Sum of first 25 prime numbers: 1060\n",
      "Input a number (n<=10000) to compute the sum (0 to exit): 0\n"
     ]
    }
   ],
   "source": [
    "# 37. Write a Python program to compute the sum of the first n prime numbers. \n",
    "# Input:\n",
    "# n ( n<= 10000). Input 0 to exit the program.\n",
    "# Input a number (n<=10000) to compute the sum :(0 to exit)\n",
    "# 25\n",
    "# Sum of first 25 prime numbers:\n",
    "# 1060\n",
    "\n",
    "def is_prime(num):\n",
    "    if num <= 1:\n",
    "        return False\n",
    "    if num <= 3:\n",
    "        return True\n",
    "    if num % 2 == 0 or num % 3 == 0:\n",
    "        return False\n",
    "    i = 5\n",
    "    while i * i <= num:\n",
    "        if num % i == 0 or num % (i + 2) == 0:\n",
    "            return False\n",
    "        i += 6\n",
    "    return True\n",
    "\n",
    "def sum_of_first_n_primes(n):\n",
    "    prime_sum = 0\n",
    "    count = 0\n",
    "    num = 2\n",
    "    while count < n:\n",
    "        if is_prime(num):\n",
    "            prime_sum += num\n",
    "            count += 1\n",
    "        num += 1\n",
    "    return prime_sum\n",
    "\n",
    "while True:\n",
    "    n = int(input(\"Input a number (n<=10000) to compute the sum (0 to exit): \"))\n",
    "    if n == 0:\n",
    "        break\n",
    "    if n <= 10000:\n",
    "        result = sum_of_first_n_primes(n)\n",
    "        print(\"Sum of first\", n, \"prime numbers:\", result)\n",
    "    else:\n",
    "        print(\"Please enter a valid value for 'n' (<= 10000).\")"
   ]
  },
  {
   "cell_type": "code",
   "execution_count": 79,
   "id": "fa994efb",
   "metadata": {},
   "outputs": [],
   "source": [
    "# 38. Arrange integers (0 to 99) as narrow hilltop, as illustrated in Figure 1. Reading such data representing huge, when starting from the top and proceeding according to the next rule to the bottom. Write a Python program that compute the maximum value of the sum of the passing integers. \n",
    "# Input:\n",
    "# A series of integers separated by commas are given in diamonds. No spaces are included in each line. The input example corresponds to Figure 1. The number of lines of data is less than 100 lines.\n",
    "# Output:\n",
    "# The maximum value of the sum of integers passing according to the rule on one line.\n",
    "# Input the numbers (ctrl+d to exit):\n",
    "# 8\n",
    "# 4, 9\n",
    "# 9, 2, 1\n",
    "# 3, 8, 5, 5\n",
    "# 5, 6, 3, 7, 6\n",
    "# 3, 8, 5, 5\n",
    "# 9, 2, 1\n",
    "# 4, 9\n",
    "# 8\n",
    "# Maximum value of the sum of integers passing according to the rule on one line.\n",
    "# 64\n",
    "\n",
    "def read_input():\n",
    "    hilltop = []\n",
    "    try:\n",
    "        while True:\n",
    "            line = input().strip().split(',')\n",
    "            hilltop.append([int(num) for num in line])\n",
    "    except EOFError:\n",
    "        pass\n",
    "    return hilltop\n",
    "\n",
    "# Main function to find the maximum sum\n",
    "def find_max_sum(hilltop):\n",
    "    for i in range(len(hilltop) - 2, -1, -1):\n",
    "        for j in range(len(hilltop[i])):\n",
    "            hilltop[i][j] += max(hilltop[i + 1][j], hilltop[i + 1][j + 1])\n",
    "    return hilltop[0][0]\n",
    "\n",
    "# Input the numbers in the format specified (press Ctrl+D to exit)\n",
    "print(\"Input the numbers (Ctrl+D to exit):\")\n",
    "hill = read_input()\n",
    "\n",
    "# Calculate and print the maximum value of the sum of integers passing according to the rule\n",
    "max_sum = find_max_sum(hill)\n",
    "print(\"Maximum value of the sum of integers passing according to the rule on one line:\", max_sum)"
   ]
  },
  {
   "cell_type": "code",
   "execution_count": 46,
   "id": "9350a79a",
   "metadata": {},
   "outputs": [
    {
     "name": "stdout",
     "output_type": "stream",
     "text": [
      "Enter the positive number: (Exit --> 0) \n",
      "7\n",
      "True\n",
      "Enter the positive number: (Exit --> 0) \n",
      "932\n",
      "True\n",
      "Enter the positive number: (Exit --> 0) \n",
      "6\n",
      "False\n",
      "Enter the positive number: (Exit --> 0) \n",
      "0\n"
     ]
    }
   ],
   "source": [
    "# 39 .From Wikipedia, the free encyclopedia:\n",
    "# A happy number is defined by the following process:\n",
    "# Starting with any positive integer, replace the number by the sum of the squares of its digits, and repeat the process until the number equals 1 (where it will stay), or it loops endlessly in a cycle which does not include 1. Those numbers for which this process ends in 1 are happy numbers, while those that do not end in 1 are unhappy numbers.\n",
    "# Write a Python program to check whether a number is \"happy\" or not. \n",
    "# Sample Input:\n",
    "# (7)\n",
    "# (932)\n",
    "# (6)\n",
    "# Sample Output:\n",
    "# True\n",
    "# True\n",
    "# False\n",
    "\n",
    "\n",
    "while True:\n",
    "    n = int(input(\"Enter the positive number: (Exit --> 0) \\n\"))\n",
    "    if n == 0:\n",
    "        break\n",
    "    if n == 1:\n",
    "        print(True)\n",
    "    else:\n",
    "        seen_numbers = set()\n",
    "        square_sum = n\n",
    "        while square_sum != 1 and square_sum not in seen_numbers:\n",
    "            seen_numbers.add(square_sum)\n",
    "            num = str(square_sum)\n",
    "            square_sum = 0\n",
    "            for i in num:\n",
    "                square_sum += int(i)**2\n",
    "\n",
    "        if square_sum == 1:\n",
    "            print(True)\n",
    "        else:\n",
    "            print(False)"
   ]
  },
  {
   "cell_type": "code",
   "execution_count": 47,
   "id": "8cedc534",
   "metadata": {},
   "outputs": [
    {
     "name": "stdout",
     "output_type": "stream",
     "text": [
      "[1, 7, 10, 13, 19, 23, 28, 31, 32, 44]\n"
     ]
    }
   ],
   "source": [
    "# 40. from Wikipedia,\n",
    "# A happy number is defined by the following process:\n",
    "# Starting with any positive integer, replace the number by the sum of the squares of its digits, and repeat the process until the number equals 1 (where it will stay), or it loops endlessly in a cycle which does not include 1. Those numbers for which this process ends in 1 are happy numbers, while those that do not end in 1 are unhappy numbers.\n",
    "#       Write a Python program to find and print the first 10 happy numbers. \n",
    "# Sample Input:\n",
    "# [:10]\n",
    "# Sample Output:\n",
    "# [1, 7, 10, 13, 19, 23, 28, 31, 32, 44]\n",
    "\n",
    "def is_happy(num):\n",
    "    seen_numbers = set()\n",
    "    while num != 1 and num not in seen_numbers:\n",
    "        seen_numbers.add(num)\n",
    "        num = sum(int(i)**2 for i in str(num))\n",
    "    return num == 1\n",
    "\n",
    "def find_first_n_happy_numbers(n):\n",
    "    happy_numbers = []\n",
    "    num = 1\n",
    "    while len(happy_numbers) < n:\n",
    "        if is_happy(num):\n",
    "            happy_numbers.append(num)\n",
    "        num += 1\n",
    "    return happy_numbers\n",
    "\n",
    "n = 10\n",
    "\n",
    "result = find_first_n_happy_numbers(n)\n",
    "print(result)"
   ]
  },
  {
   "cell_type": "code",
   "execution_count": 49,
   "id": "5fff0b76",
   "metadata": {},
   "outputs": [
    {
     "name": "stdout",
     "output_type": "stream",
     "text": [
      "Enter a non-negative number: 100\n",
      "25\n"
     ]
    }
   ],
   "source": [
    "# 41. Write a Python program that counts the number of prime numbers that are less than a given non-negative number. \n",
    "# Sample Input:\n",
    "# (10)\n",
    "# (100)\n",
    "# Sample Output:\n",
    "# 4\n",
    "# 25\n",
    "\n",
    "def count_primes_less_than_n(n):\n",
    "    def is_prime(num):\n",
    "        if num < 2:\n",
    "            return False\n",
    "        for i in range(2, int(num**0.5) + 1):\n",
    "            if num % i == 0:\n",
    "                return False\n",
    "        return True\n",
    "\n",
    "    count = 0\n",
    "    for i in range(2, n):\n",
    "        if is_prime(i):\n",
    "            count += 1\n",
    "    return count\n",
    "\n",
    "user_input = int(input(\"Enter a non-negative number: \"))\n",
    "\n",
    "result = count_primes_less_than_n(user_input)\n",
    "print(result)"
   ]
  },
  {
   "cell_type": "code",
   "execution_count": 61,
   "id": "31607a47",
   "metadata": {},
   "outputs": [
    {
     "name": "stdout",
     "output_type": "stream",
     "text": [
      "Enter the Stock price of each day separated by comma: 224, 236, 247, 258, 259, 225\n",
      "The maximum profit in one transaction is: 35\n"
     ]
    }
   ],
   "source": [
    "#  42. The price of a given stock on each day is stored in an array.\n",
    "# Write a Python program to find the maximum profit in one transaction i.e., buy one and sell one share of the stock from the given price value of the said array. You cannot sell a stock before you buy one. \n",
    "# Input (Stock price of each day): [224, 236, 247, 258, 259, 225]\n",
    "# Output: 35\n",
    "# Explanation:\n",
    "# 236 - 224 = 12\n",
    "# 247 - 224 = 23\n",
    "# 258 - 224 = 34\n",
    "# 259 - 224 = 35\n",
    "# 225 - 224 = 1\n",
    "# 247 - 236 = 11\n",
    "# 258 - 236 = 22\n",
    "# 259 - 236 = 23\n",
    "# 225 - 236 = -11\n",
    "# 258 - 247 = 11\n",
    "# 259 - 247 = 12\n",
    "# 225 - 247 = -22\n",
    "# 259 - 258 = 1\n",
    "# 225 - 258 = -33\n",
    "# 225 - 259 = -34\n",
    "\n",
    "lst = list(map(int, input(\"Enter the Stock price of each day separated by comma: \").split(',')))\n",
    "\n",
    "num = 0\n",
    "for i in range(len(lst)):\n",
    "    for j in range(i, len(lst)):\n",
    "        total = lst[j] - lst[i]\n",
    "        if num < total:\n",
    "            num = total\n",
    "            \n",
    "print(\"The maximum profit in one transaction is:\", num)"
   ]
  },
  {
   "cell_type": "code",
   "execution_count": 9,
   "id": "9dfdfa79",
   "metadata": {},
   "outputs": [
    {
     "name": "stdout",
     "output_type": "stream",
     "text": [
      "1\n",
      "2\n",
      "3\n",
      "4\n",
      "8\n",
      "7\n",
      "6\n",
      "5\n",
      "0\n",
      "6\n",
      "2\n",
      "8\n",
      "2\n",
      "0\n",
      "3\n",
      "2\n"
     ]
    }
   ],
   "source": [
    "# 43. Write a Python program to print a given N by M matrix of numbers line by line in forward > backwards > forward >... order. \n",
    "# Input matrix:\n",
    "# [[1, 2, 3, 4],\n",
    "# [5, 6, 7, 8],\n",
    "# [0, 6, 2, 8],\n",
    "# [2, 3, 0, 2]]\n",
    "# Output:\n",
    "# 1\n",
    "# 2\n",
    "# 3\n",
    "# 4\n",
    "# 8\n",
    "# 7\n",
    "# 6\n",
    "# 5\n",
    "# 0\n",
    "# 6\n",
    "# 2\n",
    "# 8\n",
    "# 2\n",
    "# 0\n",
    "# 3\n",
    "# 2\n",
    "\n",
    "matrix =  [[1, 2, 3, 4],\n",
    "           [5, 6, 7, 8],\n",
    "           [0, 6, 2, 8],\n",
    "           [2, 3, 0, 2]]\n",
    "\n",
    "count = 1\n",
    "for i in matrix:\n",
    "    if count % 2 == 0:\n",
    "        lst = i[::-1]\n",
    "        for item in lst:\n",
    "            print(item)\n",
    "        count += 1\n",
    "    else:\n",
    "        lst = i\n",
    "        for item in lst:\n",
    "            print(item)\n",
    "        count += 1"
   ]
  },
  {
   "cell_type": "code",
   "execution_count": null,
   "id": "237a4372",
   "metadata": {},
   "outputs": [],
   "source": []
  }
 ],
 "metadata": {
  "kernelspec": {
   "display_name": "Python 3 (ipykernel)",
   "language": "python",
   "name": "python3"
  },
  "language_info": {
   "codemirror_mode": {
    "name": "ipython",
    "version": 3
   },
   "file_extension": ".py",
   "mimetype": "text/x-python",
   "name": "python",
   "nbconvert_exporter": "python",
   "pygments_lexer": "ipython3",
   "version": "3.10.9"
  }
 },
 "nbformat": 4,
 "nbformat_minor": 5
}
